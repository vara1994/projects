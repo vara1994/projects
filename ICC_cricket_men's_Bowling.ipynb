{
 "cells": [
  {
   "cell_type": "code",
   "execution_count": 2,
   "metadata": {},
   "outputs": [],
   "source": [
    "from bs4 import BeautifulSoup\n",
    "import requests"
   ]
  },
  {
   "cell_type": "code",
   "execution_count": 3,
   "metadata": {},
   "outputs": [
    {
     "data": {
      "text/plain": [
       "requests.models.Response"
      ]
     },
     "execution_count": 3,
     "metadata": {},
     "output_type": "execute_result"
    }
   ],
   "source": [
    "team=requests.get('https://www.icc-cricket.com/rankings/mens/player-rankings/test')\n",
    "type(team)"
   ]
  },
  {
   "cell_type": "code",
   "execution_count": 4,
   "metadata": {},
   "outputs": [
    {
     "data": {
      "text/plain": [
       "bs4.BeautifulSoup"
      ]
     },
     "execution_count": 4,
     "metadata": {},
     "output_type": "execute_result"
    }
   ],
   "source": [
    "soup=BeautifulSoup(team.text, 'html.parser')\n",
    "type(soup)"
   ]
  },
  {
   "cell_type": "code",
   "execution_count": 7,
   "metadata": {},
   "outputs": [
    {
     "data": {
      "text/plain": [
       "bs4.element.ResultSet"
      ]
     },
     "execution_count": 7,
     "metadata": {},
     "output_type": "execute_result"
    }
   ],
   "source": [
    "table=soup.find_all('div', class_='col-4 col-12-desk touch-scroll-list__element')\n",
    "type(table)"
   ]
  },
  {
   "cell_type": "code",
   "execution_count": 11,
   "metadata": {},
   "outputs": [
    {
     "name": "stdout",
     "output_type": "stream",
     "text": [
      "[<a class=\"rankings-block__banner-link\" href=\"/rankings/mens/player-rankings/1154\">\n",
      "<div class=\"rankings-block__top-player\">\n",
      "<div class=\"rankings-block__banner--pos\">\n",
      "                        1\n",
      "        <span class=\"ranking-pos no-change\"></span>\n",
      "</div>\n",
      "<div class=\"rankings-block__banner--player-info\">\n",
      "<div class=\"rankings-block__banner--name\">Ben Stokes</div>\n",
      "<div class=\"rankings-block__banner--nationality\">\n",
      "<div class=\"flag-15 ENG\"></div>\n",
      "<span class=\"rankings-block__banner--nation\"></span>ENG\n",
      "<div class=\"rankings-block__banner--rating\">427</div>\n",
      "</div>\n",
      "</div>\n",
      "<div class=\"rankings-block__player-image-container\">\n",
      "<img alt=\"\" class=\"rankings-block__player-image image-missing\" data-error=\"true\" data-player=\"1154\" data-size=\"130x150\" data-widget=\"player-image\" src=\"//resources.pulse.icc-cricket.com/players/130x150/Photo-Missing.png\"/>\n",
      "</div>\n",
      "</div>\n",
      "</a>, <a href=\"/rankings/mens/player-rankings/1075\">Jason Holder</a>, <a href=\"/rankings/mens/player-rankings/9\">Ravindra Jadeja</a>, <a href=\"/rankings/mens/player-rankings/201\">Shakib Al Hasan</a>, <a href=\"/rankings/mens/player-rankings/1616\">Kyle Jamieson</a>, <a href=\"/rankings/mens/player-rankings/8\">Ravichandran Ashwin</a>, <a href=\"/rankings/mens/player-rankings/490\">Mitchell Starc</a>, <a href=\"/rankings/mens/player-rankings/820\">Colin de Grandhomme</a>, <a href=\"/rankings/mens/player-rankings/967\">Chris Woakes</a>, <a href=\"/rankings/mens/player-rankings/488\">Pat Cummins</a>, <a class=\"btn\" href=\"/rankings/mens/player-rankings/test/all-time-all-rounder\">View Full Table</a>]\n"
     ]
    }
   ],
   "source": [
    "for atag in table:\n",
    "    A=atag.find_all('a')\n",
    "print(A)"
   ]
  },
  {
   "cell_type": "code",
   "execution_count": 23,
   "metadata": {},
   "outputs": [
    {
     "name": "stdout",
     "output_type": "stream",
     "text": [
      "[<tr class=\"table-head\">\n",
      "<th class=\"table-head__cell u-text-right\">Pos</th>\n",
      "<th class=\"table-head__cell\">Player</th>\n",
      "<th class=\"table-head__cell\">Team</th>\n",
      "<th class=\"table-head__cell u-text-right\">Rating</th>\n",
      "</tr>, <tr class=\"table-body\">\n",
      "<td class=\"table-body__cell table-body__cell--position u-text-right\">\n",
      "                                    2\n",
      "        <span class=\"ranking-pos no-change\"></span>\n",
      "</td>\n",
      "<td class=\"table-body__cell name\">\n",
      "<a href=\"/rankings/mens/player-rankings/1075\">Jason Holder</a>\n",
      "</td>\n",
      "<td class=\"table-body__cell nationality-logo\">\n",
      "<span class=\"flag-15 table-body_logo WI\"></span>\n",
      "<span class=\"table-body__logo-text\">WI</span>\n",
      "</td>\n",
      "<td class=\"table-body__cell u-text-right rating\">423</td>\n",
      "</tr>, <tr class=\"table-body\">\n",
      "<td class=\"table-body__cell table-body__cell--position u-text-right\">\n",
      "                                    3\n",
      "        <span class=\"ranking-pos no-change\"></span>\n",
      "</td>\n",
      "<td class=\"table-body__cell name\">\n",
      "<a href=\"/rankings/mens/player-rankings/9\">Ravindra Jadeja</a>\n",
      "</td>\n",
      "<td class=\"table-body__cell nationality-logo\">\n",
      "<span class=\"flag-15 table-body_logo IND\"></span>\n",
      "<span class=\"table-body__logo-text\">IND</span>\n",
      "</td>\n",
      "<td class=\"table-body__cell u-text-right rating\">419</td>\n",
      "</tr>, <tr class=\"table-body\">\n",
      "<td class=\"table-body__cell table-body__cell--position u-text-right\">\n",
      "                                    4\n",
      "        <span class=\"ranking-pos no-change\"></span>\n",
      "</td>\n",
      "<td class=\"table-body__cell name\">\n",
      "<a href=\"/rankings/mens/player-rankings/201\">Shakib Al Hasan</a>\n",
      "</td>\n",
      "<td class=\"table-body__cell nationality-logo\">\n",
      "<span class=\"flag-15 table-body_logo BAN\"></span>\n",
      "<span class=\"table-body__logo-text\">BAN</span>\n",
      "</td>\n",
      "<td class=\"table-body__cell u-text-right rating\">366</td>\n",
      "</tr>, <tr class=\"table-body\">\n",
      "<td class=\"table-body__cell table-body__cell--position u-text-right\">\n",
      "                                    5\n",
      "        <span class=\"ranking-pos no-change\"></span>\n",
      "</td>\n",
      "<td class=\"table-body__cell name\">\n",
      "<a href=\"/rankings/mens/player-rankings/1616\">Kyle Jamieson</a>\n",
      "</td>\n",
      "<td class=\"table-body__cell nationality-logo\">\n",
      "<span class=\"flag-15 table-body_logo NZ\"></span>\n",
      "<span class=\"table-body__logo-text\">NZ</span>\n",
      "</td>\n",
      "<td class=\"table-body__cell u-text-right rating\">293</td>\n",
      "</tr>, <tr class=\"table-body\">\n",
      "<td class=\"table-body__cell table-body__cell--position u-text-right\">\n",
      "                                    6\n",
      "        <span class=\"ranking-pos no-change\"></span>\n",
      "</td>\n",
      "<td class=\"table-body__cell name\">\n",
      "<a href=\"/rankings/mens/player-rankings/8\">Ravichandran Ashwin</a>\n",
      "</td>\n",
      "<td class=\"table-body__cell nationality-logo\">\n",
      "<span class=\"flag-15 table-body_logo IND\"></span>\n",
      "<span class=\"table-body__logo-text\">IND</span>\n",
      "</td>\n",
      "<td class=\"table-body__cell u-text-right rating\">281</td>\n",
      "</tr>, <tr class=\"table-body\">\n",
      "<td class=\"table-body__cell table-body__cell--position u-text-right\">\n",
      "                                    7\n",
      "        <span class=\"ranking-pos no-change\"></span>\n",
      "</td>\n",
      "<td class=\"table-body__cell name\">\n",
      "<a href=\"/rankings/mens/player-rankings/490\">Mitchell Starc</a>\n",
      "</td>\n",
      "<td class=\"table-body__cell nationality-logo\">\n",
      "<span class=\"flag-15 table-body_logo AUS\"></span>\n",
      "<span class=\"table-body__logo-text\">AUS</span>\n",
      "</td>\n",
      "<td class=\"table-body__cell u-text-right rating\">275</td>\n",
      "</tr>, <tr class=\"table-body\">\n",
      "<td class=\"table-body__cell table-body__cell--position u-text-right\">\n",
      "                                    8\n",
      "        <span class=\"ranking-pos no-change\"></span>\n",
      "</td>\n",
      "<td class=\"table-body__cell name\">\n",
      "<a href=\"/rankings/mens/player-rankings/820\">Colin de Grandhomme</a>\n",
      "</td>\n",
      "<td class=\"table-body__cell nationality-logo\">\n",
      "<span class=\"flag-15 table-body_logo NZ\"></span>\n",
      "<span class=\"table-body__logo-text\">NZ</span>\n",
      "</td>\n",
      "<td class=\"table-body__cell u-text-right rating\">258</td>\n",
      "</tr>, <tr class=\"table-body\">\n",
      "<td class=\"table-body__cell table-body__cell--position u-text-right\">\n",
      "                                      \n",
      "        <span class=\"ranking-pos no-change\"></span>\n",
      "</td>\n",
      "<td class=\"table-body__cell name\">\n",
      "<a href=\"/rankings/mens/player-rankings/967\">Chris Woakes</a>\n",
      "</td>\n",
      "<td class=\"table-body__cell nationality-logo\">\n",
      "<span class=\"flag-15 table-body_logo ENG\"></span>\n",
      "<span class=\"table-body__logo-text\">ENG</span>\n",
      "</td>\n",
      "<td class=\"table-body__cell u-text-right rating\">258</td>\n",
      "</tr>, <tr class=\"table-body\">\n",
      "<td class=\"table-body__cell table-body__cell--position u-text-right\">\n",
      "                                    10\n",
      "        <span class=\"ranking-pos no-change\"></span>\n",
      "</td>\n",
      "<td class=\"table-body__cell name\">\n",
      "<a href=\"/rankings/mens/player-rankings/488\">Pat Cummins</a>\n",
      "</td>\n",
      "<td class=\"table-body__cell nationality-logo\">\n",
      "<span class=\"flag-15 table-body_logo AUS\"></span>\n",
      "<span class=\"table-body__logo-text\">AUS</span>\n",
      "</td>\n",
      "<td class=\"table-body__cell u-text-right rating\">249</td>\n",
      "</tr>]\n"
     ]
    }
   ],
   "source": [
    "for x in table:\n",
    "    rows = x.find_all('tr') #find all tr tag(rows)\n",
    "print(rows)"
   ]
  },
  {
   "cell_type": "code",
   "execution_count": 24,
   "metadata": {},
   "outputs": [
    {
     "name": "stdout",
     "output_type": "stream",
     "text": [
      "[]\n",
      "['2', 'Jason Holder', 'WI', '423']\n",
      "['3', 'Ravindra Jadeja', 'IND', '419']\n",
      "['4', 'Shakib Al Hasan', 'BAN', '366']\n",
      "['5', 'Kyle Jamieson', 'NZ', '293']\n",
      "['6', 'Ravichandran Ashwin', 'IND', '281']\n",
      "['7', 'Mitchell Starc', 'AUS', '275']\n",
      "['8', 'Colin de Grandhomme', 'NZ', '258']\n",
      "['', 'Chris Woakes', 'ENG', '258']\n",
      "['10', 'Pat Cummins', 'AUS', '249']\n"
     ]
    }
   ],
   "source": [
    "for tr in rows:\n",
    "    data=[]\n",
    "    cols = tr.find_all('td') #find all td tags(columns)\n",
    "    for td in cols:\n",
    "        data.append(td.text.strip()) \n",
    "    print (data)"
   ]
  },
  {
   "cell_type": "code",
   "execution_count": null,
   "metadata": {},
   "outputs": [],
   "source": []
  },
  {
   "cell_type": "code",
   "execution_count": null,
   "metadata": {},
   "outputs": [],
   "source": []
  },
  {
   "cell_type": "code",
   "execution_count": null,
   "metadata": {},
   "outputs": [],
   "source": []
  },
  {
   "cell_type": "code",
   "execution_count": null,
   "metadata": {},
   "outputs": [],
   "source": []
  },
  {
   "cell_type": "code",
   "execution_count": null,
   "metadata": {},
   "outputs": [],
   "source": [
    "table-body__cell table-body__cell--position u-text-right"
   ]
  },
  {
   "cell_type": "code",
   "execution_count": null,
   "metadata": {},
   "outputs": [],
   "source": [
    "rankings-block__banner--player-info"
   ]
  },
  {
   "cell_type": "code",
   "execution_count": null,
   "metadata": {},
   "outputs": [],
   "source": [
    "https://www.icc-cricket.com/rankings/mens/player-rankings/test"
   ]
  }
 ],
 "metadata": {
  "kernelspec": {
   "display_name": "Python 3",
   "language": "python",
   "name": "python3"
  },
  "language_info": {
   "codemirror_mode": {
    "name": "ipython",
    "version": 3
   },
   "file_extension": ".py",
   "mimetype": "text/x-python",
   "name": "python",
   "nbconvert_exporter": "python",
   "pygments_lexer": "ipython3",
   "version": "3.8.5"
  }
 },
 "nbformat": 4,
 "nbformat_minor": 4
}
