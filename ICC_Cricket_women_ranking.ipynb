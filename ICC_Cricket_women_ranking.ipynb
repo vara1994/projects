{
 "cells": [
  {
   "cell_type": "code",
   "execution_count": 1,
   "metadata": {},
   "outputs": [],
   "source": [
    "from bs4 import BeautifulSoup\n",
    "import requests"
   ]
  },
  {
   "cell_type": "code",
   "execution_count": 7,
   "metadata": {},
   "outputs": [
    {
     "data": {
      "text/plain": [
       "requests.models.Response"
      ]
     },
     "execution_count": 7,
     "metadata": {},
     "output_type": "execute_result"
    }
   ],
   "source": [
    "team=requests.get('https://www.icc-cricket.com/rankings/womens/player-rankings/odi'.format(x))\n",
    "type(team)"
   ]
  },
  {
   "cell_type": "code",
   "execution_count": 3,
   "metadata": {},
   "outputs": [
    {
     "data": {
      "text/plain": [
       "bs4.BeautifulSoup"
      ]
     },
     "execution_count": 3,
     "metadata": {},
     "output_type": "execute_result"
    }
   ],
   "source": [
    "soup=BeautifulSoup(team.text, 'html.parser')\n",
    "type(soup)"
   ]
  },
  {
   "cell_type": "code",
   "execution_count": 4,
   "metadata": {},
   "outputs": [
    {
     "data": {
      "text/plain": [
       "bs4.element.ResultSet"
      ]
     },
     "execution_count": 4,
     "metadata": {},
     "output_type": "execute_result"
    }
   ],
   "source": [
    "table=soup.find_all('table', class_='table')\n",
    "type(table)"
   ]
  },
  {
   "cell_type": "code",
   "execution_count": 5,
   "metadata": {},
   "outputs": [
    {
     "name": "stdout",
     "output_type": "stream",
     "text": [
      "[<tr class=\"table-head\">\n",
      "<th class=\"table-head__cell u-text-right\">Pos</th>\n",
      "<th class=\"table-head__cell\">Player</th>\n",
      "<th class=\"table-head__cell\">Team</th>\n",
      "<th class=\"table-head__cell u-text-right\">Rating</th>\n",
      "</tr>, <tr class=\"table-body\">\n",
      "<td class=\"table-body__cell table-body__cell--position u-text-right\">\n",
      "                                    2\n",
      "        <span class=\"ranking-pos up\">\n",
      "<svg class=\"icon\">\n",
      "<use xlink:href=\"/resources/prod/v8.15.0/i/svg-output/icons.svg#icn-chevron-up\" xmlns:xlink=\"http://www.w3.org/1999/xlink\"></use>\n",
      "</svg>\n",
      "<span class=\"ranking-pos__tooltip\">This player has moved up in the rankings since the previous rankings update</span>\n",
      "</span>\n",
      "</td>\n",
      "<td class=\"table-body__cell name\">\n",
      "<a href=\"/rankings/womens/player-rankings/573\">Stafanie Taylor</a>\n",
      "</td>\n",
      "<td class=\"table-body__cell nationality-logo\">\n",
      "<span class=\"flag-15 table-body_logo WI\"></span>\n",
      "<span class=\"table-body__logo-text\">WI</span>\n",
      "</td>\n",
      "<td class=\"table-body__cell u-text-right rating\">410</td>\n",
      "</tr>, <tr class=\"table-body\">\n",
      "<td class=\"table-body__cell table-body__cell--position u-text-right\">\n",
      "                                    3\n",
      "        <span class=\"ranking-pos down\">\n",
      "<svg class=\"icon\">\n",
      "<use xlink:href=\"/resources/prod/v8.15.0/i/svg-output/icons.svg#icn-chevron-down\" xmlns:xlink=\"http://www.w3.org/1999/xlink\"></use>\n",
      "</svg>\n",
      "<span class=\"ranking-pos__tooltip\">This player has moved down in the rankings since the previous rankings update</span>\n",
      "</span>\n",
      "</td>\n",
      "<td class=\"table-body__cell name\">\n",
      "<a href=\"/rankings/womens/player-rankings/424\">Marizanne Kapp</a>\n",
      "</td>\n",
      "<td class=\"table-body__cell nationality-logo\">\n",
      "<span class=\"flag-15 table-body_logo SA\"></span>\n",
      "<span class=\"table-body__logo-text\">SA</span>\n",
      "</td>\n",
      "<td class=\"table-body__cell u-text-right rating\">396</td>\n",
      "</tr>, <tr class=\"table-body\">\n",
      "<td class=\"table-body__cell table-body__cell--position u-text-right\">\n",
      "                                    4\n",
      "        <span class=\"ranking-pos no-change\"></span>\n",
      "</td>\n",
      "<td class=\"table-body__cell name\">\n",
      "<a href=\"/rankings/womens/player-rankings/3192\">Deepti Sharma</a>\n",
      "</td>\n",
      "<td class=\"table-body__cell nationality-logo\">\n",
      "<span class=\"flag-15 table-body_logo IND\"></span>\n",
      "<span class=\"table-body__logo-text\">IND</span>\n",
      "</td>\n",
      "<td class=\"table-body__cell u-text-right rating\">359</td>\n",
      "</tr>, <tr class=\"table-body\">\n",
      "<td class=\"table-body__cell table-body__cell--position u-text-right\">\n",
      "                                    5\n",
      "        <span class=\"ranking-pos up\">\n",
      "<svg class=\"icon\">\n",
      "<use xlink:href=\"/resources/prod/v8.15.0/i/svg-output/icons.svg#icn-chevron-up\" xmlns:xlink=\"http://www.w3.org/1999/xlink\"></use>\n",
      "</svg>\n",
      "<span class=\"ranking-pos__tooltip\">This player has moved up in the rankings since the previous rankings update</span>\n",
      "</span>\n",
      "</td>\n",
      "<td class=\"table-body__cell name\">\n",
      "<a href=\"/rankings/womens/player-rankings/468\">Jess Jonassen</a>\n",
      "</td>\n",
      "<td class=\"table-body__cell nationality-logo\">\n",
      "<span class=\"flag-15 table-body_logo AUS\"></span>\n",
      "<span class=\"table-body__logo-text\">AUS</span>\n",
      "</td>\n",
      "<td class=\"table-body__cell u-text-right rating\">301</td>\n",
      "</tr>, <tr class=\"table-body\">\n",
      "<td class=\"table-body__cell table-body__cell--position u-text-right\">\n",
      "                                    6\n",
      "        <span class=\"ranking-pos down\">\n",
      "<svg class=\"icon\">\n",
      "<use xlink:href=\"/resources/prod/v8.15.0/i/svg-output/icons.svg#icn-chevron-down\" xmlns:xlink=\"http://www.w3.org/1999/xlink\"></use>\n",
      "</svg>\n",
      "<span class=\"ranking-pos__tooltip\">This player has moved down in the rankings since the previous rankings update</span>\n",
      "</span>\n",
      "</td>\n",
      "<td class=\"table-body__cell name\">\n",
      "<a href=\"/rankings/womens/player-rankings/430\">Dane van Niekerk</a>\n",
      "</td>\n",
      "<td class=\"table-body__cell nationality-logo\">\n",
      "<span class=\"flag-15 table-body_logo SA\"></span>\n",
      "<span class=\"table-body__logo-text\">SA</span>\n",
      "</td>\n",
      "<td class=\"table-body__cell u-text-right rating\">297</td>\n",
      "</tr>, <tr class=\"table-body\">\n",
      "<td class=\"table-body__cell table-body__cell--position u-text-right\">\n",
      "                                    7\n",
      "        <span class=\"ranking-pos no-change\"></span>\n",
      "</td>\n",
      "<td class=\"table-body__cell name\">\n",
      "<a href=\"/rankings/womens/player-rankings/478\">Sophie Devine</a>\n",
      "</td>\n",
      "<td class=\"table-body__cell nationality-logo\">\n",
      "<span class=\"flag-15 table-body_logo NZ\"></span>\n",
      "<span class=\"table-body__logo-text\">NZ</span>\n",
      "</td>\n",
      "<td class=\"table-body__cell u-text-right rating\">289</td>\n",
      "</tr>, <tr class=\"table-body\">\n",
      "<td class=\"table-body__cell table-body__cell--position u-text-right\">\n",
      "                                    8\n",
      "        <span class=\"ranking-pos no-change\"></span>\n",
      "</td>\n",
      "<td class=\"table-body__cell name\">\n",
      "<a href=\"/rankings/womens/player-rankings/1800\">Natalie Sciver</a>\n",
      "</td>\n",
      "<td class=\"table-body__cell nationality-logo\">\n",
      "<span class=\"flag-15 table-body_logo ENG\"></span>\n",
      "<span class=\"table-body__logo-text\">ENG</span>\n",
      "</td>\n",
      "<td class=\"table-body__cell u-text-right rating\">273</td>\n",
      "</tr>, <tr class=\"table-body\">\n",
      "<td class=\"table-body__cell table-body__cell--position u-text-right\">\n",
      "                                    9\n",
      "        <span class=\"ranking-pos no-change\"></span>\n",
      "</td>\n",
      "<td class=\"table-body__cell name\">\n",
      "<a href=\"/rankings/womens/player-rankings/1813\">Shikha Pandey</a>\n",
      "</td>\n",
      "<td class=\"table-body__cell nationality-logo\">\n",
      "<span class=\"flag-15 table-body_logo IND\"></span>\n",
      "<span class=\"table-body__logo-text\">IND</span>\n",
      "</td>\n",
      "<td class=\"table-body__cell u-text-right rating\">250</td>\n",
      "</tr>, <tr class=\"table-body\">\n",
      "<td class=\"table-body__cell table-body__cell--position u-text-right\">\n",
      "                                    10\n",
      "        <span class=\"ranking-pos no-change\"></span>\n",
      "</td>\n",
      "<td class=\"table-body__cell name\">\n",
      "<a href=\"/rankings/womens/player-rankings/547\">Katherine Brunt</a>\n",
      "</td>\n",
      "<td class=\"table-body__cell nationality-logo\">\n",
      "<span class=\"flag-15 table-body_logo ENG\"></span>\n",
      "<span class=\"table-body__logo-text\">ENG</span>\n",
      "</td>\n",
      "<td class=\"table-body__cell u-text-right rating\">232</td>\n",
      "</tr>]\n"
     ]
    }
   ],
   "source": [
    "for x in table:\n",
    "    rows = x.find_all('tr') #find all tr tag(rows)\n",
    "print(rows)"
   ]
  },
  {
   "cell_type": "code",
   "execution_count": 10,
   "metadata": {},
   "outputs": [
    {
     "name": "stdout",
     "output_type": "stream",
     "text": [
      "[]\n",
      "['2\\n        \\n\\n\\n\\nThis player has moved up in the rankings since the previous rankings update', 'Stafanie Taylor', 'WI', '410']\n",
      "['3\\n        \\n\\n\\n\\nThis player has moved down in the rankings since the previous rankings update', 'Marizanne Kapp', 'SA', '396']\n",
      "['4', 'Deepti Sharma', 'IND', '359']\n",
      "['5\\n        \\n\\n\\n\\nThis player has moved up in the rankings since the previous rankings update', 'Jess Jonassen', 'AUS', '301']\n",
      "['6\\n        \\n\\n\\n\\nThis player has moved down in the rankings since the previous rankings update', 'Dane van Niekerk', 'SA', '297']\n",
      "['7', 'Sophie Devine', 'NZ', '289']\n",
      "['8', 'Natalie Sciver', 'ENG', '273']\n",
      "['9', 'Shikha Pandey', 'IND', '250']\n",
      "['10', 'Katherine Brunt', 'ENG', '232']\n"
     ]
    }
   ],
   "source": [
    "for tr in rows:\n",
    "    data=[]\n",
    "    cols = tr.find_all('td') #find all td tags(columns)\n",
    "    for td in cols:\n",
    "        data.append(td.text.strip()) \n",
    "    print (data)"
   ]
  },
  {
   "cell_type": "code",
   "execution_count": null,
   "metadata": {},
   "outputs": [],
   "source": []
  }
 ],
 "metadata": {
  "kernelspec": {
   "display_name": "Python 3",
   "language": "python",
   "name": "python3"
  },
  "language_info": {
   "codemirror_mode": {
    "name": "ipython",
    "version": 3
   },
   "file_extension": ".py",
   "mimetype": "text/x-python",
   "name": "python",
   "nbconvert_exporter": "python",
   "pygments_lexer": "ipython3",
   "version": "3.8.5"
  }
 },
 "nbformat": 4,
 "nbformat_minor": 4
}
