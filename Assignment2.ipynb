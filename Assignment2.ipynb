{
 "cells": [
  {
   "cell_type": "code",
   "execution_count": 1,
   "metadata": {},
   "outputs": [],
   "source": [
    "import selenium\n",
    "import pandas as pd\n",
    "\n",
    "from selenium import webdriver"
   ]
  },
  {
   "cell_type": "code",
   "execution_count": 3,
   "metadata": {},
   "outputs": [],
   "source": [
    "driver= webdriver.Chrome(\"D:\\\\Softwares\\\\chromedriver_win32\\\\chromedriver.exe\")"
   ]
  },
  {
   "cell_type": "code",
   "execution_count": 4,
   "metadata": {},
   "outputs": [],
   "source": [
    "driver.get('https://www.naukri.com/')"
   ]
  },
  {
   "cell_type": "code",
   "execution_count": 5,
   "metadata": {},
   "outputs": [],
   "source": [
    "Search=driver.find_element_by_xpath(\"//input[@placeholder='Skills, Designations, Companies']\")\n",
    "Search.send_keys('Data Analyst')\n",
    "Location=driver.find_element_by_id('qsb-location-sugg')\n",
    "Location.send_keys('Bangalore')\n",
    "Search_button=driver.find_element_by_xpath('//div[@class=\"search-btn\"]/button')\n",
    "Search_button.click()\n"
   ]
  },
  {
   "cell_type": "code",
   "execution_count": 6,
   "metadata": {},
   "outputs": [
    {
     "name": "stdout",
     "output_type": "stream",
     "text": [
      "https://www.naukri.com/data-analyst-jobs-in-bangalore?k=data%20analyst&l=bangalore\n"
     ]
    }
   ],
   "source": [
    "Url=driver.current_url\n",
    "print(Url)"
   ]
  },
  {
   "cell_type": "code",
   "execution_count": 7,
   "metadata": {},
   "outputs": [],
   "source": [
    "driver.get(Url)"
   ]
  },
  {
   "cell_type": "code",
   "execution_count": 8,
   "metadata": {},
   "outputs": [],
   "source": [
    "job_title=[]\n",
    "company_name=[]\n",
    "location_List=[]\n",
    "experience_List=[]"
   ]
  },
  {
   "cell_type": "code",
   "execution_count": 9,
   "metadata": {},
   "outputs": [
    {
     "data": {
      "text/plain": [
       "[<selenium.webdriver.remote.webelement.WebElement (session=\"a8b163264fe2a9ce6976b472b883e6f4\", element=\"5cfdd812-5a15-45e7-80ab-c5743a815279\")>,\n",
       " <selenium.webdriver.remote.webelement.WebElement (session=\"a8b163264fe2a9ce6976b472b883e6f4\", element=\"caccc8f1-15a3-4882-8394-0e91e97053c7\")>,\n",
       " <selenium.webdriver.remote.webelement.WebElement (session=\"a8b163264fe2a9ce6976b472b883e6f4\", element=\"c5edf487-befd-40f2-848c-4918f756461c\")>,\n",
       " <selenium.webdriver.remote.webelement.WebElement (session=\"a8b163264fe2a9ce6976b472b883e6f4\", element=\"53cd3c6b-3462-47a2-91ae-12640495b4a6\")>]"
      ]
     },
     "execution_count": 9,
     "metadata": {},
     "output_type": "execute_result"
    }
   ],
   "source": [
    "title_tags=driver.find_elements_by_xpath(\"//a[@class='title fw500 ellipsis']\")\n",
    "title_tags[:4]"
   ]
  },
  {
   "cell_type": "code",
   "execution_count": 10,
   "metadata": {},
   "outputs": [
    {
     "data": {
      "text/plain": [
       "['MIS/ Data Analyst-(SQL,Automation,Excel/PowerBI,Dashboards) - Contract',\n",
       " 'Data Analyst - SAP',\n",
       " 'Hiring Data Analysts on Contract',\n",
       " 'Senior Data Analyst']"
      ]
     },
     "execution_count": 10,
     "metadata": {},
     "output_type": "execute_result"
    }
   ],
   "source": [
    "for i in title_tags:\n",
    "    title=i.text\n",
    "    job_title.append(title)\n",
    "job_title[:4]"
   ]
  },
  {
   "cell_type": "code",
   "execution_count": 11,
   "metadata": {},
   "outputs": [
    {
     "data": {
      "text/plain": [
       "[<selenium.webdriver.remote.webelement.WebElement (session=\"a8b163264fe2a9ce6976b472b883e6f4\", element=\"24105050-91ea-4f51-8476-a4b038c1bf12\")>,\n",
       " <selenium.webdriver.remote.webelement.WebElement (session=\"a8b163264fe2a9ce6976b472b883e6f4\", element=\"974a872a-dcca-4eb0-acbe-fb7c9d42aae9\")>,\n",
       " <selenium.webdriver.remote.webelement.WebElement (session=\"a8b163264fe2a9ce6976b472b883e6f4\", element=\"fca9d0bf-428b-4641-b2d0-09a5fa71f33c\")>,\n",
       " <selenium.webdriver.remote.webelement.WebElement (session=\"a8b163264fe2a9ce6976b472b883e6f4\", element=\"55abc673-7802-46a4-b571-dae64a3b348d\")>]"
      ]
     },
     "execution_count": 11,
     "metadata": {},
     "output_type": "execute_result"
    }
   ],
   "source": [
    "company_tag=driver.find_elements_by_xpath('//a[@class=\"subTitle ellipsis fleft\"]')\n",
    "company_tag[:4]"
   ]
  },
  {
   "cell_type": "code",
   "execution_count": 12,
   "metadata": {},
   "outputs": [
    {
     "data": {
      "text/plain": [
       "['Flipkart Internet Private Limited',\n",
       " 'Boston Scientific Corporation',\n",
       " 'Flipkart Internet Private Limited',\n",
       " 'Schneider Electric',\n",
       " 'Philips India Limited',\n",
       " 'Mindtree Limited',\n",
       " 'IBM India Pvt. Limited',\n",
       " 'RANDSTAD INDIA PVT LTD',\n",
       " 'Outsource Big Data',\n",
       " 'Capgemini Technology Services India Limited',\n",
       " 'Emagine People Technologies Private Limited']"
      ]
     },
     "execution_count": 12,
     "metadata": {},
     "output_type": "execute_result"
    }
   ],
   "source": [
    "for i in company_tag:\n",
    "    company_names=i.text\n",
    "    company_name.append(company_names)\n",
    "company_name[:11]"
   ]
  },
  {
   "cell_type": "code",
   "execution_count": 13,
   "metadata": {},
   "outputs": [
    {
     "data": {
      "text/plain": [
       "[<selenium.webdriver.remote.webelement.WebElement (session=\"a8b163264fe2a9ce6976b472b883e6f4\", element=\"c0d2ce58-b197-4f91-9f9c-e69b45f9a73b\")>,\n",
       " <selenium.webdriver.remote.webelement.WebElement (session=\"a8b163264fe2a9ce6976b472b883e6f4\", element=\"e3479160-0600-4103-b905-2bd80e7a7faa\")>,\n",
       " <selenium.webdriver.remote.webelement.WebElement (session=\"a8b163264fe2a9ce6976b472b883e6f4\", element=\"978f29b8-786d-4542-a6cf-aa62b598153d\")>,\n",
       " <selenium.webdriver.remote.webelement.WebElement (session=\"a8b163264fe2a9ce6976b472b883e6f4\", element=\"62f93b0c-813a-482a-9fdb-83cf0ca90f88\")>]"
      ]
     },
     "execution_count": 13,
     "metadata": {},
     "output_type": "execute_result"
    }
   ],
   "source": [
    "Location_tag=driver.find_elements_by_xpath('//li[@class=\"fleft grey-text br2 placeHolderLi location\"]')\n",
    "Location_tag[:4]"
   ]
  },
  {
   "cell_type": "code",
   "execution_count": 14,
   "metadata": {},
   "outputs": [
    {
     "data": {
      "text/plain": [
       "['Bengaluru',\n",
       " 'Pune, Delhi, Bengaluru, Gurgaon',\n",
       " 'Bengaluru',\n",
       " 'Bengaluru / Bangalore',\n",
       " 'Bengaluru',\n",
       " 'Chennai, Pune, Bengaluru, Hyderabad',\n",
       " 'Bengaluru',\n",
       " 'Bengaluru',\n",
       " 'Bengaluru',\n",
       " 'Bengaluru',\n",
       " 'Chennai, Bengaluru']"
      ]
     },
     "execution_count": 14,
     "metadata": {},
     "output_type": "execute_result"
    }
   ],
   "source": [
    "for i in Location_tag:\n",
    "    location=i.text\n",
    "    location_List.append(location)\n",
    "location_List[:11]"
   ]
  },
  {
   "cell_type": "code",
   "execution_count": 15,
   "metadata": {},
   "outputs": [
    {
     "data": {
      "text/plain": [
       "[<selenium.webdriver.remote.webelement.WebElement (session=\"a8b163264fe2a9ce6976b472b883e6f4\", element=\"22b3fdbb-04fb-4c35-8747-5ef4473f4363\")>,\n",
       " <selenium.webdriver.remote.webelement.WebElement (session=\"a8b163264fe2a9ce6976b472b883e6f4\", element=\"194f5b11-f524-4118-a92d-9da567dbb692\")>,\n",
       " <selenium.webdriver.remote.webelement.WebElement (session=\"a8b163264fe2a9ce6976b472b883e6f4\", element=\"109639be-123e-47be-98e4-0a169c2d3005\")>,\n",
       " <selenium.webdriver.remote.webelement.WebElement (session=\"a8b163264fe2a9ce6976b472b883e6f4\", element=\"451778a2-649a-48e5-9203-8f0214032c30\")>]"
      ]
     },
     "execution_count": 15,
     "metadata": {},
     "output_type": "execute_result"
    }
   ],
   "source": [
    "\n",
    "\n",
    "experience_tag=driver.find_elements_by_xpath('//li[@class=\"fleft grey-text br2 placeHolderLi experience\"]')\n",
    "experience_tag[:4]"
   ]
  },
  {
   "cell_type": "code",
   "execution_count": 16,
   "metadata": {},
   "outputs": [
    {
     "data": {
      "text/plain": [
       "['1-4 Yrs',\n",
       " '3-5 Yrs',\n",
       " '2-5 Yrs',\n",
       " '2-5 Yrs',\n",
       " '2-4 Yrs',\n",
       " '5-9 Yrs',\n",
       " '2-4 Yrs',\n",
       " '2-4 Yrs',\n",
       " '0-1 Yrs',\n",
       " '4-6 Yrs',\n",
       " '0-2 Yrs']"
      ]
     },
     "execution_count": 16,
     "metadata": {},
     "output_type": "execute_result"
    }
   ],
   "source": [
    "for i in experience_tag:\n",
    "    experience=i.text\n",
    "    experience_List.append(experience)\n",
    "experience_List[:11]\n",
    "\n",
    "\n"
   ]
  },
  {
   "cell_type": "code",
   "execution_count": 17,
   "metadata": {},
   "outputs": [],
   "source": [
    "driver.close()"
   ]
  },
  {
   "cell_type": "code",
   "execution_count": 18,
   "metadata": {},
   "outputs": [
    {
     "data": {
      "text/html": [
       "<div>\n",
       "<style scoped>\n",
       "    .dataframe tbody tr th:only-of-type {\n",
       "        vertical-align: middle;\n",
       "    }\n",
       "\n",
       "    .dataframe tbody tr th {\n",
       "        vertical-align: top;\n",
       "    }\n",
       "\n",
       "    .dataframe thead th {\n",
       "        text-align: right;\n",
       "    }\n",
       "</style>\n",
       "<table border=\"1\" class=\"dataframe\">\n",
       "  <thead>\n",
       "    <tr style=\"text-align: right;\">\n",
       "      <th></th>\n",
       "      <th>Job Title</th>\n",
       "      <th>Company Name</th>\n",
       "      <th>Job Location</th>\n",
       "      <th>Experience</th>\n",
       "    </tr>\n",
       "  </thead>\n",
       "  <tbody>\n",
       "    <tr>\n",
       "      <th>0</th>\n",
       "      <td>MIS/ Data Analyst-(SQL,Automation,Excel/PowerB...</td>\n",
       "      <td>Flipkart Internet Private Limited</td>\n",
       "      <td>Bengaluru</td>\n",
       "      <td>1-4 Yrs</td>\n",
       "    </tr>\n",
       "    <tr>\n",
       "      <th>1</th>\n",
       "      <td>Data Analyst - SAP</td>\n",
       "      <td>Boston Scientific Corporation</td>\n",
       "      <td>Pune, Delhi, Bengaluru, Gurgaon</td>\n",
       "      <td>3-5 Yrs</td>\n",
       "    </tr>\n",
       "    <tr>\n",
       "      <th>2</th>\n",
       "      <td>Hiring Data Analysts on Contract</td>\n",
       "      <td>Flipkart Internet Private Limited</td>\n",
       "      <td>Bengaluru</td>\n",
       "      <td>2-5 Yrs</td>\n",
       "    </tr>\n",
       "    <tr>\n",
       "      <th>3</th>\n",
       "      <td>Senior Data Analyst</td>\n",
       "      <td>Schneider Electric</td>\n",
       "      <td>Bengaluru / Bangalore</td>\n",
       "      <td>2-5 Yrs</td>\n",
       "    </tr>\n",
       "    <tr>\n",
       "      <th>4</th>\n",
       "      <td>Security Data Analyst</td>\n",
       "      <td>Philips India Limited</td>\n",
       "      <td>Bengaluru</td>\n",
       "      <td>2-4 Yrs</td>\n",
       "    </tr>\n",
       "  </tbody>\n",
       "</table>\n",
       "</div>"
      ],
      "text/plain": [
       "                                           Job Title  \\\n",
       "0  MIS/ Data Analyst-(SQL,Automation,Excel/PowerB...   \n",
       "1                                 Data Analyst - SAP   \n",
       "2                   Hiring Data Analysts on Contract   \n",
       "3                                Senior Data Analyst   \n",
       "4                              Security Data Analyst   \n",
       "\n",
       "                        Company Name                     Job Location  \\\n",
       "0  Flipkart Internet Private Limited                        Bengaluru   \n",
       "1      Boston Scientific Corporation  Pune, Delhi, Bengaluru, Gurgaon   \n",
       "2  Flipkart Internet Private Limited                        Bengaluru   \n",
       "3                 Schneider Electric            Bengaluru / Bangalore   \n",
       "4              Philips India Limited                        Bengaluru   \n",
       "\n",
       "  Experience  \n",
       "0    1-4 Yrs  \n",
       "1    3-5 Yrs  \n",
       "2    2-5 Yrs  \n",
       "3    2-5 Yrs  \n",
       "4    2-4 Yrs  "
      ]
     },
     "execution_count": 18,
     "metadata": {},
     "output_type": "execute_result"
    }
   ],
   "source": [
    "data=pd.DataFrame({\"Job Title\":job_title,\n",
    "                   \"Company Name\":company_name, \n",
    "                   \"Job Location\":location_List, \n",
    "                   \"Experience\":experience_List})\n",
    "data.head()"
   ]
  },
  {
   "cell_type": "code",
   "execution_count": 19,
   "metadata": {},
   "outputs": [
    {
     "data": {
      "text/html": [
       "<div>\n",
       "<style scoped>\n",
       "    .dataframe tbody tr th:only-of-type {\n",
       "        vertical-align: middle;\n",
       "    }\n",
       "\n",
       "    .dataframe tbody tr th {\n",
       "        vertical-align: top;\n",
       "    }\n",
       "\n",
       "    .dataframe thead th {\n",
       "        text-align: right;\n",
       "    }\n",
       "</style>\n",
       "<table border=\"1\" class=\"dataframe\">\n",
       "  <thead>\n",
       "    <tr style=\"text-align: right;\">\n",
       "      <th></th>\n",
       "      <th>Job Title</th>\n",
       "      <th>Company Name</th>\n",
       "      <th>Job Location</th>\n",
       "      <th>Experience</th>\n",
       "    </tr>\n",
       "  </thead>\n",
       "  <tbody>\n",
       "    <tr>\n",
       "      <th>0</th>\n",
       "      <td>MIS/ Data Analyst-(SQL,Automation,Excel/PowerB...</td>\n",
       "      <td>Flipkart Internet Private Limited</td>\n",
       "      <td>Bengaluru</td>\n",
       "      <td>1-4 Yrs</td>\n",
       "    </tr>\n",
       "    <tr>\n",
       "      <th>1</th>\n",
       "      <td>Data Analyst - SAP</td>\n",
       "      <td>Boston Scientific Corporation</td>\n",
       "      <td>Pune, Delhi, Bengaluru, Gurgaon</td>\n",
       "      <td>3-5 Yrs</td>\n",
       "    </tr>\n",
       "    <tr>\n",
       "      <th>2</th>\n",
       "      <td>Hiring Data Analysts on Contract</td>\n",
       "      <td>Flipkart Internet Private Limited</td>\n",
       "      <td>Bengaluru</td>\n",
       "      <td>2-5 Yrs</td>\n",
       "    </tr>\n",
       "    <tr>\n",
       "      <th>3</th>\n",
       "      <td>Senior Data Analyst</td>\n",
       "      <td>Schneider Electric</td>\n",
       "      <td>Bengaluru / Bangalore</td>\n",
       "      <td>2-5 Yrs</td>\n",
       "    </tr>\n",
       "    <tr>\n",
       "      <th>4</th>\n",
       "      <td>Security Data Analyst</td>\n",
       "      <td>Philips India Limited</td>\n",
       "      <td>Bengaluru</td>\n",
       "      <td>2-4 Yrs</td>\n",
       "    </tr>\n",
       "    <tr>\n",
       "      <th>5</th>\n",
       "      <td>Data Analyst -Azure Data lake, Azure Data factory</td>\n",
       "      <td>Mindtree Limited</td>\n",
       "      <td>Chennai, Pune, Bengaluru, Hyderabad</td>\n",
       "      <td>5-9 Yrs</td>\n",
       "    </tr>\n",
       "    <tr>\n",
       "      <th>6</th>\n",
       "      <td>Business / Data Analyst</td>\n",
       "      <td>IBM India Pvt. Limited</td>\n",
       "      <td>Bengaluru</td>\n",
       "      <td>2-4 Yrs</td>\n",
       "    </tr>\n",
       "    <tr>\n",
       "      <th>7</th>\n",
       "      <td>Data Analyst - O2C - Bangalore</td>\n",
       "      <td>RANDSTAD INDIA PVT LTD</td>\n",
       "      <td>Bengaluru</td>\n",
       "      <td>2-4 Yrs</td>\n",
       "    </tr>\n",
       "    <tr>\n",
       "      <th>8</th>\n",
       "      <td>Intern Data Analyst</td>\n",
       "      <td>Outsource Big Data</td>\n",
       "      <td>Bengaluru</td>\n",
       "      <td>0-1 Yrs</td>\n",
       "    </tr>\n",
       "    <tr>\n",
       "      <th>9</th>\n",
       "      <td>NiFi Data Analyst</td>\n",
       "      <td>Capgemini Technology Services India Limited</td>\n",
       "      <td>Bengaluru</td>\n",
       "      <td>4-6 Yrs</td>\n",
       "    </tr>\n",
       "    <tr>\n",
       "      <th>10</th>\n",
       "      <td>Requirement For Data Analyst(Advance excel can...</td>\n",
       "      <td>Emagine People Technologies Private Limited</td>\n",
       "      <td>Chennai, Bengaluru</td>\n",
       "      <td>0-2 Yrs</td>\n",
       "    </tr>\n",
       "    <tr>\n",
       "      <th>11</th>\n",
       "      <td>SENIOR DATA ANALYST</td>\n",
       "      <td>McAfee Software (India) Pvt. Ltd</td>\n",
       "      <td>Bengaluru</td>\n",
       "      <td>7-12 Yrs</td>\n",
       "    </tr>\n",
       "    <tr>\n",
       "      <th>12</th>\n",
       "      <td>Data Analyst</td>\n",
       "      <td>EZEU</td>\n",
       "      <td>Bengaluru</td>\n",
       "      <td>2-7 Yrs</td>\n",
       "    </tr>\n",
       "    <tr>\n",
       "      <th>13</th>\n",
       "      <td>Senior Data Analyst</td>\n",
       "      <td>Career Hotspot &amp; Services</td>\n",
       "      <td>Bengaluru</td>\n",
       "      <td>3-5 Yrs</td>\n",
       "    </tr>\n",
       "    <tr>\n",
       "      <th>14</th>\n",
       "      <td>Data Analyst</td>\n",
       "      <td>AceNet</td>\n",
       "      <td>Chennai, Bengaluru</td>\n",
       "      <td>6-8 Yrs</td>\n",
       "    </tr>\n",
       "    <tr>\n",
       "      <th>15</th>\n",
       "      <td>Looking For Rockstar Data Analyst @ Freshtohom...</td>\n",
       "      <td>Freshtohome Foods Private Limited</td>\n",
       "      <td>Bengaluru</td>\n",
       "      <td>2-5 Yrs</td>\n",
       "    </tr>\n",
       "    <tr>\n",
       "      <th>16</th>\n",
       "      <td>Data Analyst (Gameplay)</td>\n",
       "      <td>Kwalee ltd.</td>\n",
       "      <td>Bengaluru</td>\n",
       "      <td>2-7 Yrs</td>\n",
       "    </tr>\n",
       "    <tr>\n",
       "      <th>17</th>\n",
       "      <td>Data Analyst</td>\n",
       "      <td>Kwalee ltd.</td>\n",
       "      <td>Bengaluru</td>\n",
       "      <td>2-7 Yrs</td>\n",
       "    </tr>\n",
       "    <tr>\n",
       "      <th>18</th>\n",
       "      <td>Data Analyst</td>\n",
       "      <td>Liventus, Inc.</td>\n",
       "      <td>Bengaluru(2nd Phase JP Nagar)</td>\n",
       "      <td>3-6 Yrs</td>\n",
       "    </tr>\n",
       "    <tr>\n",
       "      <th>19</th>\n",
       "      <td>Data Analyst</td>\n",
       "      <td>Shell India Markets Private Limited</td>\n",
       "      <td>Bengaluru</td>\n",
       "      <td>5-8 Yrs</td>\n",
       "    </tr>\n",
       "  </tbody>\n",
       "</table>\n",
       "</div>"
      ],
      "text/plain": [
       "                                            Job Title  \\\n",
       "0   MIS/ Data Analyst-(SQL,Automation,Excel/PowerB...   \n",
       "1                                  Data Analyst - SAP   \n",
       "2                    Hiring Data Analysts on Contract   \n",
       "3                                 Senior Data Analyst   \n",
       "4                               Security Data Analyst   \n",
       "5   Data Analyst -Azure Data lake, Azure Data factory   \n",
       "6                             Business / Data Analyst   \n",
       "7                      Data Analyst - O2C - Bangalore   \n",
       "8                                 Intern Data Analyst   \n",
       "9                                   NiFi Data Analyst   \n",
       "10  Requirement For Data Analyst(Advance excel can...   \n",
       "11                                SENIOR DATA ANALYST   \n",
       "12                                       Data Analyst   \n",
       "13                                Senior Data Analyst   \n",
       "14                                       Data Analyst   \n",
       "15  Looking For Rockstar Data Analyst @ Freshtohom...   \n",
       "16                            Data Analyst (Gameplay)   \n",
       "17                                       Data Analyst   \n",
       "18                                       Data Analyst   \n",
       "19                                       Data Analyst   \n",
       "\n",
       "                                   Company Name  \\\n",
       "0             Flipkart Internet Private Limited   \n",
       "1                 Boston Scientific Corporation   \n",
       "2             Flipkart Internet Private Limited   \n",
       "3                            Schneider Electric   \n",
       "4                         Philips India Limited   \n",
       "5                              Mindtree Limited   \n",
       "6                        IBM India Pvt. Limited   \n",
       "7                        RANDSTAD INDIA PVT LTD   \n",
       "8                            Outsource Big Data   \n",
       "9   Capgemini Technology Services India Limited   \n",
       "10  Emagine People Technologies Private Limited   \n",
       "11             McAfee Software (India) Pvt. Ltd   \n",
       "12                                         EZEU   \n",
       "13                    Career Hotspot & Services   \n",
       "14                                       AceNet   \n",
       "15            Freshtohome Foods Private Limited   \n",
       "16                                  Kwalee ltd.   \n",
       "17                                  Kwalee ltd.   \n",
       "18                               Liventus, Inc.   \n",
       "19          Shell India Markets Private Limited   \n",
       "\n",
       "                           Job Location Experience  \n",
       "0                             Bengaluru    1-4 Yrs  \n",
       "1       Pune, Delhi, Bengaluru, Gurgaon    3-5 Yrs  \n",
       "2                             Bengaluru    2-5 Yrs  \n",
       "3                 Bengaluru / Bangalore    2-5 Yrs  \n",
       "4                             Bengaluru    2-4 Yrs  \n",
       "5   Chennai, Pune, Bengaluru, Hyderabad    5-9 Yrs  \n",
       "6                             Bengaluru    2-4 Yrs  \n",
       "7                             Bengaluru    2-4 Yrs  \n",
       "8                             Bengaluru    0-1 Yrs  \n",
       "9                             Bengaluru    4-6 Yrs  \n",
       "10                   Chennai, Bengaluru    0-2 Yrs  \n",
       "11                            Bengaluru   7-12 Yrs  \n",
       "12                            Bengaluru    2-7 Yrs  \n",
       "13                            Bengaluru    3-5 Yrs  \n",
       "14                   Chennai, Bengaluru    6-8 Yrs  \n",
       "15                            Bengaluru    2-5 Yrs  \n",
       "16                            Bengaluru    2-7 Yrs  \n",
       "17                            Bengaluru    2-7 Yrs  \n",
       "18        Bengaluru(2nd Phase JP Nagar)    3-6 Yrs  \n",
       "19                            Bengaluru    5-8 Yrs  "
      ]
     },
     "execution_count": 19,
     "metadata": {},
     "output_type": "execute_result"
    }
   ],
   "source": [
    "data"
   ]
  },
  {
   "cell_type": "code",
   "execution_count": null,
   "metadata": {},
   "outputs": [],
   "source": []
  },
  {
   "cell_type": "markdown",
   "metadata": {},
   "source": [
    "2.Write a python program to scrape data for “Data Scientist” Job position in\n",
    "“Bangalore” location. You have to scrape the job-title, job-location,\n",
    "company_name, full job-description. You have to scrape first 10 jobs data."
   ]
  },
  {
   "cell_type": "code",
   "execution_count": 54,
   "metadata": {},
   "outputs": [],
   "source": [
    "dri= webdriver.Chrome(\"D:\\\\Softwares\\\\chromedriver_win32\\\\chromedriver.exe\")"
   ]
  },
  {
   "cell_type": "code",
   "execution_count": 55,
   "metadata": {},
   "outputs": [],
   "source": [
    "dri.get('https://www.naukri.com/')"
   ]
  },
  {
   "cell_type": "code",
   "execution_count": 56,
   "metadata": {},
   "outputs": [],
   "source": [
    "Search=dri.find_element_by_xpath(\"//input[@placeholder='Skills, Designations, Companies']\")\n",
    "Search.send_keys('Data Scientist')\n",
    "Location=dri.find_element_by_id('qsb-location-sugg')\n",
    "Location.send_keys('Bangalore')\n",
    "Search_button=dri.find_element_by_xpath('//div[@class=\"search-btn\"]/button')\n",
    "Search_button.click()\n"
   ]
  },
  {
   "cell_type": "code",
   "execution_count": 57,
   "metadata": {},
   "outputs": [
    {
     "name": "stdout",
     "output_type": "stream",
     "text": [
      "https://www.naukri.com/data-scientist-jobs-in-bangalore?k=data%20scientist&l=bangalore\n"
     ]
    }
   ],
   "source": [
    "url=dri.current_url\n",
    "print(url)"
   ]
  },
  {
   "cell_type": "code",
   "execution_count": 58,
   "metadata": {},
   "outputs": [],
   "source": [
    "dri.get(url)"
   ]
  },
  {
   "cell_type": "code",
   "execution_count": 59,
   "metadata": {},
   "outputs": [],
   "source": [
    "job_titles=[]\n",
    "company_names=[]\n",
    "location_Lists=[]\n",
    "experience_Lists=[]"
   ]
  },
  {
   "cell_type": "code",
   "execution_count": 60,
   "metadata": {},
   "outputs": [
    {
     "data": {
      "text/plain": [
       "[<selenium.webdriver.remote.webelement.WebElement (session=\"5ca27c791dd942d44fe0abe54ba619c1\", element=\"0b7f6f72-6622-4bf1-8366-97999d1c3269\")>,\n",
       " <selenium.webdriver.remote.webelement.WebElement (session=\"5ca27c791dd942d44fe0abe54ba619c1\", element=\"0a7dc99b-7699-4e59-b216-61ec2a03c2e1\")>,\n",
       " <selenium.webdriver.remote.webelement.WebElement (session=\"5ca27c791dd942d44fe0abe54ba619c1\", element=\"faa3e224-1cc9-40fa-a6e4-d00af0f4df76\")>,\n",
       " <selenium.webdriver.remote.webelement.WebElement (session=\"5ca27c791dd942d44fe0abe54ba619c1\", element=\"ff58a96f-177c-4f49-a398-50be06b05c69\")>]"
      ]
     },
     "execution_count": 60,
     "metadata": {},
     "output_type": "execute_result"
    }
   ],
   "source": [
    "title_tags=dri.find_elements_by_xpath(\"//a[@class='title fw500 ellipsis']\")\n",
    "title_tags[:4]"
   ]
  },
  {
   "cell_type": "code",
   "execution_count": 61,
   "metadata": {},
   "outputs": [
    {
     "data": {
      "text/plain": [
       "['Data Scientist - Python/ MATLAB/ Machine Learning Algorithms',\n",
       " 'Lead Data Scientist - Machine Learning/ Data Mining',\n",
       " 'Data Scientist - Machine Learning (Commerce BU)',\n",
       " 'Principal Data Scientist - Machine/Deep Learning - NLP/Tensorflow',\n",
       " 'Data Scientist',\n",
       " 'Opening For Sr. Data Scientist @ Tech Mahindra',\n",
       " 'Opening For Sr. Data Scientist @ Tech Mahindra',\n",
       " 'Senior / Lead Data Scientist',\n",
       " 'Senior Data Scientist - NLP/ Python/ R',\n",
       " 'Senior Data Scientist | CES IT LTD | CMMI Level 5']"
      ]
     },
     "execution_count": 61,
     "metadata": {},
     "output_type": "execute_result"
    }
   ],
   "source": [
    "for i in title_tags:\n",
    "    job=i.text\n",
    "    job_titles.append(job)\n",
    "job_titles[:10]"
   ]
  },
  {
   "cell_type": "code",
   "execution_count": 62,
   "metadata": {},
   "outputs": [
    {
     "data": {
      "text/plain": [
       "[<selenium.webdriver.remote.webelement.WebElement (session=\"5ca27c791dd942d44fe0abe54ba619c1\", element=\"cf3c97fc-de9d-42ac-94ed-afe69d5af44f\")>,\n",
       " <selenium.webdriver.remote.webelement.WebElement (session=\"5ca27c791dd942d44fe0abe54ba619c1\", element=\"c45d4c92-8b4b-444b-9246-e09ca1bfa80b\")>,\n",
       " <selenium.webdriver.remote.webelement.WebElement (session=\"5ca27c791dd942d44fe0abe54ba619c1\", element=\"2ea42b1e-f2a4-4ee8-948a-3603daa10c75\")>,\n",
       " <selenium.webdriver.remote.webelement.WebElement (session=\"5ca27c791dd942d44fe0abe54ba619c1\", element=\"50fc362f-5b81-416f-b8df-0e67aec0929c\")>]"
      ]
     },
     "execution_count": 62,
     "metadata": {},
     "output_type": "execute_result"
    }
   ],
   "source": [
    "company_tag=dri.find_elements_by_xpath('//a[@class=\"subTitle ellipsis fleft\"]')\n",
    "company_tag[:4]"
   ]
  },
  {
   "cell_type": "code",
   "execution_count": 63,
   "metadata": {},
   "outputs": [
    {
     "data": {
      "text/plain": [
       "['Wrackle Technologies Pvt Ltd',\n",
       " 'Wrackle Technologies Pvt Ltd',\n",
       " 'BLUE YONDER INDIA PRIVATE LIMITED',\n",
       " 'Fidius advisory',\n",
       " 'Atos Syntel Private Limited',\n",
       " 'Tech Mahindra Ltd.',\n",
       " 'Tech Mahindra Ltd.',\n",
       " 'TVS CREDIT SERVICES LIMITED',\n",
       " 'AVI Consulting LLP',\n",
       " 'CES Ltd.']"
      ]
     },
     "execution_count": 63,
     "metadata": {},
     "output_type": "execute_result"
    }
   ],
   "source": [
    "for i in company_tag:\n",
    "    company=i.text\n",
    "    company_names.append(company)\n",
    "company_names[:10]"
   ]
  },
  {
   "cell_type": "code",
   "execution_count": 64,
   "metadata": {},
   "outputs": [
    {
     "data": {
      "text/plain": [
       "[<selenium.webdriver.remote.webelement.WebElement (session=\"5ca27c791dd942d44fe0abe54ba619c1\", element=\"7a7505dd-fa16-43ef-97ae-9b565b730653\")>,\n",
       " <selenium.webdriver.remote.webelement.WebElement (session=\"5ca27c791dd942d44fe0abe54ba619c1\", element=\"0736d701-d4db-4a3a-accb-24299dbc9dbe\")>,\n",
       " <selenium.webdriver.remote.webelement.WebElement (session=\"5ca27c791dd942d44fe0abe54ba619c1\", element=\"9154c46d-d5f1-4de1-bb05-1d927ca89d84\")>,\n",
       " <selenium.webdriver.remote.webelement.WebElement (session=\"5ca27c791dd942d44fe0abe54ba619c1\", element=\"2ff6e50c-c31d-4dc1-a8c4-b19c4e3dc7d2\")>]"
      ]
     },
     "execution_count": 64,
     "metadata": {},
     "output_type": "execute_result"
    }
   ],
   "source": [
    "Location_tag=dri.find_elements_by_xpath('//li[@class=\"fleft grey-text br2 placeHolderLi location\"]')\n",
    "Location_tag[:4]"
   ]
  },
  {
   "cell_type": "code",
   "execution_count": 65,
   "metadata": {},
   "outputs": [
    {
     "data": {
      "text/plain": [
       "['Bengaluru',\n",
       " 'Bengaluru',\n",
       " 'Bengaluru',\n",
       " 'Bengaluru',\n",
       " 'Chennai, Pune, Mumbai, Bengaluru',\n",
       " 'Pune, Bengaluru',\n",
       " 'Pune, Bengaluru',\n",
       " 'Chennai, Pune, Bengaluru',\n",
       " 'Bengaluru, Hyderabad',\n",
       " 'Chennai, Pune, Delhi NCR, Mumbai, Bengaluru, Hyderabad, Kolkata']"
      ]
     },
     "execution_count": 65,
     "metadata": {},
     "output_type": "execute_result"
    }
   ],
   "source": [
    "for i in Location_tag:\n",
    "    location=i.text\n",
    "    location_Lists.append(location)\n",
    "location_Lists[:10]\n",
    "    "
   ]
  },
  {
   "cell_type": "code",
   "execution_count": 66,
   "metadata": {},
   "outputs": [
    {
     "data": {
      "text/plain": [
       "[<selenium.webdriver.remote.webelement.WebElement (session=\"5ca27c791dd942d44fe0abe54ba619c1\", element=\"b4f8d0ba-a715-45ba-94fd-f87789679b6c\")>,\n",
       " <selenium.webdriver.remote.webelement.WebElement (session=\"5ca27c791dd942d44fe0abe54ba619c1\", element=\"ca32161e-0dfb-424b-9a3b-054f36f3e4ca\")>,\n",
       " <selenium.webdriver.remote.webelement.WebElement (session=\"5ca27c791dd942d44fe0abe54ba619c1\", element=\"5ce251c2-8af3-4640-b568-66a52afd00a4\")>,\n",
       " <selenium.webdriver.remote.webelement.WebElement (session=\"5ca27c791dd942d44fe0abe54ba619c1\", element=\"ec418d2d-358c-40cb-9858-8fa94bc22fc0\")>]"
      ]
     },
     "execution_count": 66,
     "metadata": {},
     "output_type": "execute_result"
    }
   ],
   "source": [
    "experience_tag=dri.find_elements_by_xpath('//li[@class=\"fleft grey-text br2 placeHolderLi experience\"]')\n",
    "experience_tag[:4]"
   ]
  },
  {
   "cell_type": "code",
   "execution_count": 67,
   "metadata": {},
   "outputs": [
    {
     "data": {
      "text/plain": [
       "['3-8 Yrs',\n",
       " '6-11 Yrs',\n",
       " '4-6 Yrs',\n",
       " '8-13 Yrs',\n",
       " '12-18 Yrs',\n",
       " '12-20 Yrs',\n",
       " '12-20 Yrs',\n",
       " '3-8 Yrs',\n",
       " '4-9 Yrs',\n",
       " '2-7 Yrs']"
      ]
     },
     "execution_count": 67,
     "metadata": {},
     "output_type": "execute_result"
    }
   ],
   "source": [
    "for i in experience_tag:\n",
    "    exp=i.text\n",
    "    experience_Lists.append(exp)\n",
    "experience_Lists[:10]"
   ]
  },
  {
   "cell_type": "code",
   "execution_count": 68,
   "metadata": {},
   "outputs": [],
   "source": [
    "dri.close()"
   ]
  },
  {
   "cell_type": "code",
   "execution_count": 69,
   "metadata": {},
   "outputs": [
    {
     "data": {
      "text/html": [
       "<div>\n",
       "<style scoped>\n",
       "    .dataframe tbody tr th:only-of-type {\n",
       "        vertical-align: middle;\n",
       "    }\n",
       "\n",
       "    .dataframe tbody tr th {\n",
       "        vertical-align: top;\n",
       "    }\n",
       "\n",
       "    .dataframe thead th {\n",
       "        text-align: right;\n",
       "    }\n",
       "</style>\n",
       "<table border=\"1\" class=\"dataframe\">\n",
       "  <thead>\n",
       "    <tr style=\"text-align: right;\">\n",
       "      <th></th>\n",
       "      <th>Job title</th>\n",
       "      <th>Company Name</th>\n",
       "      <th>Location</th>\n",
       "      <th>Experience</th>\n",
       "    </tr>\n",
       "  </thead>\n",
       "  <tbody>\n",
       "    <tr>\n",
       "      <th>0</th>\n",
       "      <td>Data Scientist - Python/ MATLAB/ Machine Learn...</td>\n",
       "      <td>Wrackle Technologies Pvt Ltd</td>\n",
       "      <td>Bengaluru</td>\n",
       "      <td>3-8 Yrs</td>\n",
       "    </tr>\n",
       "    <tr>\n",
       "      <th>1</th>\n",
       "      <td>Lead Data Scientist - Machine Learning/ Data M...</td>\n",
       "      <td>Wrackle Technologies Pvt Ltd</td>\n",
       "      <td>Bengaluru</td>\n",
       "      <td>6-11 Yrs</td>\n",
       "    </tr>\n",
       "    <tr>\n",
       "      <th>2</th>\n",
       "      <td>Data Scientist - Machine Learning (Commerce BU)</td>\n",
       "      <td>BLUE YONDER INDIA PRIVATE LIMITED</td>\n",
       "      <td>Bengaluru</td>\n",
       "      <td>4-6 Yrs</td>\n",
       "    </tr>\n",
       "    <tr>\n",
       "      <th>3</th>\n",
       "      <td>Principal Data Scientist - Machine/Deep Learni...</td>\n",
       "      <td>Fidius advisory</td>\n",
       "      <td>Bengaluru</td>\n",
       "      <td>8-13 Yrs</td>\n",
       "    </tr>\n",
       "    <tr>\n",
       "      <th>4</th>\n",
       "      <td>Data Scientist</td>\n",
       "      <td>Atos Syntel Private Limited</td>\n",
       "      <td>Chennai, Pune, Mumbai, Bengaluru</td>\n",
       "      <td>12-18 Yrs</td>\n",
       "    </tr>\n",
       "  </tbody>\n",
       "</table>\n",
       "</div>"
      ],
      "text/plain": [
       "                                           Job title  \\\n",
       "0  Data Scientist - Python/ MATLAB/ Machine Learn...   \n",
       "1  Lead Data Scientist - Machine Learning/ Data M...   \n",
       "2    Data Scientist - Machine Learning (Commerce BU)   \n",
       "3  Principal Data Scientist - Machine/Deep Learni...   \n",
       "4                                     Data Scientist   \n",
       "\n",
       "                        Company Name                          Location  \\\n",
       "0       Wrackle Technologies Pvt Ltd                         Bengaluru   \n",
       "1       Wrackle Technologies Pvt Ltd                         Bengaluru   \n",
       "2  BLUE YONDER INDIA PRIVATE LIMITED                         Bengaluru   \n",
       "3                    Fidius advisory                         Bengaluru   \n",
       "4        Atos Syntel Private Limited  Chennai, Pune, Mumbai, Bengaluru   \n",
       "\n",
       "  Experience  \n",
       "0    3-8 Yrs  \n",
       "1   6-11 Yrs  \n",
       "2    4-6 Yrs  \n",
       "3   8-13 Yrs  \n",
       "4  12-18 Yrs  "
      ]
     },
     "execution_count": 69,
     "metadata": {},
     "output_type": "execute_result"
    }
   ],
   "source": [
    "job_data=pd.DataFrame({\"Job title\":job_titles,\n",
    "                      \"Company Name\":company_names,\n",
    "                      \"Location\":location_Lists,\n",
    "                      \"Experience\":experience_Lists})\n",
    "\n",
    "\n",
    "\n",
    "job_data.head()"
   ]
  },
  {
   "cell_type": "code",
   "execution_count": null,
   "metadata": {},
   "outputs": [],
   "source": [
    "WebElement checkbox = dr.findElement(By.linkText(\"Checkbox Demo\"));\n",
    "    checkbox.click();"
   ]
  },
  {
   "cell_type": "markdown",
   "metadata": {},
   "source": [
    "Q3: In this question you have to scrape data using the filters available on the\n",
    "webpage as shown below:"
   ]
  },
  {
   "cell_type": "code",
   "execution_count": 77,
   "metadata": {},
   "outputs": [],
   "source": [
    "div= webdriver.Chrome(\"D:\\\\Softwares\\\\chromedriver_win32\\\\chromedriver.exe\")"
   ]
  },
  {
   "cell_type": "code",
   "execution_count": 78,
   "metadata": {},
   "outputs": [],
   "source": [
    "div.get('https://www.naukri.com/')"
   ]
  },
  {
   "cell_type": "code",
   "execution_count": 79,
   "metadata": {},
   "outputs": [],
   "source": [
    "Search=div.find_element_by_xpath(\"//input[@placeholder='Skills, Designations, Companies']\")\n",
    "Search.send_keys('Data Scientist')\n",
    "Location=div.find_element_by_id('qsb-location-sugg')\n",
    "Location.send_keys('Bangalore')\n",
    "Search_button=div.find_element_by_xpath('//div[@class=\"search-btn\"]/button')\n",
    "Search_button.click()\n"
   ]
  },
  {
   "cell_type": "code",
   "execution_count": 80,
   "metadata": {},
   "outputs": [],
   "source": [
    "div.find_element_by_xpath(\"//div[@class='mt-8 chckBoxCont']\").click()"
   ]
  },
  {
   "cell_type": "code",
   "execution_count": 83,
   "metadata": {},
   "outputs": [],
   "source": [
    "div.find_element_by_xpath(\"//i[@class='fleft naukicon naukicon-checkbox']\").click()"
   ]
  },
  {
   "cell_type": "code",
   "execution_count": 85,
   "metadata": {},
   "outputs": [],
   "source": [
    "job_title=[]\n",
    "company_name=[]\n",
    "location_List=[]\n",
    "experience_List=[]"
   ]
  },
  {
   "cell_type": "code",
   "execution_count": 86,
   "metadata": {},
   "outputs": [
    {
     "data": {
      "text/plain": [
       "[<selenium.webdriver.remote.webelement.WebElement (session=\"bbe7f32b29b534c9fa3c1c0d6009ec3b\", element=\"5c7f18e1-4a37-4926-866e-af47a87f44f3\")>,\n",
       " <selenium.webdriver.remote.webelement.WebElement (session=\"bbe7f32b29b534c9fa3c1c0d6009ec3b\", element=\"12348f2e-9ba2-4ee8-82c6-2e744ecedfb5\")>,\n",
       " <selenium.webdriver.remote.webelement.WebElement (session=\"bbe7f32b29b534c9fa3c1c0d6009ec3b\", element=\"82f0a68d-44c8-467c-b57e-7edf8dcbc11a\")>,\n",
       " <selenium.webdriver.remote.webelement.WebElement (session=\"bbe7f32b29b534c9fa3c1c0d6009ec3b\", element=\"9ad91155-a31e-4b83-9dca-6574866080ab\")>]"
      ]
     },
     "execution_count": 86,
     "metadata": {},
     "output_type": "execute_result"
    }
   ],
   "source": [
    "title_tags=div.find_elements_by_xpath(\"//a[@class='title fw500 ellipsis']\")\n",
    "title_tags[:4]"
   ]
  },
  {
   "cell_type": "code",
   "execution_count": 87,
   "metadata": {},
   "outputs": [
    {
     "data": {
      "text/plain": [
       "['Data Scientist - Python/ MATLAB/ Machine Learning Algorithms',\n",
       " 'Lead Data Scientist - Machine Learning/ Data Mining',\n",
       " 'Data Scientist - Machine Learning (Commerce BU)',\n",
       " 'Principal Data Scientist - Machine/Deep Learning - NLP/Tensorflow']"
      ]
     },
     "execution_count": 87,
     "metadata": {},
     "output_type": "execute_result"
    }
   ],
   "source": [
    "for i in title_tags:\n",
    "    title=i.text\n",
    "    job_title.append(title)\n",
    "job_title[:4]"
   ]
  },
  {
   "cell_type": "code",
   "execution_count": 89,
   "metadata": {},
   "outputs": [
    {
     "data": {
      "text/plain": [
       "[<selenium.webdriver.remote.webelement.WebElement (session=\"bbe7f32b29b534c9fa3c1c0d6009ec3b\", element=\"75104882-4f04-4a89-8fb9-f4356f287e53\")>,\n",
       " <selenium.webdriver.remote.webelement.WebElement (session=\"bbe7f32b29b534c9fa3c1c0d6009ec3b\", element=\"2f0d7f7d-cd79-44b8-a1b5-5eba7ee37f20\")>,\n",
       " <selenium.webdriver.remote.webelement.WebElement (session=\"bbe7f32b29b534c9fa3c1c0d6009ec3b\", element=\"407ae4f9-d217-4e6e-a61b-bc73ce512c45\")>,\n",
       " <selenium.webdriver.remote.webelement.WebElement (session=\"bbe7f32b29b534c9fa3c1c0d6009ec3b\", element=\"c4235afd-da42-443c-81dd-63d7003b238e\")>]"
      ]
     },
     "execution_count": 89,
     "metadata": {},
     "output_type": "execute_result"
    }
   ],
   "source": [
    "company_tag=div.find_elements_by_xpath('//a[@class=\"subTitle ellipsis fleft\"]')\n",
    "company_tag[:4]"
   ]
  },
  {
   "cell_type": "code",
   "execution_count": 90,
   "metadata": {},
   "outputs": [
    {
     "data": {
      "text/plain": [
       "['Wrackle Technologies Pvt Ltd',\n",
       " 'Wrackle Technologies Pvt Ltd',\n",
       " 'BLUE YONDER INDIA PRIVATE LIMITED',\n",
       " 'Fidius advisory',\n",
       " 'Atos Syntel Private Limited',\n",
       " 'Tech Mahindra Ltd.',\n",
       " 'Tech Mahindra Ltd.',\n",
       " 'TVS CREDIT SERVICES LIMITED',\n",
       " 'AVI Consulting LLP',\n",
       " 'CES Ltd.',\n",
       " 'RANDSTAD INDIA PVT LTD']"
      ]
     },
     "execution_count": 90,
     "metadata": {},
     "output_type": "execute_result"
    }
   ],
   "source": [
    "for i in company_tag:\n",
    "    company_names=i.text\n",
    "    company_name.append(company_names)\n",
    "company_name[:11]"
   ]
  },
  {
   "cell_type": "code",
   "execution_count": 92,
   "metadata": {},
   "outputs": [
    {
     "data": {
      "text/plain": [
       "[<selenium.webdriver.remote.webelement.WebElement (session=\"bbe7f32b29b534c9fa3c1c0d6009ec3b\", element=\"b8a723ea-267a-412d-9243-28aeb52405d8\")>,\n",
       " <selenium.webdriver.remote.webelement.WebElement (session=\"bbe7f32b29b534c9fa3c1c0d6009ec3b\", element=\"83d0db59-f50e-481c-a0e5-55a9759bb21c\")>,\n",
       " <selenium.webdriver.remote.webelement.WebElement (session=\"bbe7f32b29b534c9fa3c1c0d6009ec3b\", element=\"0907e5e1-2fae-4e9b-a357-3d85e0864777\")>,\n",
       " <selenium.webdriver.remote.webelement.WebElement (session=\"bbe7f32b29b534c9fa3c1c0d6009ec3b\", element=\"3535d994-1f39-4350-b974-b975ce6a30db\")>]"
      ]
     },
     "execution_count": 92,
     "metadata": {},
     "output_type": "execute_result"
    }
   ],
   "source": [
    "Location_tag=div.find_elements_by_xpath('//li[@class=\"fleft grey-text br2 placeHolderLi location\"]')\n",
    "Location_tag[:4]"
   ]
  },
  {
   "cell_type": "code",
   "execution_count": 93,
   "metadata": {},
   "outputs": [
    {
     "data": {
      "text/plain": [
       "['Bengaluru',\n",
       " 'Bengaluru',\n",
       " 'Bengaluru',\n",
       " 'Bengaluru',\n",
       " 'Chennai, Pune, Mumbai, Bengaluru',\n",
       " 'Pune, Bengaluru',\n",
       " 'Pune, Bengaluru',\n",
       " 'Chennai, Pune, Bengaluru',\n",
       " 'Bengaluru, Hyderabad',\n",
       " 'Chennai, Pune, Delhi NCR, Mumbai, Bengaluru, Hyderabad, Kolkata',\n",
       " 'Bengaluru']"
      ]
     },
     "execution_count": 93,
     "metadata": {},
     "output_type": "execute_result"
    }
   ],
   "source": [
    "for i in Location_tag:\n",
    "    location=i.text\n",
    "    location_List.append(location)\n",
    "location_List[:11]"
   ]
  },
  {
   "cell_type": "code",
   "execution_count": 95,
   "metadata": {},
   "outputs": [
    {
     "data": {
      "text/plain": [
       "[<selenium.webdriver.remote.webelement.WebElement (session=\"bbe7f32b29b534c9fa3c1c0d6009ec3b\", element=\"3cbb76c8-d5ce-4aae-94bd-e62a8058e551\")>,\n",
       " <selenium.webdriver.remote.webelement.WebElement (session=\"bbe7f32b29b534c9fa3c1c0d6009ec3b\", element=\"fc5b6be4-8b16-4b14-9e76-eab7e25297da\")>,\n",
       " <selenium.webdriver.remote.webelement.WebElement (session=\"bbe7f32b29b534c9fa3c1c0d6009ec3b\", element=\"f3f52030-02e5-4a40-a80e-d912a9425056\")>,\n",
       " <selenium.webdriver.remote.webelement.WebElement (session=\"bbe7f32b29b534c9fa3c1c0d6009ec3b\", element=\"9242a344-ff4c-497b-b137-06ff1ff4ca63\")>]"
      ]
     },
     "execution_count": 95,
     "metadata": {},
     "output_type": "execute_result"
    }
   ],
   "source": [
    "experience_tag=div.find_elements_by_xpath('//li[@class=\"fleft grey-text br2 placeHolderLi experience\"]')\n",
    "experience_tag[:4]"
   ]
  },
  {
   "cell_type": "code",
   "execution_count": 96,
   "metadata": {},
   "outputs": [
    {
     "data": {
      "text/plain": [
       "['3-8 Yrs',\n",
       " '6-11 Yrs',\n",
       " '4-6 Yrs',\n",
       " '8-13 Yrs',\n",
       " '12-18 Yrs',\n",
       " '12-20 Yrs',\n",
       " '12-20 Yrs',\n",
       " '3-8 Yrs',\n",
       " '4-9 Yrs',\n",
       " '2-7 Yrs',\n",
       " '2-5 Yrs']"
      ]
     },
     "execution_count": 96,
     "metadata": {},
     "output_type": "execute_result"
    }
   ],
   "source": [
    "for i in experience_tag:\n",
    "    experience=i.text\n",
    "    experience_List.append(experience)\n",
    "experience_List[:11]"
   ]
  },
  {
   "cell_type": "code",
   "execution_count": 98,
   "metadata": {},
   "outputs": [],
   "source": [
    "div.close()"
   ]
  },
  {
   "cell_type": "code",
   "execution_count": 99,
   "metadata": {},
   "outputs": [
    {
     "data": {
      "text/html": [
       "<div>\n",
       "<style scoped>\n",
       "    .dataframe tbody tr th:only-of-type {\n",
       "        vertical-align: middle;\n",
       "    }\n",
       "\n",
       "    .dataframe tbody tr th {\n",
       "        vertical-align: top;\n",
       "    }\n",
       "\n",
       "    .dataframe thead th {\n",
       "        text-align: right;\n",
       "    }\n",
       "</style>\n",
       "<table border=\"1\" class=\"dataframe\">\n",
       "  <thead>\n",
       "    <tr style=\"text-align: right;\">\n",
       "      <th></th>\n",
       "      <th>Job Title</th>\n",
       "      <th>Company Name</th>\n",
       "      <th>Job Location</th>\n",
       "      <th>Experience</th>\n",
       "    </tr>\n",
       "  </thead>\n",
       "  <tbody>\n",
       "    <tr>\n",
       "      <th>0</th>\n",
       "      <td>Data Scientist - Python/ MATLAB/ Machine Learn...</td>\n",
       "      <td>Wrackle Technologies Pvt Ltd</td>\n",
       "      <td>Bengaluru</td>\n",
       "      <td>3-8 Yrs</td>\n",
       "    </tr>\n",
       "    <tr>\n",
       "      <th>1</th>\n",
       "      <td>Lead Data Scientist - Machine Learning/ Data M...</td>\n",
       "      <td>Wrackle Technologies Pvt Ltd</td>\n",
       "      <td>Bengaluru</td>\n",
       "      <td>6-11 Yrs</td>\n",
       "    </tr>\n",
       "    <tr>\n",
       "      <th>2</th>\n",
       "      <td>Data Scientist - Machine Learning (Commerce BU)</td>\n",
       "      <td>BLUE YONDER INDIA PRIVATE LIMITED</td>\n",
       "      <td>Bengaluru</td>\n",
       "      <td>4-6 Yrs</td>\n",
       "    </tr>\n",
       "    <tr>\n",
       "      <th>3</th>\n",
       "      <td>Principal Data Scientist - Machine/Deep Learni...</td>\n",
       "      <td>Fidius advisory</td>\n",
       "      <td>Bengaluru</td>\n",
       "      <td>8-13 Yrs</td>\n",
       "    </tr>\n",
       "    <tr>\n",
       "      <th>4</th>\n",
       "      <td>Data Scientist</td>\n",
       "      <td>Atos Syntel Private Limited</td>\n",
       "      <td>Chennai, Pune, Mumbai, Bengaluru</td>\n",
       "      <td>12-18 Yrs</td>\n",
       "    </tr>\n",
       "  </tbody>\n",
       "</table>\n",
       "</div>"
      ],
      "text/plain": [
       "                                           Job Title  \\\n",
       "0  Data Scientist - Python/ MATLAB/ Machine Learn...   \n",
       "1  Lead Data Scientist - Machine Learning/ Data M...   \n",
       "2    Data Scientist - Machine Learning (Commerce BU)   \n",
       "3  Principal Data Scientist - Machine/Deep Learni...   \n",
       "4                                     Data Scientist   \n",
       "\n",
       "                        Company Name                      Job Location  \\\n",
       "0       Wrackle Technologies Pvt Ltd                         Bengaluru   \n",
       "1       Wrackle Technologies Pvt Ltd                         Bengaluru   \n",
       "2  BLUE YONDER INDIA PRIVATE LIMITED                         Bengaluru   \n",
       "3                    Fidius advisory                         Bengaluru   \n",
       "4        Atos Syntel Private Limited  Chennai, Pune, Mumbai, Bengaluru   \n",
       "\n",
       "  Experience  \n",
       "0    3-8 Yrs  \n",
       "1   6-11 Yrs  \n",
       "2    4-6 Yrs  \n",
       "3   8-13 Yrs  \n",
       "4  12-18 Yrs  "
      ]
     },
     "execution_count": 99,
     "metadata": {},
     "output_type": "execute_result"
    }
   ],
   "source": [
    "data=pd.DataFrame({\"Job Title\":job_title,\n",
    "                   \"Company Name\":company_name, \n",
    "                   \"Job Location\":location_List, \n",
    "                   \"Experience\":experience_List})\n",
    "data.head()"
   ]
  },
  {
   "cell_type": "code",
   "execution_count": null,
   "metadata": {},
   "outputs": [],
   "source": []
  },
  {
   "cell_type": "code",
   "execution_count": null,
   "metadata": {},
   "outputs": [],
   "source": []
  },
  {
   "cell_type": "markdown",
   "metadata": {},
   "source": [
    "Q4: Write a python program to scrape data for first 10 job results for Data scientist\n",
    "Designation in Noida location. You have to scrape company_name, No. of days\n",
    "ago when job was posted, Rating of the company."
   ]
  },
  {
   "cell_type": "code",
   "execution_count": 2,
   "metadata": {},
   "outputs": [],
   "source": [
    "Q4= webdriver.Chrome(\"D:\\\\Softwares\\\\chromedriver_win32\\\\chromedriver.exe\")"
   ]
  },
  {
   "cell_type": "code",
   "execution_count": 3,
   "metadata": {},
   "outputs": [],
   "source": [
    "Q4.get('https://www.glassdoor.co.in/index.htm')"
   ]
  },
  {
   "cell_type": "code",
   "execution_count": 4,
   "metadata": {},
   "outputs": [],
   "source": [
    "signin=Q4.find_element_by_xpath('//a[@class=\"track-click gd-btn-locked-transparent susiLink sign-in strong nowrap\"]')\n",
    "signin.click()"
   ]
  },
  {
   "cell_type": "code",
   "execution_count": 5,
   "metadata": {},
   "outputs": [],
   "source": [
    "Email=Q4.find_element_by_xpath(\"//input[@id='userEmail']\")\n",
    "Email.send_keys('test.vizag07@gmail.com')\n",
    "password=Q4.find_element_by_xpath(\"//input[@id='userPassword']\")\n",
    "\n",
    "password.send_keys('Test@2021')\n",
    "\n",
    "Signin_button=Q4.find_element_by_xpath(\"//button[@class='gd-ui-button minWidthBtn css-8i7bc2']\")\n",
    "Signin_button.click()"
   ]
  },
  {
   "cell_type": "code",
   "execution_count": 6,
   "metadata": {},
   "outputs": [
    {
     "name": "stdout",
     "output_type": "stream",
     "text": [
      "https://www.glassdoor.co.in/index.htm\n"
     ]
    }
   ],
   "source": [
    "url1=Q4.current_url\n",
    "print(url1)"
   ]
  },
  {
   "cell_type": "code",
   "execution_count": 7,
   "metadata": {},
   "outputs": [],
   "source": [
    "Q4.get(url1)"
   ]
  },
  {
   "cell_type": "code",
   "execution_count": 8,
   "metadata": {},
   "outputs": [],
   "source": [
    "job=Q4.find_element_by_xpath('//input[@id=\"sc.keyword\"]')\n",
    "job.send_keys('Data Science')\n",
    "Location=Q4.find_element_by_xpath('//input[@id=\"sc.location\"]')\n",
    "Location.clear()\n",
    "Location.send_keys(\"Noida\")\n",
    "\n",
    "Search=Q4.find_element_by_xpath(\"//button[@class='gd-ui-button ml-std col-auto SearchStyles__newSearchButton css-iixdfr']\")\n",
    "Search.click()"
   ]
  },
  {
   "cell_type": "code",
   "execution_count": 9,
   "metadata": {},
   "outputs": [],
   "source": [
    "from selenium.webdriver.common.alert import Alert"
   ]
  },
  {
   "cell_type": "code",
   "execution_count": 10,
   "metadata": {},
   "outputs": [],
   "source": [
    "#Q4.switch_to.alert.dismiss()"
   ]
  },
  {
   "cell_type": "code",
   "execution_count": 11,
   "metadata": {},
   "outputs": [
    {
     "data": {
      "text/plain": [
       "[<selenium.webdriver.remote.webelement.WebElement (session=\"442052ba08961d44bdf63db2c87f4078\", element=\"36afbdeb-5b7e-48ae-a3a7-75f04194948e\")>,\n",
       " <selenium.webdriver.remote.webelement.WebElement (session=\"442052ba08961d44bdf63db2c87f4078\", element=\"aaad767d-cdd8-4ce8-b929-acee548db8f7\")>,\n",
       " <selenium.webdriver.remote.webelement.WebElement (session=\"442052ba08961d44bdf63db2c87f4078\", element=\"555c7682-33b3-4f6e-bc7b-a6e46f0df950\")>,\n",
       " <selenium.webdriver.remote.webelement.WebElement (session=\"442052ba08961d44bdf63db2c87f4078\", element=\"81ba0c7c-33a0-4d58-97af-53eeec6edc4e\")>]"
      ]
     },
     "execution_count": 11,
     "metadata": {},
     "output_type": "execute_result"
    }
   ],
   "source": [
    "company_tags=Q4.find_elements_by_xpath(\"//a[@class=' css-l2wjgv e1n63ojh0 jobLink']\")\n",
    "company_tags[:4]"
   ]
  },
  {
   "cell_type": "code",
   "execution_count": 12,
   "metadata": {},
   "outputs": [],
   "source": [
    "company_name=[]\n",
    "job_age=[]\n",
    "Review_list=[]"
   ]
  },
  {
   "cell_type": "code",
   "execution_count": 13,
   "metadata": {},
   "outputs": [
    {
     "data": {
      "text/plain": [
       "['NorthPharm services Pvt Ltd',\n",
       " 'Solugenix Corp',\n",
       " 'SyngyMAXIM Solutions',\n",
       " 'Intellobots Technologies',\n",
       " 'ViHaVe Innovations',\n",
       " 'Cognizant',\n",
       " 'Kode Campus',\n",
       " 'moksha biosciences',\n",
       " 'Vistan NextGen Pvt Ltd',\n",
       " 'ADCI HYD 13 SEZ']"
      ]
     },
     "execution_count": 13,
     "metadata": {},
     "output_type": "execute_result"
    }
   ],
   "source": [
    "for i in company_tags:\n",
    "    company=i.text\n",
    "    company_name.append(company)\n",
    "company_name[:10]"
   ]
  },
  {
   "cell_type": "code",
   "execution_count": 14,
   "metadata": {},
   "outputs": [
    {
     "data": {
      "text/plain": [
       "[<selenium.webdriver.remote.webelement.WebElement (session=\"442052ba08961d44bdf63db2c87f4078\", element=\"e53202e6-6618-476b-a1fa-6d9fcede4122\")>,\n",
       " <selenium.webdriver.remote.webelement.WebElement (session=\"442052ba08961d44bdf63db2c87f4078\", element=\"bb067ceb-d05d-4177-a97d-136976cd1197\")>,\n",
       " <selenium.webdriver.remote.webelement.WebElement (session=\"442052ba08961d44bdf63db2c87f4078\", element=\"6aae52b6-1221-4fc3-bb3b-1e20130996a4\")>,\n",
       " <selenium.webdriver.remote.webelement.WebElement (session=\"442052ba08961d44bdf63db2c87f4078\", element=\"831bf2a6-e98a-4780-9827-0a95c33c8055\")>]"
      ]
     },
     "execution_count": 14,
     "metadata": {},
     "output_type": "execute_result"
    }
   ],
   "source": [
    "job_age_tags=Q4.find_elements_by_xpath('//div[@class=\"d-flex align-items-end pl-std css-mi55ob\"]')\n",
    "job_age_tags[:4]"
   ]
  },
  {
   "cell_type": "code",
   "execution_count": 15,
   "metadata": {},
   "outputs": [
    {
     "data": {
      "text/plain": [
       "['2d',\n",
       " '1d',\n",
       " '8d',\n",
       " '5d',\n",
       " '5d',\n",
       " '4d',\n",
       " '3d',\n",
       " '3d',\n",
       " '17d',\n",
       " '8d',\n",
       " '24h',\n",
       " '9d',\n",
       " '1d',\n",
       " '30d+',\n",
       " '16d',\n",
       " '24h',\n",
       " '12d',\n",
       " '25d',\n",
       " '21d',\n",
       " '29d',\n",
       " '26d',\n",
       " '2d',\n",
       " '24h',\n",
       " '3d',\n",
       " '30d+',\n",
       " '30d+',\n",
       " '2d',\n",
       " '4d',\n",
       " '12d',\n",
       " '1d']"
      ]
     },
     "execution_count": 15,
     "metadata": {},
     "output_type": "execute_result"
    }
   ],
   "source": [
    "for i in job_age_tags:\n",
    "    age=i.text\n",
    "    job_age.append(age)\n",
    "job_age"
   ]
  },
  {
   "cell_type": "code",
   "execution_count": 16,
   "metadata": {},
   "outputs": [
    {
     "data": {
      "text/plain": [
       "[<selenium.webdriver.remote.webelement.WebElement (session=\"442052ba08961d44bdf63db2c87f4078\", element=\"9e6aa09a-97c6-4102-ac31-f0423844b74a\")>,\n",
       " <selenium.webdriver.remote.webelement.WebElement (session=\"442052ba08961d44bdf63db2c87f4078\", element=\"7225771d-5465-4978-8d0a-ddc96c4addd0\")>,\n",
       " <selenium.webdriver.remote.webelement.WebElement (session=\"442052ba08961d44bdf63db2c87f4078\", element=\"44316b43-8eb1-4003-8192-6a645023598c\")>,\n",
       " <selenium.webdriver.remote.webelement.WebElement (session=\"442052ba08961d44bdf63db2c87f4078\", element=\"6d17e29c-86f1-46c6-b45b-e56ecdcc386f\")>]"
      ]
     },
     "execution_count": 16,
     "metadata": {},
     "output_type": "execute_result"
    }
   ],
   "source": [
    "Review=Q4.find_elements_by_xpath('//div[@class=\"d-flex flex-column css-x75kgh e1rrn5ka3\"]')\n",
    "Review[:4]"
   ]
  },
  {
   "cell_type": "code",
   "execution_count": 17,
   "metadata": {},
   "outputs": [
    {
     "data": {
      "text/plain": [
       "['',\n",
       " '4.0',\n",
       " '',\n",
       " '',\n",
       " '',\n",
       " '3.7',\n",
       " '',\n",
       " '',\n",
       " '',\n",
       " '4.3',\n",
       " '',\n",
       " '3.7',\n",
       " '3.8',\n",
       " '',\n",
       " '',\n",
       " '',\n",
       " '4.0',\n",
       " '4.2',\n",
       " '3.4',\n",
       " '3.7',\n",
       " '',\n",
       " '4.4',\n",
       " '4.3',\n",
       " '3.8',\n",
       " '2.0',\n",
       " '3.4',\n",
       " '',\n",
       " '4.7',\n",
       " '4.0',\n",
       " '3.3']"
      ]
     },
     "execution_count": 17,
     "metadata": {},
     "output_type": "execute_result"
    }
   ],
   "source": [
    "for i in Review:\n",
    "    re=i.text\n",
    "    Review_list.append(re)\n",
    "Review_list"
   ]
  },
  {
   "cell_type": "code",
   "execution_count": 18,
   "metadata": {},
   "outputs": [
    {
     "data": {
      "text/html": [
       "<div>\n",
       "<style scoped>\n",
       "    .dataframe tbody tr th:only-of-type {\n",
       "        vertical-align: middle;\n",
       "    }\n",
       "\n",
       "    .dataframe tbody tr th {\n",
       "        vertical-align: top;\n",
       "    }\n",
       "\n",
       "    .dataframe thead th {\n",
       "        text-align: right;\n",
       "    }\n",
       "</style>\n",
       "<table border=\"1\" class=\"dataframe\">\n",
       "  <thead>\n",
       "    <tr style=\"text-align: right;\">\n",
       "      <th></th>\n",
       "      <th>company name</th>\n",
       "      <th>days ago</th>\n",
       "      <th>Review</th>\n",
       "    </tr>\n",
       "  </thead>\n",
       "  <tbody>\n",
       "    <tr>\n",
       "      <th>0</th>\n",
       "      <td>NorthPharm services Pvt Ltd</td>\n",
       "      <td>2d</td>\n",
       "      <td></td>\n",
       "    </tr>\n",
       "    <tr>\n",
       "      <th>1</th>\n",
       "      <td>Solugenix Corp</td>\n",
       "      <td>1d</td>\n",
       "      <td>4.0</td>\n",
       "    </tr>\n",
       "    <tr>\n",
       "      <th>2</th>\n",
       "      <td>SyngyMAXIM Solutions</td>\n",
       "      <td>8d</td>\n",
       "      <td></td>\n",
       "    </tr>\n",
       "    <tr>\n",
       "      <th>3</th>\n",
       "      <td>Intellobots Technologies</td>\n",
       "      <td>5d</td>\n",
       "      <td></td>\n",
       "    </tr>\n",
       "    <tr>\n",
       "      <th>4</th>\n",
       "      <td>ViHaVe Innovations</td>\n",
       "      <td>5d</td>\n",
       "      <td></td>\n",
       "    </tr>\n",
       "  </tbody>\n",
       "</table>\n",
       "</div>"
      ],
      "text/plain": [
       "                  company name days ago Review\n",
       "0  NorthPharm services Pvt Ltd       2d       \n",
       "1               Solugenix Corp       1d    4.0\n",
       "2         SyngyMAXIM Solutions       8d       \n",
       "3     Intellobots Technologies       5d       \n",
       "4           ViHaVe Innovations       5d       "
      ]
     },
     "execution_count": 18,
     "metadata": {},
     "output_type": "execute_result"
    }
   ],
   "source": [
    "info=pd.DataFrame({\"company name\":company_name[:10], \n",
    "                   \"days ago\":job_age[:10], \n",
    "                   \"Review\":Review_list[:10]})\n",
    "\n",
    "info.head()"
   ]
  },
  {
   "cell_type": "code",
   "execution_count": null,
   "metadata": {},
   "outputs": [],
   "source": []
  },
  {
   "cell_type": "code",
   "execution_count": null,
   "metadata": {},
   "outputs": [],
   "source": [
    "Q5: Write a python program to scrape the salary data for Data Scientist designation\n",
    "in Noida location"
   ]
  },
  {
   "cell_type": "code",
   "execution_count": 61,
   "metadata": {},
   "outputs": [],
   "source": [
    "Q5= webdriver.Chrome(\"D:\\\\Softwares\\\\chromedriver_win32\\\\chromedriver.exe\")"
   ]
  },
  {
   "cell_type": "code",
   "execution_count": 62,
   "metadata": {},
   "outputs": [],
   "source": [
    "Q5.get('https://www.glassdoor.co.in/Salaries/index.htm')"
   ]
  },
  {
   "cell_type": "code",
   "execution_count": 63,
   "metadata": {},
   "outputs": [],
   "source": [
    "job=Q5.find_element_by_xpath('//input[@id=\"KeywordSearch\"]')\n",
    "job.send_keys('Data Science')\n",
    "Location=Q5.find_element_by_xpath('//input[@id=\"LocationSearch\"]')\n",
    "Location.clear()\n",
    "Location.send_keys(\"Noida\")\n",
    "\n",
    "Search=Q5.find_element_by_xpath(\"//button[@id='HeroSearchButton']\")\n",
    "Search.click()"
   ]
  },
  {
   "cell_type": "code",
   "execution_count": 64,
   "metadata": {},
   "outputs": [],
   "source": [
    "Company_name=[]\n",
    "Avg_salary_list=[]\n",
    "Min_Max_salary=[]\n",
    "Review_list=[]"
   ]
  },
  {
   "cell_type": "code",
   "execution_count": 65,
   "metadata": {},
   "outputs": [
    {
     "data": {
      "text/plain": [
       "[<selenium.webdriver.remote.webelement.WebElement (session=\"5631525bca71ac83876b7d416d6b60dc\", element=\"939ea067-a582-4820-bbe1-bf0715e71136\")>,\n",
       " <selenium.webdriver.remote.webelement.WebElement (session=\"5631525bca71ac83876b7d416d6b60dc\", element=\"3ae683a2-344d-4207-bbbe-2d9f928a93aa\")>,\n",
       " <selenium.webdriver.remote.webelement.WebElement (session=\"5631525bca71ac83876b7d416d6b60dc\", element=\"d090b3f2-c1e3-4be9-a198-3e789bde765e\")>,\n",
       " <selenium.webdriver.remote.webelement.WebElement (session=\"5631525bca71ac83876b7d416d6b60dc\", element=\"ca9de979-62a1-4eaa-a055-e508bdcfd695\")>]"
      ]
     },
     "execution_count": 65,
     "metadata": {},
     "output_type": "execute_result"
    }
   ],
   "source": [
    "company_tags=Q5.find_elements_by_xpath('//p[@class=\"m-0 \"]')\n",
    "company_tags[:4]"
   ]
  },
  {
   "cell_type": "code",
   "execution_count": 66,
   "metadata": {},
   "outputs": [
    {
     "data": {
      "text/plain": [
       "['Analytics Vidhya',\n",
       " 'Vidooly Media Tech',\n",
       " 'OYO',\n",
       " 'Absolutdata',\n",
       " 'Yatra Online Pvt Ltd',\n",
       " 'Zigram',\n",
       " 'Profeza',\n",
       " 'Ericsson-Worldwide',\n",
       " 'Shipsy',\n",
       " 'Algo8.ai']"
      ]
     },
     "execution_count": 66,
     "metadata": {},
     "output_type": "execute_result"
    }
   ],
   "source": [
    "\n",
    "for i in company_tags:\n",
    "    company=i.text\n",
    "    Company_name.append(company)\n",
    "Company_name[:10]"
   ]
  },
  {
   "cell_type": "code",
   "execution_count": 67,
   "metadata": {},
   "outputs": [
    {
     "data": {
      "text/plain": [
       "[<selenium.webdriver.remote.webelement.WebElement (session=\"5631525bca71ac83876b7d416d6b60dc\", element=\"16f37912-4257-4681-b019-a481ae9a5cf1\")>,\n",
       " <selenium.webdriver.remote.webelement.WebElement (session=\"5631525bca71ac83876b7d416d6b60dc\", element=\"e835fd29-8d26-4c93-90d8-e6830efa9146\")>,\n",
       " <selenium.webdriver.remote.webelement.WebElement (session=\"5631525bca71ac83876b7d416d6b60dc\", element=\"6c33088c-ccf2-4fde-8fcc-2ea0b0f0a5f9\")>,\n",
       " <selenium.webdriver.remote.webelement.WebElement (session=\"5631525bca71ac83876b7d416d6b60dc\", element=\"90e3998b-8535-4ed7-b8d0-da2c5b42bc9c\")>]"
      ]
     },
     "execution_count": 67,
     "metadata": {},
     "output_type": "execute_result"
    }
   ],
   "source": [
    "Avg_salary=Q5.find_elements_by_xpath('//div[@class=\"col-2 d-none d-md-flex flex-row justify-content-end\"]')\n",
    "Avg_salary[:4]"
   ]
  },
  {
   "cell_type": "code",
   "execution_count": 74,
   "metadata": {},
   "outputs": [
    {
     "data": {
      "text/plain": [
       "['₹ 21,431\\n/mo',\n",
       " '₹ 12,680\\n/mo',\n",
       " '₹ 36,650\\n/mo',\n",
       " '₹ 18,297\\n/mo',\n",
       " '₹ 15,996\\n/mo',\n",
       " '₹ 10,471\\n/mo',\n",
       " '₹ 10,864\\n/mo',\n",
       " '₹ 21,431\\n/mo',\n",
       " '₹ 12,680\\n/mo',\n",
       " '₹ 36,650\\n/mo',\n",
       " '₹ 18,297\\n/mo',\n",
       " '₹ 15,996\\n/mo',\n",
       " '₹ 10,471\\n/mo',\n",
       " '₹ 10,864\\n/mo']"
      ]
     },
     "execution_count": 74,
     "metadata": {},
     "output_type": "execute_result"
    }
   ],
   "source": [
    "\n",
    "for i in Avg_salary[:20]:\n",
    "    salary=i.text\n",
    "    Avg_salary_list.append(salary)\n",
    "Avg_salary_list"
   ]
  },
  {
   "cell_type": "code",
   "execution_count": 75,
   "metadata": {},
   "outputs": [
    {
     "data": {
      "text/plain": [
       "[<selenium.webdriver.remote.webelement.WebElement (session=\"5631525bca71ac83876b7d416d6b60dc\", element=\"bc1624c4-354e-48a8-8a10-41b657818955\")>,\n",
       " <selenium.webdriver.remote.webelement.WebElement (session=\"5631525bca71ac83876b7d416d6b60dc\", element=\"ae119def-c4a8-465f-a1ad-ad0dcbd53217\")>,\n",
       " <selenium.webdriver.remote.webelement.WebElement (session=\"5631525bca71ac83876b7d416d6b60dc\", element=\"7d66769b-d176-40e0-90a6-f05934cfea29\")>,\n",
       " <selenium.webdriver.remote.webelement.WebElement (session=\"5631525bca71ac83876b7d416d6b60dc\", element=\"6844bdc9-e50f-4c27-bc29-c1a1b6147a7e\")>]"
      ]
     },
     "execution_count": 75,
     "metadata": {},
     "output_type": "execute_result"
    }
   ],
   "source": [
    "min_salary=Q5.find_elements_by_xpath(\"//div[@class='common__RangeBarStyle__values common__flex__justifySpaceBetween common__flex__container ']\")\n",
    "min_salary[:4]"
   ]
  },
  {
   "cell_type": "code",
   "execution_count": 76,
   "metadata": {},
   "outputs": [
    {
     "data": {
      "text/plain": [
       "['₹14K\\n₹28K',\n",
       " '₹9K\\n₹20K',\n",
       " '₹36K\\n₹45K',\n",
       " '₹17K\\n₹20K',\n",
       " '₹11K\\n₹16K',\n",
       " '₹10K\\n₹16K',\n",
       " '₹11K\\n₹11K',\n",
       " '₹34K\\n₹44K',\n",
       " '₹23K\\n₹34K',\n",
       " '₹4K\\n₹6K']"
      ]
     },
     "execution_count": 76,
     "metadata": {},
     "output_type": "execute_result"
    }
   ],
   "source": [
    "\n",
    "for i in min_salary:\n",
    "    salary=i.text\n",
    "    Min_Max_salary.append(salary)\n",
    "Min_Max_salary[:10]"
   ]
  },
  {
   "cell_type": "code",
   "execution_count": 77,
   "metadata": {},
   "outputs": [
    {
     "data": {
      "text/plain": [
       "[<selenium.webdriver.remote.webelement.WebElement (session=\"5631525bca71ac83876b7d416d6b60dc\", element=\"efa1e143-14e6-4b83-8729-3578d8d9e8c5\")>,\n",
       " <selenium.webdriver.remote.webelement.WebElement (session=\"5631525bca71ac83876b7d416d6b60dc\", element=\"65c9830d-1251-4dc1-98af-e5348d3f7c76\")>,\n",
       " <selenium.webdriver.remote.webelement.WebElement (session=\"5631525bca71ac83876b7d416d6b60dc\", element=\"93d2ba13-ef41-452d-b878-75518a322f37\")>,\n",
       " <selenium.webdriver.remote.webelement.WebElement (session=\"5631525bca71ac83876b7d416d6b60dc\", element=\"2582b648-5740-46d0-ab06-b150e729239b\")>]"
      ]
     },
     "execution_count": 77,
     "metadata": {},
     "output_type": "execute_result"
    }
   ],
   "source": [
    "review=Q5.find_elements_by_xpath('//p[@class=\"css-1uyte9r css-1kuy7z7 m-0 \"]')\n",
    "review[:4]"
   ]
  },
  {
   "cell_type": "code",
   "execution_count": 78,
   "metadata": {},
   "outputs": [
    {
     "data": {
      "text/plain": [
       "['8 salaries',\n",
       " '5 salaries',\n",
       " '3 salaries',\n",
       " '3 salaries',\n",
       " '3 salaries',\n",
       " '3 salaries',\n",
       " '3 salaries',\n",
       " '2 salaries',\n",
       " '2 salaries',\n",
       " '2 salaries']"
      ]
     },
     "execution_count": 78,
     "metadata": {},
     "output_type": "execute_result"
    }
   ],
   "source": [
    "\n",
    "for i in review:\n",
    "    reviews=i.text\n",
    "    Review_list.append(reviews)\n",
    "Review_list[:10]"
   ]
  },
  {
   "cell_type": "code",
   "execution_count": 79,
   "metadata": {},
   "outputs": [
    {
     "name": "stdout",
     "output_type": "stream",
     "text": [
      "20\n",
      "14\n",
      "40\n",
      "40\n"
     ]
    }
   ],
   "source": [
    "print(len(Company_name))\n",
    "print(len(Avg_salary_list))\n",
    "print(len(Min_Max_salary))\n",
    "print(len(Review_list))"
   ]
  },
  {
   "cell_type": "code",
   "execution_count": 80,
   "metadata": {},
   "outputs": [],
   "source": [
    "#Q5.close()"
   ]
  },
  {
   "cell_type": "code",
   "execution_count": 81,
   "metadata": {},
   "outputs": [
    {
     "data": {
      "text/html": [
       "<div>\n",
       "<style scoped>\n",
       "    .dataframe tbody tr th:only-of-type {\n",
       "        vertical-align: middle;\n",
       "    }\n",
       "\n",
       "    .dataframe tbody tr th {\n",
       "        vertical-align: top;\n",
       "    }\n",
       "\n",
       "    .dataframe thead th {\n",
       "        text-align: right;\n",
       "    }\n",
       "</style>\n",
       "<table border=\"1\" class=\"dataframe\">\n",
       "  <thead>\n",
       "    <tr style=\"text-align: right;\">\n",
       "      <th></th>\n",
       "      <th>Comapny</th>\n",
       "      <th>Avg salary</th>\n",
       "      <th>Min &amp; Max salary</th>\n",
       "      <th>Reviews</th>\n",
       "    </tr>\n",
       "  </thead>\n",
       "  <tbody>\n",
       "    <tr>\n",
       "      <th>0</th>\n",
       "      <td>Analytics Vidhya</td>\n",
       "      <td>₹ 21,431\\n/mo</td>\n",
       "      <td>₹14K\\n₹28K</td>\n",
       "      <td>8 salaries</td>\n",
       "    </tr>\n",
       "    <tr>\n",
       "      <th>1</th>\n",
       "      <td>Vidooly Media Tech</td>\n",
       "      <td>₹ 12,680\\n/mo</td>\n",
       "      <td>₹9K\\n₹20K</td>\n",
       "      <td>5 salaries</td>\n",
       "    </tr>\n",
       "    <tr>\n",
       "      <th>2</th>\n",
       "      <td>OYO</td>\n",
       "      <td>₹ 36,650\\n/mo</td>\n",
       "      <td>₹36K\\n₹45K</td>\n",
       "      <td>3 salaries</td>\n",
       "    </tr>\n",
       "    <tr>\n",
       "      <th>3</th>\n",
       "      <td>Absolutdata</td>\n",
       "      <td>₹ 18,297\\n/mo</td>\n",
       "      <td>₹17K\\n₹20K</td>\n",
       "      <td>3 salaries</td>\n",
       "    </tr>\n",
       "    <tr>\n",
       "      <th>4</th>\n",
       "      <td>Yatra Online Pvt Ltd</td>\n",
       "      <td>₹ 15,996\\n/mo</td>\n",
       "      <td>₹11K\\n₹16K</td>\n",
       "      <td>3 salaries</td>\n",
       "    </tr>\n",
       "  </tbody>\n",
       "</table>\n",
       "</div>"
      ],
      "text/plain": [
       "                Comapny     Avg salary Min & Max salary     Reviews\n",
       "0      Analytics Vidhya  ₹ 21,431\\n/mo       ₹14K\\n₹28K  8 salaries\n",
       "1    Vidooly Media Tech  ₹ 12,680\\n/mo        ₹9K\\n₹20K  5 salaries\n",
       "2                   OYO  ₹ 36,650\\n/mo       ₹36K\\n₹45K  3 salaries\n",
       "3           Absolutdata  ₹ 18,297\\n/mo       ₹17K\\n₹20K  3 salaries\n",
       "4  Yatra Online Pvt Ltd  ₹ 15,996\\n/mo       ₹11K\\n₹16K  3 salaries"
      ]
     },
     "execution_count": 81,
     "metadata": {},
     "output_type": "execute_result"
    }
   ],
   "source": [
    "salary_data=pd.DataFrame({\"Comapny\":Company_name[:10],\n",
    "                         \"Avg salary\":Avg_salary_list[:10],\n",
    "                         \"Min & Max salary\":Min_Max_salary[:10],\n",
    "                         \"Reviews\":Review_list[:10]})\n",
    "salary_data.head()\n",
    "\n"
   ]
  },
  {
   "cell_type": "code",
   "execution_count": null,
   "metadata": {},
   "outputs": [],
   "source": [
    "Q6 : Scrape data of first 100 sunglasses listings on flipkart.com. You have to\n",
    "scrape four attributes:"
   ]
  },
  {
   "cell_type": "code",
   "execution_count": 96,
   "metadata": {},
   "outputs": [],
   "source": [
    "Q6= webdriver.Chrome(\"D:\\\\Softwares\\\\chromedriver_win32\\\\chromedriver.exe\")"
   ]
  },
  {
   "cell_type": "code",
   "execution_count": 97,
   "metadata": {},
   "outputs": [],
   "source": [
    "Q6.get('https://www.flipkart.com/')"
   ]
  },
  {
   "cell_type": "code",
   "execution_count": 98,
   "metadata": {},
   "outputs": [],
   "source": [
    "close=Q6.find_element_by_xpath(\"//button[@class='_2KpZ6l _2doB4z']\")\n",
    "close.click()"
   ]
  },
  {
   "cell_type": "code",
   "execution_count": 99,
   "metadata": {},
   "outputs": [],
   "source": [
    "Search=Q6.find_element_by_xpath(\"//input[@type='text']\")\n",
    "Search.clear()\n",
    "Search.send_keys(\"sunglasses\")\n",
    "Search_button=Q6.find_element_by_xpath(\"//button[@class='L0Z3Pu']\")\n",
    "Search_button.click()"
   ]
  },
  {
   "cell_type": "code",
   "execution_count": 100,
   "metadata": {},
   "outputs": [
    {
     "data": {
      "text/plain": [
       "[<selenium.webdriver.remote.webelement.WebElement (session=\"72954aa8cffc2a62ae585b44d2c43139\", element=\"3b685a1d-afdc-4888-a97f-ddfc0d60c40e\")>,\n",
       " <selenium.webdriver.remote.webelement.WebElement (session=\"72954aa8cffc2a62ae585b44d2c43139\", element=\"bf31b188-0d35-4f04-a4ab-efbb5418f6d9\")>,\n",
       " <selenium.webdriver.remote.webelement.WebElement (session=\"72954aa8cffc2a62ae585b44d2c43139\", element=\"034f7be2-0396-4a3c-9904-e9c11813a8a0\")>,\n",
       " <selenium.webdriver.remote.webelement.WebElement (session=\"72954aa8cffc2a62ae585b44d2c43139\", element=\"e2989fe6-d10d-40f5-966b-552a862de65d\")>]"
      ]
     },
     "execution_count": 100,
     "metadata": {},
     "output_type": "execute_result"
    }
   ],
   "source": [
    "Brand_tags=Q6.find_elements_by_xpath(\"//div[@class='_2WkVRV']\")   \n",
    "Brand_tags[:4]"
   ]
  },
  {
   "cell_type": "code",
   "execution_count": 101,
   "metadata": {},
   "outputs": [
    {
     "data": {
      "text/plain": [
       "['Royal Son',\n",
       " 'Royal Son',\n",
       " 'ROZZETTA CRAFT',\n",
       " 'Fastrack',\n",
       " 'Fastrack',\n",
       " 'Fastrack',\n",
       " 'ROZZETTA CRAFT',\n",
       " 'Rozzetta Craft',\n",
       " 'Fastrack',\n",
       " 'PIRASO',\n",
       " 'Phenomenal',\n",
       " 'Fastrack',\n",
       " 'shah collections',\n",
       " 'NuVew',\n",
       " 'shah collections',\n",
       " 'Fastrack',\n",
       " 'Fastrack',\n",
       " 'Fastrack',\n",
       " 'Phenomenal',\n",
       " 'Specsmakers',\n",
       " 'ETRG',\n",
       " 'kingsunglasses',\n",
       " 'Fastrack',\n",
       " 'Aislin',\n",
       " 'FDA COLLECTION',\n",
       " 'FDA COLLECTION',\n",
       " 'Deixels',\n",
       " 'ROZZETTA CRAFT',\n",
       " 'funglasses',\n",
       " 'NuVew',\n",
       " 'NuVew',\n",
       " 'Elligator',\n",
       " 'funglasses',\n",
       " 'Aislin',\n",
       " 'Online Mantra',\n",
       " 'Riffko',\n",
       " 'Gansta',\n",
       " 'PIRASO',\n",
       " 'PIRASO',\n",
       " 'Specsmakers']"
      ]
     },
     "execution_count": 101,
     "metadata": {},
     "output_type": "execute_result"
    }
   ],
   "source": [
    "Brand=[]\n",
    "for i in Brand_tags:\n",
    "    test=i.text\n",
    "    Brand.append(test)\n",
    "Brand"
   ]
  },
  {
   "cell_type": "code",
   "execution_count": 72,
   "metadata": {},
   "outputs": [
    {
     "data": {
      "text/plain": [
       "[<selenium.webdriver.remote.webelement.WebElement (session=\"a68168fa8a6961e77c2706795fb13a15\", element=\"96bd84d4-1275-4981-855d-0aa18a85713f\")>,\n",
       " <selenium.webdriver.remote.webelement.WebElement (session=\"a68168fa8a6961e77c2706795fb13a15\", element=\"56034864-4084-4e76-854b-bb72173bb5ae\")>,\n",
       " <selenium.webdriver.remote.webelement.WebElement (session=\"a68168fa8a6961e77c2706795fb13a15\", element=\"a90c8424-3c14-4168-96a5-6be57a5e815e\")>,\n",
       " <selenium.webdriver.remote.webelement.WebElement (session=\"a68168fa8a6961e77c2706795fb13a15\", element=\"212dd0df-1d50-4326-9ca1-cc1ea98f59e5\")>]"
      ]
     },
     "execution_count": 72,
     "metadata": {},
     "output_type": "execute_result"
    }
   ],
   "source": [
    "Dis_price_tags=Q6.find_elements_by_xpath('//div[@class=\"_30jeq3\"]')\n",
    "Dis_price_tags[:4]"
   ]
  },
  {
   "cell_type": "code",
   "execution_count": 75,
   "metadata": {},
   "outputs": [
    {
     "data": {
      "text/plain": [
       "['₹664',\n",
       " '₹182',\n",
       " '₹499',\n",
       " '₹499',\n",
       " '₹599',\n",
       " '₹499',\n",
       " '₹404',\n",
       " '₹398',\n",
       " '₹399',\n",
       " '₹314',\n",
       " '₹599',\n",
       " '₹599',\n",
       " '₹896',\n",
       " '₹396',\n",
       " '₹331',\n",
       " '₹227',\n",
       " '₹549',\n",
       " '₹596',\n",
       " '₹399',\n",
       " '₹517',\n",
       " '₹209',\n",
       " '₹284',\n",
       " '₹399',\n",
       " '₹1,135',\n",
       " '₹160',\n",
       " '₹211',\n",
       " '₹499',\n",
       " '₹295',\n",
       " '₹151',\n",
       " '₹399',\n",
       " '₹199',\n",
       " '₹210',\n",
       " '₹199',\n",
       " '₹195',\n",
       " '₹284',\n",
       " '₹225',\n",
       " '₹161',\n",
       " '₹179',\n",
       " '₹171',\n",
       " '₹393']"
      ]
     },
     "execution_count": 75,
     "metadata": {},
     "output_type": "execute_result"
    }
   ],
   "source": [
    "Dis_Price=[]\n",
    "for i in Dis_price_tags:\n",
    "    price=i.text\n",
    "    Dis_Price.append(price)\n",
    "Dis_Price"
   ]
  },
  {
   "cell_type": "code",
   "execution_count": 77,
   "metadata": {},
   "outputs": [
    {
     "data": {
      "text/plain": [
       "[<selenium.webdriver.remote.webelement.WebElement (session=\"a68168fa8a6961e77c2706795fb13a15\", element=\"307c122d-5005-4957-af35-f7aef4ca0aa0\")>,\n",
       " <selenium.webdriver.remote.webelement.WebElement (session=\"a68168fa8a6961e77c2706795fb13a15\", element=\"15b4a062-eaa3-4dbb-a9e1-77cec9121bd8\")>,\n",
       " <selenium.webdriver.remote.webelement.WebElement (session=\"a68168fa8a6961e77c2706795fb13a15\", element=\"809a7f46-a769-4d93-98d8-03915ad1b9e0\")>,\n",
       " <selenium.webdriver.remote.webelement.WebElement (session=\"a68168fa8a6961e77c2706795fb13a15\", element=\"11477551-b613-415e-9dc2-93368fadd904\")>]"
      ]
     },
     "execution_count": 77,
     "metadata": {},
     "output_type": "execute_result"
    }
   ],
   "source": [
    "act_price=Q6.find_elements_by_xpath(\"//div[@class='_3I9_wc']\")\n",
    "act_price[:4]"
   ]
  },
  {
   "cell_type": "code",
   "execution_count": 78,
   "metadata": {},
   "outputs": [
    {
     "data": {
      "text/plain": [
       "['₹1,999',\n",
       " '₹1,299',\n",
       " '₹2,225',\n",
       " '₹799',\n",
       " '₹899',\n",
       " '₹799',\n",
       " '₹1,999',\n",
       " '₹1,499',\n",
       " '₹1,999',\n",
       " '₹1,599',\n",
       " '₹899',\n",
       " '₹899',\n",
       " '₹1,299',\n",
       " '₹1,250',\n",
       " '₹1,699',\n",
       " '₹999',\n",
       " '₹999',\n",
       " '₹799',\n",
       " '₹1,999',\n",
       " '₹990',\n",
       " '₹799',\n",
       " '₹1,499',\n",
       " '₹799',\n",
       " '₹4,250',\n",
       " '₹999',\n",
       " '₹1,799',\n",
       " '₹2,252',\n",
       " '₹2,495',\n",
       " '₹500',\n",
       " '₹1,499',\n",
       " '₹1,499',\n",
       " '₹1,199',\n",
       " '₹1,300',\n",
       " '₹978',\n",
       " '₹1,999',\n",
       " '₹1,599',\n",
       " '₹999',\n",
       " '₹699',\n",
       " '₹1,099',\n",
       " '₹1,250']"
      ]
     },
     "execution_count": 78,
     "metadata": {},
     "output_type": "execute_result"
    }
   ],
   "source": [
    "Act_price=[]\n",
    "for i in act_price:\n",
    "    Ac_price=i.text\n",
    "    Act_price.append(Ac_price)\n",
    "Act_price"
   ]
  },
  {
   "cell_type": "code",
   "execution_count": 79,
   "metadata": {},
   "outputs": [
    {
     "data": {
      "text/plain": [
       "[<selenium.webdriver.remote.webelement.WebElement (session=\"a68168fa8a6961e77c2706795fb13a15\", element=\"12df312e-415b-4425-84ac-46e364888f19\")>,\n",
       " <selenium.webdriver.remote.webelement.WebElement (session=\"a68168fa8a6961e77c2706795fb13a15\", element=\"06722584-d825-4a0c-a169-340b53386e78\")>,\n",
       " <selenium.webdriver.remote.webelement.WebElement (session=\"a68168fa8a6961e77c2706795fb13a15\", element=\"1cdde600-884e-4064-bf7b-86bf04804eea\")>,\n",
       " <selenium.webdriver.remote.webelement.WebElement (session=\"a68168fa8a6961e77c2706795fb13a15\", element=\"bdb37be9-5a6b-42e5-adbd-c25dd924590e\")>]"
      ]
     },
     "execution_count": 79,
     "metadata": {},
     "output_type": "execute_result"
    }
   ],
   "source": [
    "Discount=Q6.find_elements_by_xpath(\"//div[@class='_3Ay6Sb']\")\n",
    "Discount[:4]"
   ]
  },
  {
   "cell_type": "code",
   "execution_count": 80,
   "metadata": {},
   "outputs": [
    {
     "data": {
      "text/plain": [
       "['66% off',\n",
       " '85% off',\n",
       " '77% off',\n",
       " '37% off',\n",
       " '33% off',\n",
       " '37% off',\n",
       " '79% off',\n",
       " '73% off',\n",
       " '80% off',\n",
       " '80% off',\n",
       " '33% off',\n",
       " '33% off',\n",
       " '31% off',\n",
       " '68% off',\n",
       " '80% off',\n",
       " '77% off',\n",
       " '45% off',\n",
       " '25% off',\n",
       " '80% off',\n",
       " '47% off',\n",
       " '73% off',\n",
       " '81% off',\n",
       " '50% off',\n",
       " '73% off',\n",
       " '83% off',\n",
       " '88% off',\n",
       " '77% off',\n",
       " '88% off',\n",
       " '69% off',\n",
       " '73% off',\n",
       " '86% off',\n",
       " '82% off',\n",
       " '84% off',\n",
       " '80% off',\n",
       " '85% off',\n",
       " '85% off',\n",
       " '83% off',\n",
       " '74% off',\n",
       " '84% off',\n",
       " '68% off']"
      ]
     },
     "execution_count": 80,
     "metadata": {},
     "output_type": "execute_result"
    }
   ],
   "source": [
    "Dis=[]\n",
    "for i in Discount:\n",
    "    offer=i.text\n",
    "    Dis.append(offer)\n",
    "Dis"
   ]
  },
  {
   "cell_type": "code",
   "execution_count": 90,
   "metadata": {},
   "outputs": [
    {
     "name": "stdout",
     "output_type": "stream",
     "text": [
      "https://www.flipkart.com/search?q=sunglasses&otracker=search&otracker1=search&marketplace=FLIPKART&as-show=on&as=off&page=2\n"
     ]
    }
   ],
   "source": [
    "Page=Q6.find_element_by_link_text(\"2\")\n",
    "Page.click()\n",
    "#p2=Page[1:2]\n",
    "#p2\n",
    "url=Q6.current_url\n",
    "print(url)"
   ]
  },
  {
   "cell_type": "code",
   "execution_count": 102,
   "metadata": {},
   "outputs": [],
   "source": [
    "Q6.get(url)"
   ]
  },
  {
   "cell_type": "code",
   "execution_count": 103,
   "metadata": {},
   "outputs": [
    {
     "data": {
      "text/plain": [
       "[<selenium.webdriver.remote.webelement.WebElement (session=\"72954aa8cffc2a62ae585b44d2c43139\", element=\"4ac1ba89-0f33-4ae8-b09e-72737e8df6b7\")>,\n",
       " <selenium.webdriver.remote.webelement.WebElement (session=\"72954aa8cffc2a62ae585b44d2c43139\", element=\"359f98a7-9e45-4768-b4ac-acafa4b63ea8\")>,\n",
       " <selenium.webdriver.remote.webelement.WebElement (session=\"72954aa8cffc2a62ae585b44d2c43139\", element=\"7c084aac-778b-4779-a609-0e89d2859e9d\")>,\n",
       " <selenium.webdriver.remote.webelement.WebElement (session=\"72954aa8cffc2a62ae585b44d2c43139\", element=\"6cbf1e5d-eac8-4dfa-8f95-90d89ba42fa7\")>]"
      ]
     },
     "execution_count": 103,
     "metadata": {},
     "output_type": "execute_result"
    }
   ],
   "source": [
    "Brand2_tags=Q6.find_elements_by_xpath(\"//div[@class='_2WkVRV']\")   \n",
    "Brand2_tags[:4]"
   ]
  },
  {
   "cell_type": "code",
   "execution_count": 104,
   "metadata": {},
   "outputs": [
    {
     "data": {
      "text/plain": [
       "['Royal Son',\n",
       " 'Fastrack',\n",
       " 'Freddy',\n",
       " 'Royal Son',\n",
       " 'David Martin',\n",
       " 'funglasses',\n",
       " 'Fastrack',\n",
       " 'David Martin',\n",
       " 'Ayezent',\n",
       " 'NuVew',\n",
       " 'JUST STYLE',\n",
       " 'PIRASO',\n",
       " 'ROZZETTA CRAFT',\n",
       " 'Specsmakers',\n",
       " 'Tazzx',\n",
       " 'Rozzetta Craft',\n",
       " 'povty',\n",
       " 'HAMIW COLLECTION',\n",
       " 'ALEYBEE',\n",
       " 'Aislin',\n",
       " 'Fastrack',\n",
       " 'Singco India',\n",
       " 'Singco India',\n",
       " 'NuVew',\n",
       " 'Riffko',\n",
       " 'HIPPON',\n",
       " 'Elegant',\n",
       " 'ROZZETTA CRAFT',\n",
       " 'Fastrack',\n",
       " 'ROYAL SON',\n",
       " 'Fravy',\n",
       " 'Trendy Glasses',\n",
       " 'kingsunglasses',\n",
       " 'Aislin',\n",
       " 'shadz',\n",
       " 'shah collections',\n",
       " 'ZOSTAL',\n",
       " 'NuVew',\n",
       " 'I Flash',\n",
       " 'Aislin']"
      ]
     },
     "execution_count": 104,
     "metadata": {},
     "output_type": "execute_result"
    }
   ],
   "source": [
    "Brand2=[]\n",
    "for i in Brand2_tags:\n",
    "    brand=i.text\n",
    "    Brand2.append(brand)\n",
    "Brand2"
   ]
  },
  {
   "cell_type": "code",
   "execution_count": 105,
   "metadata": {},
   "outputs": [
    {
     "data": {
      "text/plain": [
       "[<selenium.webdriver.remote.webelement.WebElement (session=\"72954aa8cffc2a62ae585b44d2c43139\", element=\"7cae083e-bce3-4c40-8d4a-f097fc75583f\")>,\n",
       " <selenium.webdriver.remote.webelement.WebElement (session=\"72954aa8cffc2a62ae585b44d2c43139\", element=\"83dd04fb-2426-4a1a-be26-08e1ef04f35b\")>,\n",
       " <selenium.webdriver.remote.webelement.WebElement (session=\"72954aa8cffc2a62ae585b44d2c43139\", element=\"d1d7c0a5-df9a-44c8-b363-6e9f9570f23c\")>,\n",
       " <selenium.webdriver.remote.webelement.WebElement (session=\"72954aa8cffc2a62ae585b44d2c43139\", element=\"8a489a7d-13db-49be-9408-2011e9f6b087\")>]"
      ]
     },
     "execution_count": 105,
     "metadata": {},
     "output_type": "execute_result"
    }
   ],
   "source": [
    "Dis_price_tags2=Q6.find_elements_by_xpath('//div[@class=\"_30jeq3\"]')\n",
    "Dis_price_tags2[:4]"
   ]
  },
  {
   "cell_type": "code",
   "execution_count": 107,
   "metadata": {},
   "outputs": [
    {
     "data": {
      "text/plain": [
       "['₹279',\n",
       " '₹599',\n",
       " '₹165',\n",
       " '₹664',\n",
       " '₹185',\n",
       " '₹125',\n",
       " '₹599',\n",
       " '₹298',\n",
       " '₹282',\n",
       " '₹396',\n",
       " '₹99',\n",
       " '₹349',\n",
       " '₹399',\n",
       " '₹517',\n",
       " '₹159',\n",
       " '₹499',\n",
       " '₹324',\n",
       " '₹399',\n",
       " '₹189',\n",
       " '₹1,135',\n",
       " '₹695',\n",
       " '₹315',\n",
       " '₹189',\n",
       " '₹393',\n",
       " '₹190',\n",
       " '₹198',\n",
       " '₹239',\n",
       " '₹449',\n",
       " '₹649',\n",
       " '₹569',\n",
       " '₹289',\n",
       " '₹289',\n",
       " '₹284',\n",
       " '₹711',\n",
       " '₹114',\n",
       " '₹169',\n",
       " '₹208',\n",
       " '₹283',\n",
       " '₹123',\n",
       " '₹475']"
      ]
     },
     "execution_count": 107,
     "metadata": {},
     "output_type": "execute_result"
    }
   ],
   "source": [
    "Dis_Price2=[]\n",
    "for i in Dis_price_tags2:\n",
    "    price=i.text\n",
    "    Dis_Price2.append(price)\n",
    "Dis_Price2"
   ]
  },
  {
   "cell_type": "code",
   "execution_count": 108,
   "metadata": {},
   "outputs": [
    {
     "data": {
      "text/plain": [
       "[<selenium.webdriver.remote.webelement.WebElement (session=\"72954aa8cffc2a62ae585b44d2c43139\", element=\"14324844-4c29-4799-88bf-822b3afaa0a1\")>,\n",
       " <selenium.webdriver.remote.webelement.WebElement (session=\"72954aa8cffc2a62ae585b44d2c43139\", element=\"9504cb9a-0948-41dd-b449-831db020f672\")>,\n",
       " <selenium.webdriver.remote.webelement.WebElement (session=\"72954aa8cffc2a62ae585b44d2c43139\", element=\"f6cf7ea1-262b-4cb4-ac69-0ac29a0f1359\")>,\n",
       " <selenium.webdriver.remote.webelement.WebElement (session=\"72954aa8cffc2a62ae585b44d2c43139\", element=\"698de2ac-7d6a-4600-9ed0-3400241e91af\")>]"
      ]
     },
     "execution_count": 108,
     "metadata": {},
     "output_type": "execute_result"
    }
   ],
   "source": [
    "act_price2=Q6.find_elements_by_xpath(\"//div[@class='_3I9_wc']\")\n",
    "act_price2[:4]"
   ]
  },
  {
   "cell_type": "code",
   "execution_count": 109,
   "metadata": {},
   "outputs": [
    {
     "data": {
      "text/plain": [
       "['₹1,299',\n",
       " '₹999',\n",
       " '₹1,299',\n",
       " '₹1,999',\n",
       " '₹1,099',\n",
       " '₹749',\n",
       " '₹899',\n",
       " '₹1,399',\n",
       " '₹1,999',\n",
       " '₹1,250',\n",
       " '₹599',\n",
       " '₹2,599',\n",
       " '₹1,446',\n",
       " '₹990',\n",
       " '₹999',\n",
       " '₹2,555',\n",
       " '₹999',\n",
       " '₹2,999',\n",
       " '₹1,499',\n",
       " '₹4,250',\n",
       " '₹799',\n",
       " '₹1,199',\n",
       " '₹699',\n",
       " '₹1,250',\n",
       " '₹999',\n",
       " '₹1,199',\n",
       " '₹1,499',\n",
       " '₹2,225',\n",
       " '₹899',\n",
       " '₹1,499',\n",
       " '₹1,499',\n",
       " '₹1,266',\n",
       " '₹1,399',\n",
       " '₹3,200',\n",
       " '₹699',\n",
       " '₹999',\n",
       " '₹999',\n",
       " '₹785',\n",
       " '₹999',\n",
       " '₹1,525']"
      ]
     },
     "execution_count": 109,
     "metadata": {},
     "output_type": "execute_result"
    }
   ],
   "source": [
    "Act_price2=[]\n",
    "for i in act_price2:\n",
    "    Ac_price=i.text\n",
    "    Act_price2.append(Ac_price)\n",
    "Act_price2"
   ]
  },
  {
   "cell_type": "code",
   "execution_count": 110,
   "metadata": {},
   "outputs": [
    {
     "data": {
      "text/plain": [
       "[<selenium.webdriver.remote.webelement.WebElement (session=\"72954aa8cffc2a62ae585b44d2c43139\", element=\"aecbf26f-fdb5-4a04-b629-bf641aa24123\")>,\n",
       " <selenium.webdriver.remote.webelement.WebElement (session=\"72954aa8cffc2a62ae585b44d2c43139\", element=\"fe61db43-6728-43fe-9f2b-4d9f176384f0\")>,\n",
       " <selenium.webdriver.remote.webelement.WebElement (session=\"72954aa8cffc2a62ae585b44d2c43139\", element=\"c0c8de44-39af-4204-9b6d-6fb210fd889b\")>,\n",
       " <selenium.webdriver.remote.webelement.WebElement (session=\"72954aa8cffc2a62ae585b44d2c43139\", element=\"4b7eb29c-dd8c-4de1-b136-b949af5bb0e8\")>]"
      ]
     },
     "execution_count": 110,
     "metadata": {},
     "output_type": "execute_result"
    }
   ],
   "source": [
    "Discount2=Q6.find_elements_by_xpath(\"//div[@class='_3Ay6Sb']\")\n",
    "Discount2[:4]"
   ]
  },
  {
   "cell_type": "code",
   "execution_count": 111,
   "metadata": {},
   "outputs": [
    {
     "data": {
      "text/plain": [
       "['78% off',\n",
       " '40% off',\n",
       " '87% off',\n",
       " '66% off',\n",
       " '83% off',\n",
       " '83% off',\n",
       " '33% off',\n",
       " '78% off',\n",
       " '85% off',\n",
       " '68% off',\n",
       " '83% off',\n",
       " '86% off',\n",
       " '72% off',\n",
       " '47% off',\n",
       " '84% off',\n",
       " '80% off',\n",
       " '67% off',\n",
       " '86% off',\n",
       " '87% off',\n",
       " '73% off',\n",
       " '13% off',\n",
       " '73% off',\n",
       " '72% off',\n",
       " '68% off',\n",
       " '80% off',\n",
       " '83% off',\n",
       " '84% off',\n",
       " '79% off',\n",
       " '27% off',\n",
       " '62% off',\n",
       " '80% off',\n",
       " '77% off',\n",
       " '79% off',\n",
       " '77% off',\n",
       " '83% off',\n",
       " '83% off',\n",
       " '79% off',\n",
       " '63% off',\n",
       " '87% off',\n",
       " '68% off']"
      ]
     },
     "execution_count": 111,
     "metadata": {},
     "output_type": "execute_result"
    }
   ],
   "source": [
    "Dis2=[]\n",
    "for i in Discount2:\n",
    "    offer=i.text\n",
    "    Dis2.append(offer)\n",
    "Dis2"
   ]
  },
  {
   "cell_type": "code",
   "execution_count": 113,
   "metadata": {},
   "outputs": [
    {
     "name": "stdout",
     "output_type": "stream",
     "text": [
      "https://www.flipkart.com/search?q=sunglasses&otracker=search&otracker1=search&marketplace=FLIPKART&as-show=on&as=off&page=3\n"
     ]
    }
   ],
   "source": [
    "Page2=Q6.find_element_by_link_text(\"3\")\n",
    "Page2.click()\n",
    "\n",
    "url2=Q6.current_url\n",
    "print(url2)"
   ]
  },
  {
   "cell_type": "code",
   "execution_count": 114,
   "metadata": {},
   "outputs": [],
   "source": [
    "Q6.get(url2)"
   ]
  },
  {
   "cell_type": "code",
   "execution_count": 115,
   "metadata": {},
   "outputs": [
    {
     "data": {
      "text/plain": [
       "[<selenium.webdriver.remote.webelement.WebElement (session=\"72954aa8cffc2a62ae585b44d2c43139\", element=\"823d3c99-e1d4-4170-b920-8f9a82a78b7d\")>,\n",
       " <selenium.webdriver.remote.webelement.WebElement (session=\"72954aa8cffc2a62ae585b44d2c43139\", element=\"b3321394-e9a2-4230-9074-00c701e752a1\")>,\n",
       " <selenium.webdriver.remote.webelement.WebElement (session=\"72954aa8cffc2a62ae585b44d2c43139\", element=\"3d2047dc-6f8a-4e06-a1ed-4aeca2eddc25\")>,\n",
       " <selenium.webdriver.remote.webelement.WebElement (session=\"72954aa8cffc2a62ae585b44d2c43139\", element=\"86e92829-e959-4b6c-872e-919e1914cdeb\")>]"
      ]
     },
     "execution_count": 115,
     "metadata": {},
     "output_type": "execute_result"
    }
   ],
   "source": [
    "Brand3_tags=Q6.find_elements_by_xpath(\"//div[@class='_2WkVRV']\")   \n",
    "Brand3_tags[:4]"
   ]
  },
  {
   "cell_type": "code",
   "execution_count": 118,
   "metadata": {},
   "outputs": [
    {
     "data": {
      "text/plain": [
       "['Fastrack',\n",
       " 'Phenomenal',\n",
       " 'Gansta',\n",
       " 'Royal Son',\n",
       " 'Rich Club',\n",
       " 'Fastrack',\n",
       " 'Elligator',\n",
       " 'Poland',\n",
       " 'Silver Kartz',\n",
       " 'NuVew',\n",
       " 'Fastrack',\n",
       " 'Winsome',\n",
       " 'NuVew',\n",
       " 'Specsmakers',\n",
       " 'Collet',\n",
       " 'Fastrack',\n",
       " 'Badfella',\n",
       " 'kingsunglasses',\n",
       " 'PC STAR',\n",
       " 'Aislin',\n",
       " 'simra',\n",
       " 'I Flash',\n",
       " 'Fastrack',\n",
       " 'NuVew',\n",
       " 'Criba',\n",
       " 'Criba',\n",
       " 'Scaglia',\n",
       " 'Phenomenal',\n",
       " 'Dannilo',\n",
       " 'ROYAL SON',\n",
       " 'ROYAL SON',\n",
       " 'Fastrack',\n",
       " 'PIRASO',\n",
       " 'Aislin',\n",
       " 'PIRASO',\n",
       " 'ROZZETTA CRAFT',\n",
       " 'Phenomenal',\n",
       " 'United Colors of Benetton',\n",
       " 'Ayezent',\n",
       " 'Aislin']"
      ]
     },
     "execution_count": 118,
     "metadata": {},
     "output_type": "execute_result"
    }
   ],
   "source": [
    "Brand3=[]\n",
    "for i in Brand3_tags:\n",
    "    brand=i.text\n",
    "    Brand3.append(brand)\n",
    "Brand3"
   ]
  },
  {
   "cell_type": "code",
   "execution_count": 119,
   "metadata": {},
   "outputs": [
    {
     "data": {
      "text/plain": [
       "[<selenium.webdriver.remote.webelement.WebElement (session=\"72954aa8cffc2a62ae585b44d2c43139\", element=\"5ae276e4-54b6-460f-a92d-f804822f4fec\")>,\n",
       " <selenium.webdriver.remote.webelement.WebElement (session=\"72954aa8cffc2a62ae585b44d2c43139\", element=\"a52cea16-2dbb-4233-8bbe-de6f74e0d558\")>,\n",
       " <selenium.webdriver.remote.webelement.WebElement (session=\"72954aa8cffc2a62ae585b44d2c43139\", element=\"ab1d889c-087a-485c-8be2-bdf82ea0e1fc\")>,\n",
       " <selenium.webdriver.remote.webelement.WebElement (session=\"72954aa8cffc2a62ae585b44d2c43139\", element=\"3407e414-a60d-4844-a45e-42d64b5c1d0a\")>]"
      ]
     },
     "execution_count": 119,
     "metadata": {},
     "output_type": "execute_result"
    }
   ],
   "source": [
    "Dis_price_tags3=Q6.find_elements_by_xpath('//div[@class=\"_30jeq3\"]')\n",
    "Dis_price_tags3[:4]"
   ]
  },
  {
   "cell_type": "code",
   "execution_count": 120,
   "metadata": {},
   "outputs": [
    {
     "data": {
      "text/plain": [
       "['₹652',\n",
       " '₹399',\n",
       " '₹288',\n",
       " '₹664',\n",
       " '₹199',\n",
       " '₹669',\n",
       " '₹328',\n",
       " '₹140',\n",
       " '₹246',\n",
       " '₹396',\n",
       " '₹1,142',\n",
       " '₹171',\n",
       " '₹198',\n",
       " '₹517',\n",
       " '₹249',\n",
       " '₹499',\n",
       " '₹269',\n",
       " '₹141',\n",
       " '₹238',\n",
       " '₹1,135',\n",
       " '₹234',\n",
       " '₹165',\n",
       " '₹899',\n",
       " '₹393',\n",
       " '₹235',\n",
       " '₹175',\n",
       " '₹165',\n",
       " '₹399',\n",
       " '₹236',\n",
       " '₹569',\n",
       " '₹599',\n",
       " '₹549',\n",
       " '₹225',\n",
       " '₹1,087',\n",
       " '₹225',\n",
       " '₹449',\n",
       " '₹399',\n",
       " '₹1,640',\n",
       " '₹224',\n",
       " '₹711']"
      ]
     },
     "execution_count": 120,
     "metadata": {},
     "output_type": "execute_result"
    }
   ],
   "source": [
    "Dis_Price3=[]\n",
    "for i in Dis_price_tags3:\n",
    "    price=i.text\n",
    "    Dis_Price3.append(price)\n",
    "Dis_Price3"
   ]
  },
  {
   "cell_type": "code",
   "execution_count": 121,
   "metadata": {},
   "outputs": [
    {
     "data": {
      "text/plain": [
       "[<selenium.webdriver.remote.webelement.WebElement (session=\"72954aa8cffc2a62ae585b44d2c43139\", element=\"14324844-4c29-4799-88bf-822b3afaa0a1\")>,\n",
       " <selenium.webdriver.remote.webelement.WebElement (session=\"72954aa8cffc2a62ae585b44d2c43139\", element=\"9504cb9a-0948-41dd-b449-831db020f672\")>,\n",
       " <selenium.webdriver.remote.webelement.WebElement (session=\"72954aa8cffc2a62ae585b44d2c43139\", element=\"f6cf7ea1-262b-4cb4-ac69-0ac29a0f1359\")>,\n",
       " <selenium.webdriver.remote.webelement.WebElement (session=\"72954aa8cffc2a62ae585b44d2c43139\", element=\"698de2ac-7d6a-4600-9ed0-3400241e91af\")>]"
      ]
     },
     "execution_count": 121,
     "metadata": {},
     "output_type": "execute_result"
    }
   ],
   "source": [
    "act_price3=Q6.find_elements_by_xpath(\"//div[@class='_3I9_wc']\")\n",
    "act_price2[:4]"
   ]
  },
  {
   "cell_type": "code",
   "execution_count": 122,
   "metadata": {},
   "outputs": [
    {
     "data": {
      "text/plain": [
       "['₹799',\n",
       " '₹1,999',\n",
       " '₹1,999',\n",
       " '₹1,999',\n",
       " '₹799',\n",
       " '₹799',\n",
       " '₹2,499',\n",
       " '₹499',\n",
       " '₹1,499',\n",
       " '₹1,250',\n",
       " '₹1,299',\n",
       " '₹999',\n",
       " '₹945',\n",
       " '₹990',\n",
       " '₹1,499',\n",
       " '₹899',\n",
       " '₹999',\n",
       " '₹999',\n",
       " '₹999',\n",
       " '₹4,250',\n",
       " '₹699',\n",
       " '₹1,199',\n",
       " '₹1,299',\n",
       " '₹1,250',\n",
       " '₹999',\n",
       " '₹499',\n",
       " '₹599',\n",
       " '₹1,999',\n",
       " '₹999',\n",
       " '₹1,499',\n",
       " '₹1,999',\n",
       " '₹899',\n",
       " '₹1,599',\n",
       " '₹4,100',\n",
       " '₹1,599',\n",
       " '₹1,995',\n",
       " '₹1,999',\n",
       " '₹4,100',\n",
       " '₹745',\n",
       " '₹3,200']"
      ]
     },
     "execution_count": 122,
     "metadata": {},
     "output_type": "execute_result"
    }
   ],
   "source": [
    "Act_price3=[]\n",
    "for i in act_price3:\n",
    "    Ac_price=i.text\n",
    "    Act_price3.append(Ac_price)\n",
    "Act_price3"
   ]
  },
  {
   "cell_type": "code",
   "execution_count": 123,
   "metadata": {},
   "outputs": [
    {
     "data": {
      "text/plain": [
       "[<selenium.webdriver.remote.webelement.WebElement (session=\"72954aa8cffc2a62ae585b44d2c43139\", element=\"5ad96eef-80f5-488f-ac32-fc0391cad5cc\")>,\n",
       " <selenium.webdriver.remote.webelement.WebElement (session=\"72954aa8cffc2a62ae585b44d2c43139\", element=\"4226b247-fd9a-4044-853c-a758bf9a87ac\")>,\n",
       " <selenium.webdriver.remote.webelement.WebElement (session=\"72954aa8cffc2a62ae585b44d2c43139\", element=\"40707ab9-f44d-49a1-a871-09865ce8861f\")>,\n",
       " <selenium.webdriver.remote.webelement.WebElement (session=\"72954aa8cffc2a62ae585b44d2c43139\", element=\"78e0eac9-ed1a-40b3-ac06-2fce520adae0\")>]"
      ]
     },
     "execution_count": 123,
     "metadata": {},
     "output_type": "execute_result"
    }
   ],
   "source": [
    "Discount3=Q6.find_elements_by_xpath(\"//div[@class='_3Ay6Sb']\")\n",
    "Discount3[:4]"
   ]
  },
  {
   "cell_type": "code",
   "execution_count": 124,
   "metadata": {},
   "outputs": [
    {
     "data": {
      "text/plain": [
       "['18% off',\n",
       " '80% off',\n",
       " '85% off',\n",
       " '66% off',\n",
       " '75% off',\n",
       " '16% off',\n",
       " '86% off',\n",
       " '71% off',\n",
       " '83% off',\n",
       " '68% off',\n",
       " '12% off',\n",
       " '82% off',\n",
       " '79% off',\n",
       " '47% off',\n",
       " '83% off',\n",
       " '44% off',\n",
       " '73% off',\n",
       " '85% off',\n",
       " '76% off',\n",
       " '73% off',\n",
       " '66% off',\n",
       " '86% off',\n",
       " '30% off',\n",
       " '68% off',\n",
       " '76% off',\n",
       " '64% off',\n",
       " '72% off',\n",
       " '80% off',\n",
       " '76% off',\n",
       " '62% off',\n",
       " '70% off',\n",
       " '38% off',\n",
       " '85% off',\n",
       " '73% off',\n",
       " '85% off',\n",
       " '77% off',\n",
       " '80% off',\n",
       " '60% off',\n",
       " '69% off',\n",
       " '77% off']"
      ]
     },
     "execution_count": 124,
     "metadata": {},
     "output_type": "execute_result"
    }
   ],
   "source": [
    "Dis3=[]\n",
    "for i in Discount3:\n",
    "    offer=i.text\n",
    "    Dis3.append(offer)\n",
    "Dis3"
   ]
  },
  {
   "cell_type": "markdown",
   "metadata": {},
   "source": [
    "Q7: Scrape 100 reviews data from flipkart.com for iphone11 phone. You have to\n",
    "go the link: https://www.flipkart.com/apple-iphone-11-black-64-gb-includesearpods-poweradapter/p/itm0f37c2240b217?pid=MOBFKCTSVZAXUHGR&lid=LSTMOBFKC\n",
    "TSVZAXUHGREPBFGI&marketplace."
   ]
  },
  {
   "cell_type": "code",
   "execution_count": 127,
   "metadata": {},
   "outputs": [],
   "source": [
    "Q7=webdriver.Chrome(\"D:\\\\Softwares\\\\chromedriver_win32\\\\chromedriver.exe\")"
   ]
  },
  {
   "cell_type": "code",
   "execution_count": 130,
   "metadata": {},
   "outputs": [],
   "source": [
    "Q7.get(\"https://www.flipkart.com/apple-iphone-11-black-64-gb-includes-earpods-power-adapter/product-reviews/itm0f37c2240b217?pid=MOBFKCTSVZAXUHGR&lid=LSTMOBFKCTSVZAXUHGREPBFGI&marketplace=FLIPKART%27)\")"
   ]
  },
  {
   "cell_type": "code",
   "execution_count": 123,
   "metadata": {},
   "outputs": [
    {
     "name": "stdout",
     "output_type": "stream",
     "text": [
      "https://www.flipkart.com/apple-iphone-11-black-64-gb-includes-earpods-power-adapter/product-reviews/itm0f37c2240b217?pid=MOBFKCTSVZAXUHGR&lid=LSTMOBFKCTSVZAXUHGREPBFGI&marketplace=FLIPKART\n"
     ]
    }
   ],
   "source": [
    "Q7.find_element_by_xpath(\"//div[@class='_3UAT2v _16PBlm']\").click()\n",
    "url=Q7.current_url\n",
    "print(url)"
   ]
  },
  {
   "cell_type": "code",
   "execution_count": 137,
   "metadata": {},
   "outputs": [],
   "source": [
    "Full_Rev=[]\n",
    "Ratings=[]\n",
    "Reviews=[]\n",
    "Full_Rev=[]\n",
    "\n",
    "for i in range(10):\n",
    "    url=Q7.find_element_by_xpath(\"//a[@class='ge-49M _2Kfbh8']\").get_attribute('href')\n",
    "    Q7.get(url)\n",
    "    \n",
    "    Rating=Q7.find_elements_by_xpath(\"//div[@class='_3LWZlK _1BLPMq']\")\n",
    "    for j in Rating:\n",
    "        review=j.text\n",
    "        Ratings.append(review)\n",
    "        \n",
    "    review=Q7.find_elements_by_xpath(\"//p[@class='_2-N8zT']\")\n",
    "    \n",
    "    for k in review:\n",
    "        rev=k.text\n",
    "        Reviews.append(rev)\n",
    "        \n",
    "    full_review=Q7.find_elements_by_xpath(\"//div[@class='t-ZTKy']\")\n",
    "    for l in full_review:\n",
    "        rev=l.text\n",
    "        Full_Rev.append(rev)\n",
    "        \n",
    "        "
   ]
  },
  {
   "cell_type": "code",
   "execution_count": 139,
   "metadata": {},
   "outputs": [
    {
     "data": {
      "text/html": [
       "<div>\n",
       "<style scoped>\n",
       "    .dataframe tbody tr th:only-of-type {\n",
       "        vertical-align: middle;\n",
       "    }\n",
       "\n",
       "    .dataframe tbody tr th {\n",
       "        vertical-align: top;\n",
       "    }\n",
       "\n",
       "    .dataframe thead th {\n",
       "        text-align: right;\n",
       "    }\n",
       "</style>\n",
       "<table border=\"1\" class=\"dataframe\">\n",
       "  <thead>\n",
       "    <tr style=\"text-align: right;\">\n",
       "      <th></th>\n",
       "      <th>Rating</th>\n",
       "      <th>Short Review</th>\n",
       "      <th>Full Review</th>\n",
       "    </tr>\n",
       "  </thead>\n",
       "  <tbody>\n",
       "    <tr>\n",
       "      <th>0</th>\n",
       "      <td>5</td>\n",
       "      <td>Perfect product!</td>\n",
       "      <td>Amazing phone with great cameras and better ba...</td>\n",
       "    </tr>\n",
       "    <tr>\n",
       "      <th>1</th>\n",
       "      <td>5</td>\n",
       "      <td>Great product</td>\n",
       "      <td>Amazing Powerful and Durable Gadget.\\n\\nI’m am...</td>\n",
       "    </tr>\n",
       "    <tr>\n",
       "      <th>2</th>\n",
       "      <td>5</td>\n",
       "      <td>Highly recommended</td>\n",
       "      <td>iphone 11 is a very good phone to buy only if ...</td>\n",
       "    </tr>\n",
       "    <tr>\n",
       "      <th>3</th>\n",
       "      <td>5</td>\n",
       "      <td>Perfect product!</td>\n",
       "      <td>It’s a must buy who is looking for an upgrade ...</td>\n",
       "    </tr>\n",
       "    <tr>\n",
       "      <th>4</th>\n",
       "      <td>5</td>\n",
       "      <td>Brilliant</td>\n",
       "      <td>The Best Phone for the Money\\n\\nThe iPhone 11 ...</td>\n",
       "    </tr>\n",
       "    <tr>\n",
       "      <th>...</th>\n",
       "      <td>...</td>\n",
       "      <td>...</td>\n",
       "      <td>...</td>\n",
       "    </tr>\n",
       "    <tr>\n",
       "      <th>95</th>\n",
       "      <td>5</td>\n",
       "      <td>Perfect product!</td>\n",
       "      <td>Value for money❤️❤️\\nIts awesome mobile phone ...</td>\n",
       "    </tr>\n",
       "    <tr>\n",
       "      <th>96</th>\n",
       "      <td>5</td>\n",
       "      <td>Worth every penny</td>\n",
       "      <td>Best budget Iphone till date ❤️ go for it guys...</td>\n",
       "    </tr>\n",
       "    <tr>\n",
       "      <th>97</th>\n",
       "      <td>5</td>\n",
       "      <td>Worth every penny</td>\n",
       "      <td>It’s been almost a month since I have been usi...</td>\n",
       "    </tr>\n",
       "    <tr>\n",
       "      <th>98</th>\n",
       "      <td>5</td>\n",
       "      <td>Wonderful</td>\n",
       "      <td>*Review after 10 months of usage*\\nDoesn't see...</td>\n",
       "    </tr>\n",
       "    <tr>\n",
       "      <th>99</th>\n",
       "      <td>4</td>\n",
       "      <td>Nice product</td>\n",
       "      <td>Awesome Phone. Slightly high price but worth. ...</td>\n",
       "    </tr>\n",
       "  </tbody>\n",
       "</table>\n",
       "<p>100 rows × 3 columns</p>\n",
       "</div>"
      ],
      "text/plain": [
       "   Rating        Short Review  \\\n",
       "0       5    Perfect product!   \n",
       "1       5       Great product   \n",
       "2       5  Highly recommended   \n",
       "3       5    Perfect product!   \n",
       "4       5           Brilliant   \n",
       "..    ...                 ...   \n",
       "95      5    Perfect product!   \n",
       "96      5   Worth every penny   \n",
       "97      5   Worth every penny   \n",
       "98      5           Wonderful   \n",
       "99      4        Nice product   \n",
       "\n",
       "                                          Full Review  \n",
       "0   Amazing phone with great cameras and better ba...  \n",
       "1   Amazing Powerful and Durable Gadget.\\n\\nI’m am...  \n",
       "2   iphone 11 is a very good phone to buy only if ...  \n",
       "3   It’s a must buy who is looking for an upgrade ...  \n",
       "4   The Best Phone for the Money\\n\\nThe iPhone 11 ...  \n",
       "..                                                ...  \n",
       "95  Value for money❤️❤️\\nIts awesome mobile phone ...  \n",
       "96  Best budget Iphone till date ❤️ go for it guys...  \n",
       "97  It’s been almost a month since I have been usi...  \n",
       "98  *Review after 10 months of usage*\\nDoesn't see...  \n",
       "99  Awesome Phone. Slightly high price but worth. ...  \n",
       "\n",
       "[100 rows x 3 columns]"
      ]
     },
     "execution_count": 139,
     "metadata": {},
     "output_type": "execute_result"
    }
   ],
   "source": [
    "df=pd.DataFrame({'Rating': Ratings,\n",
    "                'Short Review': Reviews,\n",
    "               'Full Review': Full_Rev})\n",
    "df"
   ]
  },
  {
   "cell_type": "code",
   "execution_count": null,
   "metadata": {},
   "outputs": [],
   "source": []
  },
  {
   "cell_type": "code",
   "execution_count": null,
   "metadata": {},
   "outputs": [],
   "source": []
  },
  {
   "cell_type": "markdown",
   "metadata": {},
   "source": [
    "Q10: Go to webpage https://www.amazon.in/ Enter “Laptop” in the search field and then click the search icon.\n",
    " Then set CPU Type filter to “Intel Core i7” and “Intel Core i9” as shown in the"
   ]
  },
  {
   "cell_type": "code",
   "execution_count": 46,
   "metadata": {},
   "outputs": [],
   "source": [
    "Q10=webdriver.Chrome(\"D:\\\\Softwares\\\\chromedriver_win32\\\\chromedriver.exe\")\n"
   ]
  },
  {
   "cell_type": "code",
   "execution_count": 47,
   "metadata": {},
   "outputs": [],
   "source": [
    "Q10.get(\"https://www.amazon.in/\")"
   ]
  },
  {
   "cell_type": "code",
   "execution_count": 48,
   "metadata": {},
   "outputs": [
    {
     "name": "stdout",
     "output_type": "stream",
     "text": [
      "https://www.amazon.in/s?k=Laptop&ref=nb_sb_noss\n"
     ]
    }
   ],
   "source": [
    "Search=Q10.find_element_by_xpath(\"//input[@id='twotabsearchtextbox']\")\n",
    "Search.send_keys(\"Laptop \")\n",
    "submit=Q10.find_element_by_xpath(\"//input[@type='submit']\")\n",
    "submit.click()\n",
    "url=Q10.current_url\n",
    "print(url)"
   ]
  },
  {
   "cell_type": "code",
   "execution_count": 49,
   "metadata": {},
   "outputs": [
    {
     "name": "stdout",
     "output_type": "stream",
     "text": [
      "https://www.amazon.in/s?k=Laptop&rh=n%3A1375424031%2Cp_n_feature_thirteen_browse-bin%3A12598163031&dc&qid=1613761700&rnid=12598141031&ref=sr_nr_p_n_feature_thirteen_browse-bin_16\n"
     ]
    }
   ],
   "source": [
    "cpu=Q10.find_element_by_link_text(\"Intel Core i7\")\n",
    "cpu.click()\n",
    "url1=Q10.current_url\n",
    "print(url1)"
   ]
  },
  {
   "cell_type": "code",
   "execution_count": 50,
   "metadata": {},
   "outputs": [],
   "source": [
    "filter_button=Q10.find_elements_by_xpath(\"//a[@class='a-link-normal s-navigation-item']/span\")\n",
    "for i in filter_button:\n",
    "    if i.text=='Intel Core i7':\n",
    "        i.click()\n",
    "        break"
   ]
  },
  {
   "cell_type": "code",
   "execution_count": 51,
   "metadata": {},
   "outputs": [],
   "source": [
    "filter_button=Q10.find_elements_by_xpath(\"//a[@class='a-link-normal s-navigation-item']/span\")\n",
    "for i in filter_button:\n",
    "    if i.text=='Intel Core i9':\n",
    "        i.click()\n",
    "        break"
   ]
  },
  {
   "cell_type": "code",
   "execution_count": 52,
   "metadata": {},
   "outputs": [
    {
     "data": {
      "text/plain": [
       "[<selenium.webdriver.remote.webelement.WebElement (session=\"07933eb04d6bf06a128ad5554de26a30\", element=\"17e5b5fa-40d8-467d-a803-20bbb8103604\")>,\n",
       " <selenium.webdriver.remote.webelement.WebElement (session=\"07933eb04d6bf06a128ad5554de26a30\", element=\"530f2358-6135-4f73-9048-a10662754414\")>,\n",
       " <selenium.webdriver.remote.webelement.WebElement (session=\"07933eb04d6bf06a128ad5554de26a30\", element=\"1f580261-c22f-42c0-b509-908567cac4b7\")>,\n",
       " <selenium.webdriver.remote.webelement.WebElement (session=\"07933eb04d6bf06a128ad5554de26a30\", element=\"0363b869-49d7-4a89-a452-b43bd09e1e1b\")>,\n",
       " <selenium.webdriver.remote.webelement.WebElement (session=\"07933eb04d6bf06a128ad5554de26a30\", element=\"e8dff252-0926-4df9-8929-6500ac068818\")>,\n",
       " <selenium.webdriver.remote.webelement.WebElement (session=\"07933eb04d6bf06a128ad5554de26a30\", element=\"68cf19e0-f18f-4b94-b56f-5aff319fe0f8\")>,\n",
       " <selenium.webdriver.remote.webelement.WebElement (session=\"07933eb04d6bf06a128ad5554de26a30\", element=\"18feef70-0ab3-4d3b-8489-2328991948f1\")>,\n",
       " <selenium.webdriver.remote.webelement.WebElement (session=\"07933eb04d6bf06a128ad5554de26a30\", element=\"e089ba34-b00b-4834-b92a-05d671b830d3\")>,\n",
       " <selenium.webdriver.remote.webelement.WebElement (session=\"07933eb04d6bf06a128ad5554de26a30\", element=\"1a624fcd-b99f-4db4-91d0-b2ec035c28b5\")>,\n",
       " <selenium.webdriver.remote.webelement.WebElement (session=\"07933eb04d6bf06a128ad5554de26a30\", element=\"576f167d-78dc-45cb-8666-820c77912c70\")>,\n",
       " <selenium.webdriver.remote.webelement.WebElement (session=\"07933eb04d6bf06a128ad5554de26a30\", element=\"daf0784f-188e-41db-8331-eacceba02124\")>,\n",
       " <selenium.webdriver.remote.webelement.WebElement (session=\"07933eb04d6bf06a128ad5554de26a30\", element=\"c04f3e7c-6f98-4190-b25f-1fd74de83827\")>,\n",
       " <selenium.webdriver.remote.webelement.WebElement (session=\"07933eb04d6bf06a128ad5554de26a30\", element=\"f94f2ca7-fd2c-4265-acb1-682efc728420\")>,\n",
       " <selenium.webdriver.remote.webelement.WebElement (session=\"07933eb04d6bf06a128ad5554de26a30\", element=\"fe565d40-9715-4e15-8c99-dfc4cb5bee8b\")>,\n",
       " <selenium.webdriver.remote.webelement.WebElement (session=\"07933eb04d6bf06a128ad5554de26a30\", element=\"4e4b5eba-9beb-4b42-bc1b-4cc33dbfc5f9\")>,\n",
       " <selenium.webdriver.remote.webelement.WebElement (session=\"07933eb04d6bf06a128ad5554de26a30\", element=\"60042f57-9f4c-4dd1-826f-74a61fcfbf24\")>,\n",
       " <selenium.webdriver.remote.webelement.WebElement (session=\"07933eb04d6bf06a128ad5554de26a30\", element=\"f5adbd5a-1fad-422c-ad16-83102967e9af\")>,\n",
       " <selenium.webdriver.remote.webelement.WebElement (session=\"07933eb04d6bf06a128ad5554de26a30\", element=\"e8e341f9-a5bb-479c-b2d2-487c0c230527\")>,\n",
       " <selenium.webdriver.remote.webelement.WebElement (session=\"07933eb04d6bf06a128ad5554de26a30\", element=\"b182dca2-5cf1-4bfa-a79a-79e1419edcd7\")>,\n",
       " <selenium.webdriver.remote.webelement.WebElement (session=\"07933eb04d6bf06a128ad5554de26a30\", element=\"5d68d6c9-7a86-4a30-9d45-baba903ad180\")>]"
      ]
     },
     "execution_count": 52,
     "metadata": {},
     "output_type": "execute_result"
    }
   ],
   "source": [
    "Title=Q10.find_elements_by_xpath(\"//span[@class='a-size-medium a-color-base a-text-normal']\")\n",
    "Title\n"
   ]
  },
  {
   "cell_type": "code",
   "execution_count": 53,
   "metadata": {},
   "outputs": [
    {
     "data": {
      "text/plain": [
       "['ASUS ZenBook Pro Duo Intel Core i9-10980HK 10th Gen 15.6\" 4K UHD OLED Touchscreen Laptop (32GB RAM/1TB NVMe SSD/Windows 10/6GB NVIDIA GeForce RTX 2060 Graphics/Celestial Blue/2.5 Kg), UX581LV-H2035T',\n",
       " 'ASUS ZenBook Pro 15, Intel Core i9-8950HK 8th Gen, 15.6-Inch 4K UHD Thin and Light Touch Laptop (8GB RAM/1TB SSD/Windows 10/4GB GeForce GTX 1050 Ti Graphics/Deep Dive Blue/1.88 kg), UX580GE-E2032T',\n",
       " '(Renewed) Dell G7 15 Gaming 7588 Laptop Intel Core 8th Generation i9-8950HK/15.6 inch FHD/1TB + 128GB SSD/16GB/6GB Nvidia Graphics/Win 10 Home SL/Licorice Black - LCD Back Cover',\n",
       " 'Dell XPS 9570 15.6-inch UHD Laptop (8th Gen i9-8950HK/32GB/1TB SSD/Win 10 + MS Office/Integrated Graphics), Silver',\n",
       " 'Dell G Series G7 7588 15.6-inch FHD Laptop (8th gen Core i9-8950HK/16GB/1TB + 128GB SSD/Windows 10/MS Office/6 GB Nvidia GeForce GTX 1060 Graphics) Alpine White',\n",
       " 'Dell XPS 7590 15.6-inch UHD Display Laptop (9th Gen Core i9-9980HK/32GB/1TB SSD/Win 10 + MS Office/4GB Nvidia Graphics), Abyss Grey',\n",
       " 'ASUS ROG Strix Scar 15 (2020), 15.6\" FHD 300Hz/3ms, Intel Core i9-10980HK 10th Gen, RTX 2070 Super 8GB Graphics, Gaming Laptop (32GB RAM/1TB NVMe SSD/Windows 10/Black/2.35 Kg), G532LWS-HF079T',\n",
       " 'ASUS ROG Strix Scar 17 (2020), 17.3\" FHD 300Hz/3ms, Intel Core i9-10980HK 10th Gen, RTX 2080 Super GDDR6 8GB Graphics, Gaming Laptop (32GB/2TB RAID 0 SSD/Windows 10/Black/2.99 Kg), G732LXS-HG059T',\n",
       " 'ASUS ZenBook Pro Duo UX581 Intel Core i9 9th Gen 15.6\" 4K UHD OLED Touchscreen Laptop (32GB RAM/1TB NVMe SSD/Windows 10/6GB GDDR6 Graphics Card/ScreenPad Plus/Celestial Blue/2.50 Kg), UX581GV-H9201T',\n",
       " 'Lenovo Legion 7i 10th Gen Intel Core i9 15.6 inch Full HD Gaming Laptop (16GB/1TB SSD/Windows 10/MS Office 2019/144 Hz/NVIDIA RTX 2080 8GB GDDR6 Graphics/Slate Grey/2.25Kg), 81YU006HIN']"
      ]
     },
     "execution_count": 53,
     "metadata": {},
     "output_type": "execute_result"
    }
   ],
   "source": [
    "Titles=[]\n",
    "for i in Title[:10]:\n",
    "    title=i.text\n",
    "    Titles.append(title)\n",
    "Titles"
   ]
  },
  {
   "cell_type": "code",
   "execution_count": 54,
   "metadata": {},
   "outputs": [
    {
     "data": {
      "text/plain": [
       "['2,68,325',\n",
       " '1,63,900',\n",
       " '1,19,755',\n",
       " '2,45,990',\n",
       " '1,30,000',\n",
       " '2,85,000',\n",
       " '1,99,980',\n",
       " '2,76,980',\n",
       " '2,67,990',\n",
       " '2,62,990']"
      ]
     },
     "execution_count": 54,
     "metadata": {},
     "output_type": "execute_result"
    }
   ],
   "source": [
    "price=[]\n",
    "prices=Q10.find_elements_by_xpath(\"//span[@class='a-price-whole']\")\n",
    "for i in prices[:10]:\n",
    "    price.append(i.text)\n",
    "price"
   ]
  },
  {
   "cell_type": "code",
   "execution_count": 55,
   "metadata": {},
   "outputs": [],
   "source": [
    "from selenium.common.exceptions import StaleElementReferenceException, NoSuchElementException\n"
   ]
  },
  {
   "cell_type": "code",
   "execution_count": 40,
   "metadata": {},
   "outputs": [],
   "source": [
    "Ratings=[]\n",
    "Rating=Q10.find_elements_by_xpath('//i[@class=\"a-icon a-icon-star-small a-star-small-4 aok-align-bottom\"]')\n",
    "rates=[]\n",
    "for i in Rating[:10]:\n",
    "    rates.append(i.get_attribute('href'))\n",
    "for url in rates:\n",
    "    Q10.get(Rating)\n",
    "    try:                  \n",
    "        rate=Q10.find_element_by_xpath(\"//span[@id='acrCustomerReviewText']\")\n",
    "        rate.click()                                                      \n",
    "        rating=Q10.find_element_by_xpath(\"//span[@class='a-size-medium a-color-base']\")\n",
    "        Ratings.append(rating.text)\n",
    "        \n",
    "    except NoSuchElementException   as e:\n",
    "        Ratings.append(\"NO rating\")\n",
    "    "
   ]
  },
  {
   "cell_type": "code",
   "execution_count": 57,
   "metadata": {},
   "outputs": [
    {
     "name": "stdout",
     "output_type": "stream",
     "text": [
      "10\n",
      "10\n",
      "10\n"
     ]
    }
   ],
   "source": [
    "print(len(Titles))\n",
    "print(len(price))\n",
    "print(len(Ratings))"
   ]
  },
  {
   "cell_type": "code",
   "execution_count": 58,
   "metadata": {},
   "outputs": [
    {
     "name": "stdout",
     "output_type": "stream",
     "text": [
      "                                               Title     Price       Ratings\n",
      "0  ASUS ZenBook Pro Duo Intel Core i9-10980HK 10t...  2,68,325    5 out of 5\n",
      "1  ASUS ZenBook Pro 15, Intel Core i9-8950HK 8th ...  1,63,900     NO rating\n",
      "2  (Renewed) Dell G7 15 Gaming 7588 Laptop Intel ...  1,19,755     NO rating\n",
      "3  Dell XPS 9570 15.6-inch UHD Laptop (8th Gen i9...  2,45,990  2.3 out of 5\n",
      "4  Dell G Series G7 7588 15.6-inch FHD Laptop (8t...  1,30,000  2.9 out of 5\n",
      "5  Dell XPS 7590 15.6-inch UHD Display Laptop (9t...  2,85,000  3.5 out of 5\n",
      "6  ASUS ROG Strix Scar 15 (2020), 15.6\" FHD 300Hz...  1,99,980  3.8 out of 5\n",
      "7  ASUS ROG Strix Scar 17 (2020), 17.3\" FHD 300Hz...  2,76,980    5 out of 5\n",
      "8  ASUS ZenBook Pro Duo UX581 Intel Core i9 9th G...  2,67,990  4.1 out of 5\n",
      "9  Lenovo Legion 7i 10th Gen Intel Core i9 15.6 i...  2,62,990  3.1 out of 5\n"
     ]
    }
   ],
   "source": [
    "df=pd.DataFrame({'Title':Titles,\n",
    "                'Price':price,\n",
    "                'Ratings':Ratings})\n",
    "#printing dataframe\n",
    "print(df)"
   ]
  },
  {
   "cell_type": "markdown",
   "metadata": {},
   "source": [
    "Q8: Scrape data for first 100 sneakers you find when you visit flipkart.com and\n",
    "search for “sneakers” in the search field.\n"
   ]
  },
  {
   "cell_type": "code",
   "execution_count": 93,
   "metadata": {},
   "outputs": [],
   "source": [
    "Q8=webdriver.Chrome(\"D:\\\\Softwares\\\\chromedriver_win32\\\\chromedriver.exe\")"
   ]
  },
  {
   "cell_type": "code",
   "execution_count": 94,
   "metadata": {},
   "outputs": [],
   "source": [
    "Q8.get(\"https://www.flipkart.com/\")"
   ]
  },
  {
   "cell_type": "code",
   "execution_count": 95,
   "metadata": {},
   "outputs": [],
   "source": [
    "close=Q8.find_element_by_xpath(\"//button[@class='_2KpZ6l _2doB4z']\")\n",
    "close.click()"
   ]
  },
  {
   "cell_type": "code",
   "execution_count": 96,
   "metadata": {},
   "outputs": [],
   "source": [
    "Search=Q8.find_element_by_xpath(\"//input[@type='text']\")\n",
    "Search.clear()\n",
    "Search.send_keys(\"sneakers\")\n",
    "Search_button=Q8.find_element_by_xpath(\"//button[@class='L0Z3Pu']\")\n",
    "Search_button.click()"
   ]
  },
  {
   "cell_type": "code",
   "execution_count": 98,
   "metadata": {},
   "outputs": [],
   "source": [
    "Brand=[]\n",
    "Dis=[]\n",
    "Price=[]\n",
    "Dec=[]\n",
    "urls=[]\n",
    "\n",
    "for i in range(10):\n",
    "    urls=Q8.find_element_by_xpath(\"//a[@class='ge-49M']\").get_attribute('href')\n",
    "    Q8.get(urls)\n",
    "    \n",
    "    for j in Q8.find_elements_by_xpath(\"//div[@class='_2WkVRV']\"):\n",
    "        Brand.append(j.text)\n",
    "        \n",
    "    for k in Q8.find_elements_by_xpath(\"//div[@class='_3Ay6Sb']\"):\n",
    "        Dis.append(k.text)\n",
    "        \n",
    "    for l in Q8.find_elements_by_xpath(\"//div[@class='_3I9_wc']\"):\n",
    "        Price.append(l.text)\n",
    "        \n",
    "    for m in Q8.find_elements_by_xpath(\"//a[@class='IRpwTa']\"):\n",
    "        Dec.append(m.text)\n"
   ]
  },
  {
   "cell_type": "code",
   "execution_count": 99,
   "metadata": {},
   "outputs": [
    {
     "name": "stdout",
     "output_type": "stream",
     "text": [
      "400\n",
      "400\n",
      "400\n",
      "350\n"
     ]
    }
   ],
   "source": [
    "print(len(Brand))\n",
    "print(len(Dis))\n",
    "print(len(Price))\n",
    "print(len(Dec))"
   ]
  },
  {
   "cell_type": "code",
   "execution_count": 101,
   "metadata": {},
   "outputs": [
    {
     "name": "stdout",
     "output_type": "stream",
     "text": [
      "           Brand Description   Price  \\\n",
      "0       ASTEROID     62% off    ₹999   \n",
      "1      Rockfield     62% off    ₹999   \n",
      "2        Shoefly     65% off    ₹998   \n",
      "3       inklenzo     50% off    ₹999   \n",
      "4         Armado     50% off    ₹998   \n",
      "..           ...         ...     ...   \n",
      "95  Black Bottom     60% off    ₹999   \n",
      "96     SCATCHITE     60% off    ₹999   \n",
      "97  Robbie Jones     57% off    ₹999   \n",
      "98       Shoefly     70% off    ₹998   \n",
      "99     Marc Ecko     52% off  ₹2,199   \n",
      "\n",
      "                                             Discount  \n",
      "0   Feather Print New Spring Season White Shoes Me...  \n",
      "1                                    Sneakers For Men  \n",
      "2   Combo Men Pack of 2 Loafers Shoes Sneakers For...  \n",
      "3                            Walking Sneakers For Men  \n",
      "4                                    Sneakers For Men  \n",
      "..                                                ...  \n",
      "95     White Sneaker For Men's/Boy's Sneakers For Men  \n",
      "96                                   Sneakers For Men  \n",
      "97                                   Sneakers For Men  \n",
      "98                 Super 445 Fashion Sneakers For Men  \n",
      "99        Casuals, Canvas, Partywear Sneakers For Men  \n",
      "\n",
      "[100 rows x 4 columns]\n"
     ]
    }
   ],
   "source": [
    "df=pd.DataFrame({'Brand':Brand[:100],\n",
    "                'Description':Dis[:100],\n",
    "                'Price':Price[:100],\n",
    "                'Discount':Dec[:100]})\n",
    "#printing dataframe\n",
    "print(df)"
   ]
  },
  {
   "cell_type": "markdown",
   "metadata": {},
   "source": [
    "Q9: Go to the link - https://www.myntra.com/shoes\n",
    "Set Price filter to “Rs. 6649 to Rs. 13099” , Color filter to “Black”"
   ]
  },
  {
   "cell_type": "code",
   "execution_count": 102,
   "metadata": {},
   "outputs": [],
   "source": [
    "Q9=webdriver.Chrome(\"D:\\\\Softwares\\\\chromedriver_win32\\\\chromedriver.exe\")"
   ]
  },
  {
   "cell_type": "code",
   "execution_count": 104,
   "metadata": {},
   "outputs": [],
   "source": [
    "Q9.get(\"https://www.myntra.com/shoes?f=Color%3ABlack_36454f&plaEnabled=false&rf=Price%3A6612.0_13075.0_6612.0%20TO%2013075.0\")"
   ]
  },
  {
   "cell_type": "code",
   "execution_count": 115,
   "metadata": {},
   "outputs": [],
   "source": [
    "start=0\n",
    "end=8\n",
    "for page in range(start,end): \n",
    "    nxt_button=Q9.find_element_by_xpath(\"//li[@class='pagination-next']\")\n",
    "    \n",
    "    \n",
    "    shoe=[]\n",
    "    s_desc=[]\n",
    "    desc=[]\n",
    "    price=[]\n",
    "    \n",
    "    \n",
    "    \n",
    "    Names=Q9.find_elements_by_xpath(\"//div[@class='product-productMetaInfo']/h3\")\n",
    "    \n",
    "    for i in Names:\n",
    "        shoe.append(i.text)\n",
    "    \n",
    "    desc=Q9.find_elements_by_xpath(\"//div[@class='product-productMetaInfo']/h4\")\n",
    "    for i in desc:\n",
    "        s_desc.append(i.text)\n",
    "    \n",
    "    for j in range(0,len(s_desc),2):\n",
    "        desc.append(s_desc[j])\n",
    "    \n",
    "    \n",
    "    desc=Q9.find_elements_by_xpath(\"//div[@class='product-price']\")\n",
    "    for i in desc:\n",
    "         price.append(i.text)\n",
    "    \n",
    "    \n",
    "  "
   ]
  },
  {
   "cell_type": "code",
   "execution_count": 119,
   "metadata": {},
   "outputs": [
    {
     "data": {
      "text/html": [
       "<div>\n",
       "<style scoped>\n",
       "    .dataframe tbody tr th:only-of-type {\n",
       "        vertical-align: middle;\n",
       "    }\n",
       "\n",
       "    .dataframe tbody tr th {\n",
       "        vertical-align: top;\n",
       "    }\n",
       "\n",
       "    .dataframe thead th {\n",
       "        text-align: right;\n",
       "    }\n",
       "</style>\n",
       "<table border=\"1\" class=\"dataframe\">\n",
       "  <thead>\n",
       "    <tr style=\"text-align: right;\">\n",
       "      <th></th>\n",
       "      <th>Brand</th>\n",
       "      <th>Short-description</th>\n",
       "      <th>Price</th>\n",
       "    </tr>\n",
       "  </thead>\n",
       "  <tbody>\n",
       "    <tr>\n",
       "      <th>0</th>\n",
       "      <td>Nike</td>\n",
       "      <td>Men JORDAN DELTA Basketball</td>\n",
       "      <td>Rs. 12495</td>\n",
       "    </tr>\n",
       "    <tr>\n",
       "      <th>1</th>\n",
       "      <td>Nike</td>\n",
       "      <td>Men AIR ZOOM VOMERO Running</td>\n",
       "      <td>Rs. 10796Rs. 13495(20% OFF)</td>\n",
       "    </tr>\n",
       "    <tr>\n",
       "      <th>2</th>\n",
       "      <td>Nike</td>\n",
       "      <td>Women AIR ZOOM Running Shoes</td>\n",
       "      <td>Rs. 7996Rs. 9995(20% OFF)</td>\n",
       "    </tr>\n",
       "    <tr>\n",
       "      <th>3</th>\n",
       "      <td>Nike</td>\n",
       "      <td>AIR ZOOM PEGASUS Running Shoes</td>\n",
       "      <td>Rs. 8621Rs. 11495(25% OFF)</td>\n",
       "    </tr>\n",
       "    <tr>\n",
       "      <th>4</th>\n",
       "      <td>Nike</td>\n",
       "      <td>Men JOYRIDE Running Shoes</td>\n",
       "      <td>Rs. 11996Rs. 14995(20% OFF)</td>\n",
       "    </tr>\n",
       "  </tbody>\n",
       "</table>\n",
       "</div>"
      ],
      "text/plain": [
       "  Brand               Short-description                        Price\n",
       "0  Nike     Men JORDAN DELTA Basketball                    Rs. 12495\n",
       "1  Nike     Men AIR ZOOM VOMERO Running  Rs. 10796Rs. 13495(20% OFF)\n",
       "2  Nike    Women AIR ZOOM Running Shoes    Rs. 7996Rs. 9995(20% OFF)\n",
       "3  Nike  AIR ZOOM PEGASUS Running Shoes   Rs. 8621Rs. 11495(25% OFF)\n",
       "4  Nike       Men JOYRIDE Running Shoes  Rs. 11996Rs. 14995(20% OFF)"
      ]
     },
     "execution_count": 119,
     "metadata": {},
     "output_type": "execute_result"
    }
   ],
   "source": [
    "df=pd.DataFrame({'Brand': shoe,'Short-description': desc,'Price': price})\n",
    "df.head()"
   ]
  },
  {
   "cell_type": "code",
   "execution_count": null,
   "metadata": {},
   "outputs": [],
   "source": []
  }
 ],
 "metadata": {
  "kernelspec": {
   "display_name": "Python 3",
   "language": "python",
   "name": "python3"
  },
  "language_info": {
   "codemirror_mode": {
    "name": "ipython",
    "version": 3
   },
   "file_extension": ".py",
   "mimetype": "text/x-python",
   "name": "python",
   "nbconvert_exporter": "python",
   "pygments_lexer": "ipython3",
   "version": "3.8.5"
  }
 },
 "nbformat": 4,
 "nbformat_minor": 4
}
