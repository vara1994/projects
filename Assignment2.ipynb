{
 "cells": [
  {
   "cell_type": "code",
   "execution_count": 2,
   "metadata": {},
   "outputs": [],
   "source": [
    "import selenium\n",
    "import pandas as pd\n",
    "from selenium import webdriver"
   ]
  },
  {
   "cell_type": "code",
   "execution_count": 3,
   "metadata": {},
   "outputs": [],
   "source": [
    "driver= webdriver.Chrome(\"D:\\\\Softwares\\\\chromedriver_win32\\\\chromedriver.exe\")"
   ]
  },
  {
   "cell_type": "code",
   "execution_count": 4,
   "metadata": {},
   "outputs": [],
   "source": [
    "driver.get('https://www.naukri.com/')"
   ]
  },
  {
   "cell_type": "code",
   "execution_count": 5,
   "metadata": {},
   "outputs": [],
   "source": [
    "Search=driver.find_element_by_xpath(\"//input[@placeholder='Skills, Designations, Companies']\")\n",
    "Search.send_keys('Data Analyst')\n",
    "Location=driver.find_element_by_id('qsb-location-sugg')\n",
    "Location.send_keys('Bangalore')\n",
    "Search_button=driver.find_element_by_xpath('//div[@class=\"search-btn\"]/button')\n",
    "Search_button.click()\n"
   ]
  },
  {
   "cell_type": "code",
   "execution_count": 6,
   "metadata": {},
   "outputs": [
    {
     "name": "stdout",
     "output_type": "stream",
     "text": [
      "https://www.naukri.com/data-analyst-jobs-in-bangalore?k=data%20analyst&l=bangalore\n"
     ]
    }
   ],
   "source": [
    "Url=driver.current_url\n",
    "print(Url)"
   ]
  },
  {
   "cell_type": "code",
   "execution_count": 7,
   "metadata": {},
   "outputs": [],
   "source": [
    "driver.get(Url)"
   ]
  },
  {
   "cell_type": "code",
   "execution_count": 8,
   "metadata": {},
   "outputs": [],
   "source": [
    "job_title=[]\n",
    "company_name=[]\n",
    "location_List=[]\n",
    "experience_List=[]"
   ]
  },
  {
   "cell_type": "code",
   "execution_count": 9,
   "metadata": {},
   "outputs": [
    {
     "data": {
      "text/plain": [
       "[<selenium.webdriver.remote.webelement.WebElement (session=\"a8b163264fe2a9ce6976b472b883e6f4\", element=\"5cfdd812-5a15-45e7-80ab-c5743a815279\")>,\n",
       " <selenium.webdriver.remote.webelement.WebElement (session=\"a8b163264fe2a9ce6976b472b883e6f4\", element=\"caccc8f1-15a3-4882-8394-0e91e97053c7\")>,\n",
       " <selenium.webdriver.remote.webelement.WebElement (session=\"a8b163264fe2a9ce6976b472b883e6f4\", element=\"c5edf487-befd-40f2-848c-4918f756461c\")>,\n",
       " <selenium.webdriver.remote.webelement.WebElement (session=\"a8b163264fe2a9ce6976b472b883e6f4\", element=\"53cd3c6b-3462-47a2-91ae-12640495b4a6\")>]"
      ]
     },
     "execution_count": 9,
     "metadata": {},
     "output_type": "execute_result"
    }
   ],
   "source": [
    "title_tags=driver.find_elements_by_xpath(\"//a[@class='title fw500 ellipsis']\")\n",
    "title_tags[:4]"
   ]
  },
  {
   "cell_type": "code",
   "execution_count": 10,
   "metadata": {},
   "outputs": [
    {
     "data": {
      "text/plain": [
       "['MIS/ Data Analyst-(SQL,Automation,Excel/PowerBI,Dashboards) - Contract',\n",
       " 'Data Analyst - SAP',\n",
       " 'Hiring Data Analysts on Contract',\n",
       " 'Senior Data Analyst']"
      ]
     },
     "execution_count": 10,
     "metadata": {},
     "output_type": "execute_result"
    }
   ],
   "source": [
    "for i in title_tags:\n",
    "    title=i.text\n",
    "    job_title.append(title)\n",
    "job_title[:4]"
   ]
  },
  {
   "cell_type": "code",
   "execution_count": 11,
   "metadata": {},
   "outputs": [
    {
     "data": {
      "text/plain": [
       "[<selenium.webdriver.remote.webelement.WebElement (session=\"a8b163264fe2a9ce6976b472b883e6f4\", element=\"24105050-91ea-4f51-8476-a4b038c1bf12\")>,\n",
       " <selenium.webdriver.remote.webelement.WebElement (session=\"a8b163264fe2a9ce6976b472b883e6f4\", element=\"974a872a-dcca-4eb0-acbe-fb7c9d42aae9\")>,\n",
       " <selenium.webdriver.remote.webelement.WebElement (session=\"a8b163264fe2a9ce6976b472b883e6f4\", element=\"fca9d0bf-428b-4641-b2d0-09a5fa71f33c\")>,\n",
       " <selenium.webdriver.remote.webelement.WebElement (session=\"a8b163264fe2a9ce6976b472b883e6f4\", element=\"55abc673-7802-46a4-b571-dae64a3b348d\")>]"
      ]
     },
     "execution_count": 11,
     "metadata": {},
     "output_type": "execute_result"
    }
   ],
   "source": [
    "company_tag=driver.find_elements_by_xpath('//a[@class=\"subTitle ellipsis fleft\"]')\n",
    "company_tag[:4]"
   ]
  },
  {
   "cell_type": "code",
   "execution_count": 12,
   "metadata": {},
   "outputs": [
    {
     "data": {
      "text/plain": [
       "['Flipkart Internet Private Limited',\n",
       " 'Boston Scientific Corporation',\n",
       " 'Flipkart Internet Private Limited',\n",
       " 'Schneider Electric',\n",
       " 'Philips India Limited',\n",
       " 'Mindtree Limited',\n",
       " 'IBM India Pvt. Limited',\n",
       " 'RANDSTAD INDIA PVT LTD',\n",
       " 'Outsource Big Data',\n",
       " 'Capgemini Technology Services India Limited',\n",
       " 'Emagine People Technologies Private Limited']"
      ]
     },
     "execution_count": 12,
     "metadata": {},
     "output_type": "execute_result"
    }
   ],
   "source": [
    "for i in company_tag:\n",
    "    company_names=i.text\n",
    "    company_name.append(company_names)\n",
    "company_name[:11]"
   ]
  },
  {
   "cell_type": "code",
   "execution_count": 13,
   "metadata": {},
   "outputs": [
    {
     "data": {
      "text/plain": [
       "[<selenium.webdriver.remote.webelement.WebElement (session=\"a8b163264fe2a9ce6976b472b883e6f4\", element=\"c0d2ce58-b197-4f91-9f9c-e69b45f9a73b\")>,\n",
       " <selenium.webdriver.remote.webelement.WebElement (session=\"a8b163264fe2a9ce6976b472b883e6f4\", element=\"e3479160-0600-4103-b905-2bd80e7a7faa\")>,\n",
       " <selenium.webdriver.remote.webelement.WebElement (session=\"a8b163264fe2a9ce6976b472b883e6f4\", element=\"978f29b8-786d-4542-a6cf-aa62b598153d\")>,\n",
       " <selenium.webdriver.remote.webelement.WebElement (session=\"a8b163264fe2a9ce6976b472b883e6f4\", element=\"62f93b0c-813a-482a-9fdb-83cf0ca90f88\")>]"
      ]
     },
     "execution_count": 13,
     "metadata": {},
     "output_type": "execute_result"
    }
   ],
   "source": [
    "Location_tag=driver.find_elements_by_xpath('//li[@class=\"fleft grey-text br2 placeHolderLi location\"]')\n",
    "Location_tag[:4]"
   ]
  },
  {
   "cell_type": "code",
   "execution_count": 14,
   "metadata": {},
   "outputs": [
    {
     "data": {
      "text/plain": [
       "['Bengaluru',\n",
       " 'Pune, Delhi, Bengaluru, Gurgaon',\n",
       " 'Bengaluru',\n",
       " 'Bengaluru / Bangalore',\n",
       " 'Bengaluru',\n",
       " 'Chennai, Pune, Bengaluru, Hyderabad',\n",
       " 'Bengaluru',\n",
       " 'Bengaluru',\n",
       " 'Bengaluru',\n",
       " 'Bengaluru',\n",
       " 'Chennai, Bengaluru']"
      ]
     },
     "execution_count": 14,
     "metadata": {},
     "output_type": "execute_result"
    }
   ],
   "source": [
    "for i in Location_tag:\n",
    "    location=i.text\n",
    "    location_List.append(location)\n",
    "location_List[:11]"
   ]
  },
  {
   "cell_type": "code",
   "execution_count": 15,
   "metadata": {},
   "outputs": [
    {
     "data": {
      "text/plain": [
       "[<selenium.webdriver.remote.webelement.WebElement (session=\"a8b163264fe2a9ce6976b472b883e6f4\", element=\"22b3fdbb-04fb-4c35-8747-5ef4473f4363\")>,\n",
       " <selenium.webdriver.remote.webelement.WebElement (session=\"a8b163264fe2a9ce6976b472b883e6f4\", element=\"194f5b11-f524-4118-a92d-9da567dbb692\")>,\n",
       " <selenium.webdriver.remote.webelement.WebElement (session=\"a8b163264fe2a9ce6976b472b883e6f4\", element=\"109639be-123e-47be-98e4-0a169c2d3005\")>,\n",
       " <selenium.webdriver.remote.webelement.WebElement (session=\"a8b163264fe2a9ce6976b472b883e6f4\", element=\"451778a2-649a-48e5-9203-8f0214032c30\")>]"
      ]
     },
     "execution_count": 15,
     "metadata": {},
     "output_type": "execute_result"
    }
   ],
   "source": [
    "\n",
    "\n",
    "experience_tag=driver.find_elements_by_xpath('//li[@class=\"fleft grey-text br2 placeHolderLi experience\"]')\n",
    "experience_tag[:4]"
   ]
  },
  {
   "cell_type": "code",
   "execution_count": 16,
   "metadata": {},
   "outputs": [
    {
     "data": {
      "text/plain": [
       "['1-4 Yrs',\n",
       " '3-5 Yrs',\n",
       " '2-5 Yrs',\n",
       " '2-5 Yrs',\n",
       " '2-4 Yrs',\n",
       " '5-9 Yrs',\n",
       " '2-4 Yrs',\n",
       " '2-4 Yrs',\n",
       " '0-1 Yrs',\n",
       " '4-6 Yrs',\n",
       " '0-2 Yrs']"
      ]
     },
     "execution_count": 16,
     "metadata": {},
     "output_type": "execute_result"
    }
   ],
   "source": [
    "for i in experience_tag:\n",
    "    experience=i.text\n",
    "    experience_List.append(experience)\n",
    "experience_List[:11]\n",
    "\n",
    "\n"
   ]
  },
  {
   "cell_type": "code",
   "execution_count": 17,
   "metadata": {},
   "outputs": [],
   "source": [
    "driver.close()"
   ]
  },
  {
   "cell_type": "code",
   "execution_count": 18,
   "metadata": {},
   "outputs": [
    {
     "data": {
      "text/html": [
       "<div>\n",
       "<style scoped>\n",
       "    .dataframe tbody tr th:only-of-type {\n",
       "        vertical-align: middle;\n",
       "    }\n",
       "\n",
       "    .dataframe tbody tr th {\n",
       "        vertical-align: top;\n",
       "    }\n",
       "\n",
       "    .dataframe thead th {\n",
       "        text-align: right;\n",
       "    }\n",
       "</style>\n",
       "<table border=\"1\" class=\"dataframe\">\n",
       "  <thead>\n",
       "    <tr style=\"text-align: right;\">\n",
       "      <th></th>\n",
       "      <th>Job Title</th>\n",
       "      <th>Company Name</th>\n",
       "      <th>Job Location</th>\n",
       "      <th>Experience</th>\n",
       "    </tr>\n",
       "  </thead>\n",
       "  <tbody>\n",
       "    <tr>\n",
       "      <th>0</th>\n",
       "      <td>MIS/ Data Analyst-(SQL,Automation,Excel/PowerB...</td>\n",
       "      <td>Flipkart Internet Private Limited</td>\n",
       "      <td>Bengaluru</td>\n",
       "      <td>1-4 Yrs</td>\n",
       "    </tr>\n",
       "    <tr>\n",
       "      <th>1</th>\n",
       "      <td>Data Analyst - SAP</td>\n",
       "      <td>Boston Scientific Corporation</td>\n",
       "      <td>Pune, Delhi, Bengaluru, Gurgaon</td>\n",
       "      <td>3-5 Yrs</td>\n",
       "    </tr>\n",
       "    <tr>\n",
       "      <th>2</th>\n",
       "      <td>Hiring Data Analysts on Contract</td>\n",
       "      <td>Flipkart Internet Private Limited</td>\n",
       "      <td>Bengaluru</td>\n",
       "      <td>2-5 Yrs</td>\n",
       "    </tr>\n",
       "    <tr>\n",
       "      <th>3</th>\n",
       "      <td>Senior Data Analyst</td>\n",
       "      <td>Schneider Electric</td>\n",
       "      <td>Bengaluru / Bangalore</td>\n",
       "      <td>2-5 Yrs</td>\n",
       "    </tr>\n",
       "    <tr>\n",
       "      <th>4</th>\n",
       "      <td>Security Data Analyst</td>\n",
       "      <td>Philips India Limited</td>\n",
       "      <td>Bengaluru</td>\n",
       "      <td>2-4 Yrs</td>\n",
       "    </tr>\n",
       "  </tbody>\n",
       "</table>\n",
       "</div>"
      ],
      "text/plain": [
       "                                           Job Title  \\\n",
       "0  MIS/ Data Analyst-(SQL,Automation,Excel/PowerB...   \n",
       "1                                 Data Analyst - SAP   \n",
       "2                   Hiring Data Analysts on Contract   \n",
       "3                                Senior Data Analyst   \n",
       "4                              Security Data Analyst   \n",
       "\n",
       "                        Company Name                     Job Location  \\\n",
       "0  Flipkart Internet Private Limited                        Bengaluru   \n",
       "1      Boston Scientific Corporation  Pune, Delhi, Bengaluru, Gurgaon   \n",
       "2  Flipkart Internet Private Limited                        Bengaluru   \n",
       "3                 Schneider Electric            Bengaluru / Bangalore   \n",
       "4              Philips India Limited                        Bengaluru   \n",
       "\n",
       "  Experience  \n",
       "0    1-4 Yrs  \n",
       "1    3-5 Yrs  \n",
       "2    2-5 Yrs  \n",
       "3    2-5 Yrs  \n",
       "4    2-4 Yrs  "
      ]
     },
     "execution_count": 18,
     "metadata": {},
     "output_type": "execute_result"
    }
   ],
   "source": [
    "data=pd.DataFrame({\"Job Title\":job_title,\n",
    "                   \"Company Name\":company_name, \n",
    "                   \"Job Location\":location_List, \n",
    "                   \"Experience\":experience_List})\n",
    "data.head()"
   ]
  },
  {
   "cell_type": "code",
   "execution_count": 19,
   "metadata": {},
   "outputs": [
    {
     "data": {
      "text/html": [
       "<div>\n",
       "<style scoped>\n",
       "    .dataframe tbody tr th:only-of-type {\n",
       "        vertical-align: middle;\n",
       "    }\n",
       "\n",
       "    .dataframe tbody tr th {\n",
       "        vertical-align: top;\n",
       "    }\n",
       "\n",
       "    .dataframe thead th {\n",
       "        text-align: right;\n",
       "    }\n",
       "</style>\n",
       "<table border=\"1\" class=\"dataframe\">\n",
       "  <thead>\n",
       "    <tr style=\"text-align: right;\">\n",
       "      <th></th>\n",
       "      <th>Job Title</th>\n",
       "      <th>Company Name</th>\n",
       "      <th>Job Location</th>\n",
       "      <th>Experience</th>\n",
       "    </tr>\n",
       "  </thead>\n",
       "  <tbody>\n",
       "    <tr>\n",
       "      <th>0</th>\n",
       "      <td>MIS/ Data Analyst-(SQL,Automation,Excel/PowerB...</td>\n",
       "      <td>Flipkart Internet Private Limited</td>\n",
       "      <td>Bengaluru</td>\n",
       "      <td>1-4 Yrs</td>\n",
       "    </tr>\n",
       "    <tr>\n",
       "      <th>1</th>\n",
       "      <td>Data Analyst - SAP</td>\n",
       "      <td>Boston Scientific Corporation</td>\n",
       "      <td>Pune, Delhi, Bengaluru, Gurgaon</td>\n",
       "      <td>3-5 Yrs</td>\n",
       "    </tr>\n",
       "    <tr>\n",
       "      <th>2</th>\n",
       "      <td>Hiring Data Analysts on Contract</td>\n",
       "      <td>Flipkart Internet Private Limited</td>\n",
       "      <td>Bengaluru</td>\n",
       "      <td>2-5 Yrs</td>\n",
       "    </tr>\n",
       "    <tr>\n",
       "      <th>3</th>\n",
       "      <td>Senior Data Analyst</td>\n",
       "      <td>Schneider Electric</td>\n",
       "      <td>Bengaluru / Bangalore</td>\n",
       "      <td>2-5 Yrs</td>\n",
       "    </tr>\n",
       "    <tr>\n",
       "      <th>4</th>\n",
       "      <td>Security Data Analyst</td>\n",
       "      <td>Philips India Limited</td>\n",
       "      <td>Bengaluru</td>\n",
       "      <td>2-4 Yrs</td>\n",
       "    </tr>\n",
       "    <tr>\n",
       "      <th>5</th>\n",
       "      <td>Data Analyst -Azure Data lake, Azure Data factory</td>\n",
       "      <td>Mindtree Limited</td>\n",
       "      <td>Chennai, Pune, Bengaluru, Hyderabad</td>\n",
       "      <td>5-9 Yrs</td>\n",
       "    </tr>\n",
       "    <tr>\n",
       "      <th>6</th>\n",
       "      <td>Business / Data Analyst</td>\n",
       "      <td>IBM India Pvt. Limited</td>\n",
       "      <td>Bengaluru</td>\n",
       "      <td>2-4 Yrs</td>\n",
       "    </tr>\n",
       "    <tr>\n",
       "      <th>7</th>\n",
       "      <td>Data Analyst - O2C - Bangalore</td>\n",
       "      <td>RANDSTAD INDIA PVT LTD</td>\n",
       "      <td>Bengaluru</td>\n",
       "      <td>2-4 Yrs</td>\n",
       "    </tr>\n",
       "    <tr>\n",
       "      <th>8</th>\n",
       "      <td>Intern Data Analyst</td>\n",
       "      <td>Outsource Big Data</td>\n",
       "      <td>Bengaluru</td>\n",
       "      <td>0-1 Yrs</td>\n",
       "    </tr>\n",
       "    <tr>\n",
       "      <th>9</th>\n",
       "      <td>NiFi Data Analyst</td>\n",
       "      <td>Capgemini Technology Services India Limited</td>\n",
       "      <td>Bengaluru</td>\n",
       "      <td>4-6 Yrs</td>\n",
       "    </tr>\n",
       "    <tr>\n",
       "      <th>10</th>\n",
       "      <td>Requirement For Data Analyst(Advance excel can...</td>\n",
       "      <td>Emagine People Technologies Private Limited</td>\n",
       "      <td>Chennai, Bengaluru</td>\n",
       "      <td>0-2 Yrs</td>\n",
       "    </tr>\n",
       "    <tr>\n",
       "      <th>11</th>\n",
       "      <td>SENIOR DATA ANALYST</td>\n",
       "      <td>McAfee Software (India) Pvt. Ltd</td>\n",
       "      <td>Bengaluru</td>\n",
       "      <td>7-12 Yrs</td>\n",
       "    </tr>\n",
       "    <tr>\n",
       "      <th>12</th>\n",
       "      <td>Data Analyst</td>\n",
       "      <td>EZEU</td>\n",
       "      <td>Bengaluru</td>\n",
       "      <td>2-7 Yrs</td>\n",
       "    </tr>\n",
       "    <tr>\n",
       "      <th>13</th>\n",
       "      <td>Senior Data Analyst</td>\n",
       "      <td>Career Hotspot &amp; Services</td>\n",
       "      <td>Bengaluru</td>\n",
       "      <td>3-5 Yrs</td>\n",
       "    </tr>\n",
       "    <tr>\n",
       "      <th>14</th>\n",
       "      <td>Data Analyst</td>\n",
       "      <td>AceNet</td>\n",
       "      <td>Chennai, Bengaluru</td>\n",
       "      <td>6-8 Yrs</td>\n",
       "    </tr>\n",
       "    <tr>\n",
       "      <th>15</th>\n",
       "      <td>Looking For Rockstar Data Analyst @ Freshtohom...</td>\n",
       "      <td>Freshtohome Foods Private Limited</td>\n",
       "      <td>Bengaluru</td>\n",
       "      <td>2-5 Yrs</td>\n",
       "    </tr>\n",
       "    <tr>\n",
       "      <th>16</th>\n",
       "      <td>Data Analyst (Gameplay)</td>\n",
       "      <td>Kwalee ltd.</td>\n",
       "      <td>Bengaluru</td>\n",
       "      <td>2-7 Yrs</td>\n",
       "    </tr>\n",
       "    <tr>\n",
       "      <th>17</th>\n",
       "      <td>Data Analyst</td>\n",
       "      <td>Kwalee ltd.</td>\n",
       "      <td>Bengaluru</td>\n",
       "      <td>2-7 Yrs</td>\n",
       "    </tr>\n",
       "    <tr>\n",
       "      <th>18</th>\n",
       "      <td>Data Analyst</td>\n",
       "      <td>Liventus, Inc.</td>\n",
       "      <td>Bengaluru(2nd Phase JP Nagar)</td>\n",
       "      <td>3-6 Yrs</td>\n",
       "    </tr>\n",
       "    <tr>\n",
       "      <th>19</th>\n",
       "      <td>Data Analyst</td>\n",
       "      <td>Shell India Markets Private Limited</td>\n",
       "      <td>Bengaluru</td>\n",
       "      <td>5-8 Yrs</td>\n",
       "    </tr>\n",
       "  </tbody>\n",
       "</table>\n",
       "</div>"
      ],
      "text/plain": [
       "                                            Job Title  \\\n",
       "0   MIS/ Data Analyst-(SQL,Automation,Excel/PowerB...   \n",
       "1                                  Data Analyst - SAP   \n",
       "2                    Hiring Data Analysts on Contract   \n",
       "3                                 Senior Data Analyst   \n",
       "4                               Security Data Analyst   \n",
       "5   Data Analyst -Azure Data lake, Azure Data factory   \n",
       "6                             Business / Data Analyst   \n",
       "7                      Data Analyst - O2C - Bangalore   \n",
       "8                                 Intern Data Analyst   \n",
       "9                                   NiFi Data Analyst   \n",
       "10  Requirement For Data Analyst(Advance excel can...   \n",
       "11                                SENIOR DATA ANALYST   \n",
       "12                                       Data Analyst   \n",
       "13                                Senior Data Analyst   \n",
       "14                                       Data Analyst   \n",
       "15  Looking For Rockstar Data Analyst @ Freshtohom...   \n",
       "16                            Data Analyst (Gameplay)   \n",
       "17                                       Data Analyst   \n",
       "18                                       Data Analyst   \n",
       "19                                       Data Analyst   \n",
       "\n",
       "                                   Company Name  \\\n",
       "0             Flipkart Internet Private Limited   \n",
       "1                 Boston Scientific Corporation   \n",
       "2             Flipkart Internet Private Limited   \n",
       "3                            Schneider Electric   \n",
       "4                         Philips India Limited   \n",
       "5                              Mindtree Limited   \n",
       "6                        IBM India Pvt. Limited   \n",
       "7                        RANDSTAD INDIA PVT LTD   \n",
       "8                            Outsource Big Data   \n",
       "9   Capgemini Technology Services India Limited   \n",
       "10  Emagine People Technologies Private Limited   \n",
       "11             McAfee Software (India) Pvt. Ltd   \n",
       "12                                         EZEU   \n",
       "13                    Career Hotspot & Services   \n",
       "14                                       AceNet   \n",
       "15            Freshtohome Foods Private Limited   \n",
       "16                                  Kwalee ltd.   \n",
       "17                                  Kwalee ltd.   \n",
       "18                               Liventus, Inc.   \n",
       "19          Shell India Markets Private Limited   \n",
       "\n",
       "                           Job Location Experience  \n",
       "0                             Bengaluru    1-4 Yrs  \n",
       "1       Pune, Delhi, Bengaluru, Gurgaon    3-5 Yrs  \n",
       "2                             Bengaluru    2-5 Yrs  \n",
       "3                 Bengaluru / Bangalore    2-5 Yrs  \n",
       "4                             Bengaluru    2-4 Yrs  \n",
       "5   Chennai, Pune, Bengaluru, Hyderabad    5-9 Yrs  \n",
       "6                             Bengaluru    2-4 Yrs  \n",
       "7                             Bengaluru    2-4 Yrs  \n",
       "8                             Bengaluru    0-1 Yrs  \n",
       "9                             Bengaluru    4-6 Yrs  \n",
       "10                   Chennai, Bengaluru    0-2 Yrs  \n",
       "11                            Bengaluru   7-12 Yrs  \n",
       "12                            Bengaluru    2-7 Yrs  \n",
       "13                            Bengaluru    3-5 Yrs  \n",
       "14                   Chennai, Bengaluru    6-8 Yrs  \n",
       "15                            Bengaluru    2-5 Yrs  \n",
       "16                            Bengaluru    2-7 Yrs  \n",
       "17                            Bengaluru    2-7 Yrs  \n",
       "18        Bengaluru(2nd Phase JP Nagar)    3-6 Yrs  \n",
       "19                            Bengaluru    5-8 Yrs  "
      ]
     },
     "execution_count": 19,
     "metadata": {},
     "output_type": "execute_result"
    }
   ],
   "source": [
    "data"
   ]
  },
  {
   "cell_type": "code",
   "execution_count": null,
   "metadata": {},
   "outputs": [],
   "source": []
  },
  {
   "cell_type": "markdown",
   "metadata": {},
   "source": [
    "2.Write a python program to scrape data for “Data Scientist” Job position in\n",
    "“Bangalore” location. You have to scrape the job-title, job-location,\n",
    "company_name, full job-description. You have to scrape first 10 jobs data."
   ]
  },
  {
   "cell_type": "code",
   "execution_count": 54,
   "metadata": {},
   "outputs": [],
   "source": [
    "dri= webdriver.Chrome(\"D:\\\\Softwares\\\\chromedriver_win32\\\\chromedriver.exe\")"
   ]
  },
  {
   "cell_type": "code",
   "execution_count": 55,
   "metadata": {},
   "outputs": [],
   "source": [
    "dri.get('https://www.naukri.com/')"
   ]
  },
  {
   "cell_type": "code",
   "execution_count": 56,
   "metadata": {},
   "outputs": [],
   "source": [
    "Search=dri.find_element_by_xpath(\"//input[@placeholder='Skills, Designations, Companies']\")\n",
    "Search.send_keys('Data Scientist')\n",
    "Location=dri.find_element_by_id('qsb-location-sugg')\n",
    "Location.send_keys('Bangalore')\n",
    "Search_button=dri.find_element_by_xpath('//div[@class=\"search-btn\"]/button')\n",
    "Search_button.click()\n"
   ]
  },
  {
   "cell_type": "code",
   "execution_count": 57,
   "metadata": {},
   "outputs": [
    {
     "name": "stdout",
     "output_type": "stream",
     "text": [
      "https://www.naukri.com/data-scientist-jobs-in-bangalore?k=data%20scientist&l=bangalore\n"
     ]
    }
   ],
   "source": [
    "url=dri.current_url\n",
    "print(url)"
   ]
  },
  {
   "cell_type": "code",
   "execution_count": 58,
   "metadata": {},
   "outputs": [],
   "source": [
    "dri.get(url)"
   ]
  },
  {
   "cell_type": "code",
   "execution_count": 59,
   "metadata": {},
   "outputs": [],
   "source": [
    "job_titles=[]\n",
    "company_names=[]\n",
    "location_Lists=[]\n",
    "experience_Lists=[]"
   ]
  },
  {
   "cell_type": "code",
   "execution_count": 60,
   "metadata": {},
   "outputs": [
    {
     "data": {
      "text/plain": [
       "[<selenium.webdriver.remote.webelement.WebElement (session=\"5ca27c791dd942d44fe0abe54ba619c1\", element=\"0b7f6f72-6622-4bf1-8366-97999d1c3269\")>,\n",
       " <selenium.webdriver.remote.webelement.WebElement (session=\"5ca27c791dd942d44fe0abe54ba619c1\", element=\"0a7dc99b-7699-4e59-b216-61ec2a03c2e1\")>,\n",
       " <selenium.webdriver.remote.webelement.WebElement (session=\"5ca27c791dd942d44fe0abe54ba619c1\", element=\"faa3e224-1cc9-40fa-a6e4-d00af0f4df76\")>,\n",
       " <selenium.webdriver.remote.webelement.WebElement (session=\"5ca27c791dd942d44fe0abe54ba619c1\", element=\"ff58a96f-177c-4f49-a398-50be06b05c69\")>]"
      ]
     },
     "execution_count": 60,
     "metadata": {},
     "output_type": "execute_result"
    }
   ],
   "source": [
    "title_tags=dri.find_elements_by_xpath(\"//a[@class='title fw500 ellipsis']\")\n",
    "title_tags[:4]"
   ]
  },
  {
   "cell_type": "code",
   "execution_count": 61,
   "metadata": {},
   "outputs": [
    {
     "data": {
      "text/plain": [
       "['Data Scientist - Python/ MATLAB/ Machine Learning Algorithms',\n",
       " 'Lead Data Scientist - Machine Learning/ Data Mining',\n",
       " 'Data Scientist - Machine Learning (Commerce BU)',\n",
       " 'Principal Data Scientist - Machine/Deep Learning - NLP/Tensorflow',\n",
       " 'Data Scientist',\n",
       " 'Opening For Sr. Data Scientist @ Tech Mahindra',\n",
       " 'Opening For Sr. Data Scientist @ Tech Mahindra',\n",
       " 'Senior / Lead Data Scientist',\n",
       " 'Senior Data Scientist - NLP/ Python/ R',\n",
       " 'Senior Data Scientist | CES IT LTD | CMMI Level 5']"
      ]
     },
     "execution_count": 61,
     "metadata": {},
     "output_type": "execute_result"
    }
   ],
   "source": [
    "for i in title_tags:\n",
    "    job=i.text\n",
    "    job_titles.append(job)\n",
    "job_titles[:10]"
   ]
  },
  {
   "cell_type": "code",
   "execution_count": 62,
   "metadata": {},
   "outputs": [
    {
     "data": {
      "text/plain": [
       "[<selenium.webdriver.remote.webelement.WebElement (session=\"5ca27c791dd942d44fe0abe54ba619c1\", element=\"cf3c97fc-de9d-42ac-94ed-afe69d5af44f\")>,\n",
       " <selenium.webdriver.remote.webelement.WebElement (session=\"5ca27c791dd942d44fe0abe54ba619c1\", element=\"c45d4c92-8b4b-444b-9246-e09ca1bfa80b\")>,\n",
       " <selenium.webdriver.remote.webelement.WebElement (session=\"5ca27c791dd942d44fe0abe54ba619c1\", element=\"2ea42b1e-f2a4-4ee8-948a-3603daa10c75\")>,\n",
       " <selenium.webdriver.remote.webelement.WebElement (session=\"5ca27c791dd942d44fe0abe54ba619c1\", element=\"50fc362f-5b81-416f-b8df-0e67aec0929c\")>]"
      ]
     },
     "execution_count": 62,
     "metadata": {},
     "output_type": "execute_result"
    }
   ],
   "source": [
    "company_tag=dri.find_elements_by_xpath('//a[@class=\"subTitle ellipsis fleft\"]')\n",
    "company_tag[:4]"
   ]
  },
  {
   "cell_type": "code",
   "execution_count": 63,
   "metadata": {},
   "outputs": [
    {
     "data": {
      "text/plain": [
       "['Wrackle Technologies Pvt Ltd',\n",
       " 'Wrackle Technologies Pvt Ltd',\n",
       " 'BLUE YONDER INDIA PRIVATE LIMITED',\n",
       " 'Fidius advisory',\n",
       " 'Atos Syntel Private Limited',\n",
       " 'Tech Mahindra Ltd.',\n",
       " 'Tech Mahindra Ltd.',\n",
       " 'TVS CREDIT SERVICES LIMITED',\n",
       " 'AVI Consulting LLP',\n",
       " 'CES Ltd.']"
      ]
     },
     "execution_count": 63,
     "metadata": {},
     "output_type": "execute_result"
    }
   ],
   "source": [
    "for i in company_tag:\n",
    "    company=i.text\n",
    "    company_names.append(company)\n",
    "company_names[:10]"
   ]
  },
  {
   "cell_type": "code",
   "execution_count": 64,
   "metadata": {},
   "outputs": [
    {
     "data": {
      "text/plain": [
       "[<selenium.webdriver.remote.webelement.WebElement (session=\"5ca27c791dd942d44fe0abe54ba619c1\", element=\"7a7505dd-fa16-43ef-97ae-9b565b730653\")>,\n",
       " <selenium.webdriver.remote.webelement.WebElement (session=\"5ca27c791dd942d44fe0abe54ba619c1\", element=\"0736d701-d4db-4a3a-accb-24299dbc9dbe\")>,\n",
       " <selenium.webdriver.remote.webelement.WebElement (session=\"5ca27c791dd942d44fe0abe54ba619c1\", element=\"9154c46d-d5f1-4de1-bb05-1d927ca89d84\")>,\n",
       " <selenium.webdriver.remote.webelement.WebElement (session=\"5ca27c791dd942d44fe0abe54ba619c1\", element=\"2ff6e50c-c31d-4dc1-a8c4-b19c4e3dc7d2\")>]"
      ]
     },
     "execution_count": 64,
     "metadata": {},
     "output_type": "execute_result"
    }
   ],
   "source": [
    "Location_tag=dri.find_elements_by_xpath('//li[@class=\"fleft grey-text br2 placeHolderLi location\"]')\n",
    "Location_tag[:4]"
   ]
  },
  {
   "cell_type": "code",
   "execution_count": 65,
   "metadata": {},
   "outputs": [
    {
     "data": {
      "text/plain": [
       "['Bengaluru',\n",
       " 'Bengaluru',\n",
       " 'Bengaluru',\n",
       " 'Bengaluru',\n",
       " 'Chennai, Pune, Mumbai, Bengaluru',\n",
       " 'Pune, Bengaluru',\n",
       " 'Pune, Bengaluru',\n",
       " 'Chennai, Pune, Bengaluru',\n",
       " 'Bengaluru, Hyderabad',\n",
       " 'Chennai, Pune, Delhi NCR, Mumbai, Bengaluru, Hyderabad, Kolkata']"
      ]
     },
     "execution_count": 65,
     "metadata": {},
     "output_type": "execute_result"
    }
   ],
   "source": [
    "for i in Location_tag:\n",
    "    location=i.text\n",
    "    location_Lists.append(location)\n",
    "location_Lists[:10]\n",
    "    "
   ]
  },
  {
   "cell_type": "code",
   "execution_count": 66,
   "metadata": {},
   "outputs": [
    {
     "data": {
      "text/plain": [
       "[<selenium.webdriver.remote.webelement.WebElement (session=\"5ca27c791dd942d44fe0abe54ba619c1\", element=\"b4f8d0ba-a715-45ba-94fd-f87789679b6c\")>,\n",
       " <selenium.webdriver.remote.webelement.WebElement (session=\"5ca27c791dd942d44fe0abe54ba619c1\", element=\"ca32161e-0dfb-424b-9a3b-054f36f3e4ca\")>,\n",
       " <selenium.webdriver.remote.webelement.WebElement (session=\"5ca27c791dd942d44fe0abe54ba619c1\", element=\"5ce251c2-8af3-4640-b568-66a52afd00a4\")>,\n",
       " <selenium.webdriver.remote.webelement.WebElement (session=\"5ca27c791dd942d44fe0abe54ba619c1\", element=\"ec418d2d-358c-40cb-9858-8fa94bc22fc0\")>]"
      ]
     },
     "execution_count": 66,
     "metadata": {},
     "output_type": "execute_result"
    }
   ],
   "source": [
    "experience_tag=dri.find_elements_by_xpath('//li[@class=\"fleft grey-text br2 placeHolderLi experience\"]')\n",
    "experience_tag[:4]"
   ]
  },
  {
   "cell_type": "code",
   "execution_count": 67,
   "metadata": {},
   "outputs": [
    {
     "data": {
      "text/plain": [
       "['3-8 Yrs',\n",
       " '6-11 Yrs',\n",
       " '4-6 Yrs',\n",
       " '8-13 Yrs',\n",
       " '12-18 Yrs',\n",
       " '12-20 Yrs',\n",
       " '12-20 Yrs',\n",
       " '3-8 Yrs',\n",
       " '4-9 Yrs',\n",
       " '2-7 Yrs']"
      ]
     },
     "execution_count": 67,
     "metadata": {},
     "output_type": "execute_result"
    }
   ],
   "source": [
    "for i in experience_tag:\n",
    "    exp=i.text\n",
    "    experience_Lists.append(exp)\n",
    "experience_Lists[:10]"
   ]
  },
  {
   "cell_type": "code",
   "execution_count": 68,
   "metadata": {},
   "outputs": [],
   "source": [
    "dri.close()"
   ]
  },
  {
   "cell_type": "code",
   "execution_count": 69,
   "metadata": {},
   "outputs": [
    {
     "data": {
      "text/html": [
       "<div>\n",
       "<style scoped>\n",
       "    .dataframe tbody tr th:only-of-type {\n",
       "        vertical-align: middle;\n",
       "    }\n",
       "\n",
       "    .dataframe tbody tr th {\n",
       "        vertical-align: top;\n",
       "    }\n",
       "\n",
       "    .dataframe thead th {\n",
       "        text-align: right;\n",
       "    }\n",
       "</style>\n",
       "<table border=\"1\" class=\"dataframe\">\n",
       "  <thead>\n",
       "    <tr style=\"text-align: right;\">\n",
       "      <th></th>\n",
       "      <th>Job title</th>\n",
       "      <th>Company Name</th>\n",
       "      <th>Location</th>\n",
       "      <th>Experience</th>\n",
       "    </tr>\n",
       "  </thead>\n",
       "  <tbody>\n",
       "    <tr>\n",
       "      <th>0</th>\n",
       "      <td>Data Scientist - Python/ MATLAB/ Machine Learn...</td>\n",
       "      <td>Wrackle Technologies Pvt Ltd</td>\n",
       "      <td>Bengaluru</td>\n",
       "      <td>3-8 Yrs</td>\n",
       "    </tr>\n",
       "    <tr>\n",
       "      <th>1</th>\n",
       "      <td>Lead Data Scientist - Machine Learning/ Data M...</td>\n",
       "      <td>Wrackle Technologies Pvt Ltd</td>\n",
       "      <td>Bengaluru</td>\n",
       "      <td>6-11 Yrs</td>\n",
       "    </tr>\n",
       "    <tr>\n",
       "      <th>2</th>\n",
       "      <td>Data Scientist - Machine Learning (Commerce BU)</td>\n",
       "      <td>BLUE YONDER INDIA PRIVATE LIMITED</td>\n",
       "      <td>Bengaluru</td>\n",
       "      <td>4-6 Yrs</td>\n",
       "    </tr>\n",
       "    <tr>\n",
       "      <th>3</th>\n",
       "      <td>Principal Data Scientist - Machine/Deep Learni...</td>\n",
       "      <td>Fidius advisory</td>\n",
       "      <td>Bengaluru</td>\n",
       "      <td>8-13 Yrs</td>\n",
       "    </tr>\n",
       "    <tr>\n",
       "      <th>4</th>\n",
       "      <td>Data Scientist</td>\n",
       "      <td>Atos Syntel Private Limited</td>\n",
       "      <td>Chennai, Pune, Mumbai, Bengaluru</td>\n",
       "      <td>12-18 Yrs</td>\n",
       "    </tr>\n",
       "  </tbody>\n",
       "</table>\n",
       "</div>"
      ],
      "text/plain": [
       "                                           Job title  \\\n",
       "0  Data Scientist - Python/ MATLAB/ Machine Learn...   \n",
       "1  Lead Data Scientist - Machine Learning/ Data M...   \n",
       "2    Data Scientist - Machine Learning (Commerce BU)   \n",
       "3  Principal Data Scientist - Machine/Deep Learni...   \n",
       "4                                     Data Scientist   \n",
       "\n",
       "                        Company Name                          Location  \\\n",
       "0       Wrackle Technologies Pvt Ltd                         Bengaluru   \n",
       "1       Wrackle Technologies Pvt Ltd                         Bengaluru   \n",
       "2  BLUE YONDER INDIA PRIVATE LIMITED                         Bengaluru   \n",
       "3                    Fidius advisory                         Bengaluru   \n",
       "4        Atos Syntel Private Limited  Chennai, Pune, Mumbai, Bengaluru   \n",
       "\n",
       "  Experience  \n",
       "0    3-8 Yrs  \n",
       "1   6-11 Yrs  \n",
       "2    4-6 Yrs  \n",
       "3   8-13 Yrs  \n",
       "4  12-18 Yrs  "
      ]
     },
     "execution_count": 69,
     "metadata": {},
     "output_type": "execute_result"
    }
   ],
   "source": [
    "job_data=pd.DataFrame({\"Job title\":job_titles,\n",
    "                      \"Company Name\":company_names,\n",
    "                      \"Location\":location_Lists,\n",
    "                      \"Experience\":experience_Lists})\n",
    "\n",
    "\n",
    "\n",
    "job_data.head()"
   ]
  },
  {
   "cell_type": "code",
   "execution_count": null,
   "metadata": {},
   "outputs": [],
   "source": [
    "WebElement checkbox = dr.findElement(By.linkText(\"Checkbox Demo\"));\n",
    "    checkbox.click();"
   ]
  },
  {
   "cell_type": "markdown",
   "metadata": {},
   "source": [
    "Q3: In this question you have to scrape data using the filters available on the\n",
    "webpage as shown below:"
   ]
  },
  {
   "cell_type": "code",
   "execution_count": 77,
   "metadata": {},
   "outputs": [],
   "source": [
    "div= webdriver.Chrome(\"D:\\\\Softwares\\\\chromedriver_win32\\\\chromedriver.exe\")"
   ]
  },
  {
   "cell_type": "code",
   "execution_count": 78,
   "metadata": {},
   "outputs": [],
   "source": [
    "div.get('https://www.naukri.com/')"
   ]
  },
  {
   "cell_type": "code",
   "execution_count": 79,
   "metadata": {},
   "outputs": [],
   "source": [
    "Search=div.find_element_by_xpath(\"//input[@placeholder='Skills, Designations, Companies']\")\n",
    "Search.send_keys('Data Scientist')\n",
    "Location=div.find_element_by_id('qsb-location-sugg')\n",
    "Location.send_keys('Bangalore')\n",
    "Search_button=div.find_element_by_xpath('//div[@class=\"search-btn\"]/button')\n",
    "Search_button.click()\n"
   ]
  },
  {
   "cell_type": "code",
   "execution_count": 80,
   "metadata": {},
   "outputs": [],
   "source": [
    "div.find_element_by_xpath(\"//div[@class='mt-8 chckBoxCont']\").click()"
   ]
  },
  {
   "cell_type": "code",
   "execution_count": 83,
   "metadata": {},
   "outputs": [],
   "source": [
    "div.find_element_by_xpath(\"//i[@class='fleft naukicon naukicon-checkbox']\").click()"
   ]
  },
  {
   "cell_type": "code",
   "execution_count": 84,
   "metadata": {},
   "outputs": [
    {
     "data": {
      "text/plain": [
       "[<selenium.webdriver.remote.webelement.WebElement (session=\"bbe7f32b29b534c9fa3c1c0d6009ec3b\", element=\"5c7f18e1-4a37-4926-866e-af47a87f44f3\")>,\n",
       " <selenium.webdriver.remote.webelement.WebElement (session=\"bbe7f32b29b534c9fa3c1c0d6009ec3b\", element=\"12348f2e-9ba2-4ee8-82c6-2e744ecedfb5\")>,\n",
       " <selenium.webdriver.remote.webelement.WebElement (session=\"bbe7f32b29b534c9fa3c1c0d6009ec3b\", element=\"82f0a68d-44c8-467c-b57e-7edf8dcbc11a\")>,\n",
       " <selenium.webdriver.remote.webelement.WebElement (session=\"bbe7f32b29b534c9fa3c1c0d6009ec3b\", element=\"9ad91155-a31e-4b83-9dca-6574866080ab\")>]"
      ]
     },
     "execution_count": 84,
     "metadata": {},
     "output_type": "execute_result"
    }
   ],
   "source": [
    "title_tags=div.find_elements_by_xpath(\"//a[@class='title fw500 ellipsis']\")\n",
    "title_tags[:4]"
   ]
  },
  {
   "cell_type": "code",
   "execution_count": null,
   "metadata": {},
   "outputs": [],
   "source": []
  }
 ],
 "metadata": {
  "kernelspec": {
   "display_name": "Python 3",
   "language": "python",
   "name": "python3"
  },
  "language_info": {
   "codemirror_mode": {
    "name": "ipython",
    "version": 3
   },
   "file_extension": ".py",
   "mimetype": "text/x-python",
   "name": "python",
   "nbconvert_exporter": "python",
   "pygments_lexer": "ipython3",
   "version": "3.8.5"
  }
 },
 "nbformat": 4,
 "nbformat_minor": 4
}
