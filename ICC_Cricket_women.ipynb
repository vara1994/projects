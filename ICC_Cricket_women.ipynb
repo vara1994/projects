{
 "cells": [
  {
   "cell_type": "code",
   "execution_count": 1,
   "metadata": {},
   "outputs": [],
   "source": [
    "from bs4 import BeautifulSoup\n",
    "import requests"
   ]
  },
  {
   "cell_type": "code",
   "execution_count": 3,
   "metadata": {},
   "outputs": [
    {
     "data": {
      "text/plain": [
       "requests.models.Response"
      ]
     },
     "execution_count": 3,
     "metadata": {},
     "output_type": "execute_result"
    }
   ],
   "source": [
    "team=requests.get('https://www.icc-cricket.com/rankings/womens/team-rankings/odi')\n",
    "type(team)"
   ]
  },
  {
   "cell_type": "code",
   "execution_count": 4,
   "metadata": {},
   "outputs": [
    {
     "data": {
      "text/plain": [
       "bs4.BeautifulSoup"
      ]
     },
     "execution_count": 4,
     "metadata": {},
     "output_type": "execute_result"
    }
   ],
   "source": [
    "soup=BeautifulSoup(team.text, 'html.parser')\n",
    "type(soup)"
   ]
  },
  {
   "cell_type": "code",
   "execution_count": 5,
   "metadata": {},
   "outputs": [
    {
     "data": {
      "text/plain": [
       "bs4.element.ResultSet"
      ]
     },
     "execution_count": 5,
     "metadata": {},
     "output_type": "execute_result"
    }
   ],
   "source": [
    "table=soup.find_all('table', class_='table')\n",
    "type(table)"
   ]
  },
  {
   "cell_type": "code",
   "execution_count": 6,
   "metadata": {},
   "outputs": [
    {
     "name": "stdout",
     "output_type": "stream",
     "text": [
      "[<tr class=\"table-head\">\n",
      "<th class=\"table-head__cell u-text-right\">Pos</th>\n",
      "<th class=\"table-head__cell rankings-table__team\">\n",
      "<span class=\"u-hide-mobile\">Team</span>\n",
      "<span class=\"u-show-mobile\">T</span>\n",
      "</th>\n",
      "<th class=\"table-head__cell u-center-text\">\n",
      "<span class=\"u-hide-mobile\">Matches</span>\n",
      "<span class=\"u-show-mobile\">M</span>\n",
      "</th>\n",
      "<th class=\"table-head__cell u-center-text\">\n",
      "<span class=\"u-hide-mobile\">Points</span>\n",
      "<span class=\"u-show-mobile\">P</span>\n",
      "</th>\n",
      "<th class=\"table-head__cell u-text-right rating\">\n",
      "<span class=\"u-hide-mobile\">Rating</span>\n",
      "<span class=\"u-show-mobile\">R</span>\n",
      "</th>\n",
      "</tr>, <tr class=\"rankings-block__banner\">\n",
      "<td class=\"rankings-block__banner--pos\">1</td>\n",
      "<td class=\"rankings-block__banner--team-name\">\n",
      "<span class=\"flag-30 rankings-block__banner--flag AUS\"></span>\n",
      "<span class=\"u-hide-phablet\">Australia</span>\n",
      "<span class=\"u-show-phablet\">AUS</span>\n",
      "</td>\n",
      "<td class=\"rankings-block__banner--matches\">15</td>\n",
      "<td class=\"rankings-block__banner--points\">2,436</td>\n",
      "<td class=\"rankings-block__banner--rating u-text-right\">\n",
      "                            162\n",
      "                            <span class=\"circle-branding circle-branding--top\"></span>\n",
      "<span class=\"circle-branding circle-branding--bottom\"></span>\n",
      "</td>\n",
      "</tr>, <tr class=\"table-body\" data-team-id=\"31\">\n",
      "<td class=\"table-body__cell table-body__cell--position u-text-right\">2</td>\n",
      "<td class=\"table-body__cell rankings-table__team\">\n",
      "<span class=\"flag-15 table-body_logo IND\"></span>\n",
      "<span class=\"u-hide-phablet\">India</span>\n",
      "<span class=\"u-show-phablet\">IND</span>\n",
      "</td>\n",
      "<td class=\"table-body__cell u-center-text\">15</td>\n",
      "<td class=\"table-body__cell u-center-text\">1,812</td>\n",
      "<td class=\"table-body__cell u-text-right rating\">121</td>\n",
      "</tr>, <tr class=\"table-body\" data-team-id=\"28\">\n",
      "<td class=\"table-body__cell table-body__cell--position u-text-right\">3</td>\n",
      "<td class=\"table-body__cell rankings-table__team\">\n",
      "<span class=\"flag-15 table-body_logo ENG\"></span>\n",
      "<span class=\"u-hide-phablet\">England</span>\n",
      "<span class=\"u-show-phablet\">ENG</span>\n",
      "</td>\n",
      "<td class=\"table-body__cell u-center-text\">14</td>\n",
      "<td class=\"table-body__cell u-center-text\">1,670</td>\n",
      "<td class=\"table-body__cell u-text-right rating\">119</td>\n",
      "</tr>, <tr class=\"table-body\" data-team-id=\"25\">\n",
      "<td class=\"table-body__cell table-body__cell--position u-text-right\">4</td>\n",
      "<td class=\"table-body__cell rankings-table__team\">\n",
      "<span class=\"flag-15 table-body_logo SA\"></span>\n",
      "<span class=\"u-hide-phablet\">South Africa</span>\n",
      "<span class=\"u-show-phablet\">SA</span>\n",
      "</td>\n",
      "<td class=\"table-body__cell u-center-text\">19</td>\n",
      "<td class=\"table-body__cell u-center-text\">2,090</td>\n",
      "<td class=\"table-body__cell u-text-right rating\">110</td>\n",
      "</tr>, <tr class=\"table-body\" data-team-id=\"26\">\n",
      "<td class=\"table-body__cell table-body__cell--position u-text-right\">5</td>\n",
      "<td class=\"table-body__cell rankings-table__team\">\n",
      "<span class=\"flag-15 table-body_logo NZ\"></span>\n",
      "<span class=\"u-hide-phablet\">New Zealand</span>\n",
      "<span class=\"u-show-phablet\">NZ</span>\n",
      "</td>\n",
      "<td class=\"table-body__cell u-center-text\">15</td>\n",
      "<td class=\"table-body__cell u-center-text\">1,384</td>\n",
      "<td class=\"table-body__cell u-text-right rating\">92</td>\n",
      "</tr>, <tr class=\"table-body\" data-team-id=\"27\">\n",
      "<td class=\"table-body__cell table-body__cell--position u-text-right\">6</td>\n",
      "<td class=\"table-body__cell rankings-table__team\">\n",
      "<span class=\"flag-15 table-body_logo WI\"></span>\n",
      "<span class=\"u-hide-phablet\">West Indies</span>\n",
      "<span class=\"u-show-phablet\">WI</span>\n",
      "</td>\n",
      "<td class=\"table-body__cell u-center-text\">12</td>\n",
      "<td class=\"table-body__cell u-center-text\">1,025</td>\n",
      "<td class=\"table-body__cell u-text-right rating\">85</td>\n",
      "</tr>, <tr class=\"table-body\" data-team-id=\"29\">\n",
      "<td class=\"table-body__cell table-body__cell--position u-text-right\">7</td>\n",
      "<td class=\"table-body__cell rankings-table__team\">\n",
      "<span class=\"flag-15 table-body_logo PAK\"></span>\n",
      "<span class=\"u-hide-phablet\">Pakistan</span>\n",
      "<span class=\"u-show-phablet\">PAK</span>\n",
      "</td>\n",
      "<td class=\"table-body__cell u-center-text\">15</td>\n",
      "<td class=\"table-body__cell u-center-text\">1,101</td>\n",
      "<td class=\"table-body__cell u-text-right rating\">73</td>\n",
      "</tr>, <tr class=\"table-body\" data-team-id=\"170\">\n",
      "<td class=\"table-body__cell table-body__cell--position u-text-right\">8</td>\n",
      "<td class=\"table-body__cell rankings-table__team\">\n",
      "<span class=\"flag-15 table-body_logo BAN\"></span>\n",
      "<span class=\"u-hide-phablet\">Bangladesh</span>\n",
      "<span class=\"u-show-phablet\">BAN</span>\n",
      "</td>\n",
      "<td class=\"table-body__cell u-center-text\">5</td>\n",
      "<td class=\"table-body__cell u-center-text\">306</td>\n",
      "<td class=\"table-body__cell u-text-right rating\">61</td>\n",
      "</tr>, <tr class=\"table-body\" data-team-id=\"24\">\n",
      "<td class=\"table-body__cell table-body__cell--position u-text-right\">9</td>\n",
      "<td class=\"table-body__cell rankings-table__team\">\n",
      "<span class=\"flag-15 table-body_logo SL\"></span>\n",
      "<span class=\"u-hide-phablet\">Sri Lanka</span>\n",
      "<span class=\"u-show-phablet\">SL</span>\n",
      "</td>\n",
      "<td class=\"table-body__cell u-center-text\">11</td>\n",
      "<td class=\"table-body__cell u-center-text\">519</td>\n",
      "<td class=\"table-body__cell u-text-right rating\">47</td>\n",
      "</tr>, <tr class=\"table-body\" data-team-id=\"162\">\n",
      "<td class=\"table-body__cell table-body__cell--position u-text-right\">10</td>\n",
      "<td class=\"table-body__cell rankings-table__team\">\n",
      "<span class=\"flag-15 table-body_logo IRE\"></span>\n",
      "<span class=\"u-hide-phablet\">Ireland</span>\n",
      "<span class=\"u-show-phablet\">IRE</span>\n",
      "</td>\n",
      "<td class=\"table-body__cell u-center-text\">2</td>\n",
      "<td class=\"table-body__cell u-center-text\">25</td>\n",
      "<td class=\"table-body__cell u-text-right rating\">13</td>\n",
      "</tr>]\n"
     ]
    }
   ],
   "source": [
    "for x in table:\n",
    "    rows = x.find_all('tr') #find all tr tag(rows)\n",
    "print(rows)"
   ]
  },
  {
   "cell_type": "code",
   "execution_count": 7,
   "metadata": {},
   "outputs": [
    {
     "name": "stdout",
     "output_type": "stream",
     "text": [
      "[]\n",
      "['1', 'Australia\\nAUS', '15', '2,436', '162']\n",
      "['2', 'India\\nIND', '15', '1,812', '121']\n",
      "['3', 'England\\nENG', '14', '1,670', '119']\n",
      "['4', 'South Africa\\nSA', '19', '2,090', '110']\n",
      "['5', 'New Zealand\\nNZ', '15', '1,384', '92']\n",
      "['6', 'West Indies\\nWI', '12', '1,025', '85']\n",
      "['7', 'Pakistan\\nPAK', '15', '1,101', '73']\n",
      "['8', 'Bangladesh\\nBAN', '5', '306', '61']\n",
      "['9', 'Sri Lanka\\nSL', '11', '519', '47']\n",
      "['10', 'Ireland\\nIRE', '2', '25', '13']\n"
     ]
    }
   ],
   "source": [
    "for tr in rows:\n",
    "    data=[]\n",
    "    cols = tr.find_all('td') #find all td tags(columns)\n",
    "    for td in cols:\n",
    "        data.append(td.text.strip()) \n",
    "    print (data)\n",
    "   "
   ]
  },
  {
   "cell_type": "code",
   "execution_count": null,
   "metadata": {},
   "outputs": [],
   "source": []
  }
 ],
 "metadata": {
  "kernelspec": {
   "display_name": "Python 3",
   "language": "python",
   "name": "python3"
  },
  "language_info": {
   "codemirror_mode": {
    "name": "ipython",
    "version": 3
   },
   "file_extension": ".py",
   "mimetype": "text/x-python",
   "name": "python",
   "nbconvert_exporter": "python",
   "pygments_lexer": "ipython3",
   "version": "3.8.5"
  }
 },
 "nbformat": 4,
 "nbformat_minor": 4
}
