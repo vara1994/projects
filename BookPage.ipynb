{
 "cells": [
  {
   "cell_type": "code",
   "execution_count": 119,
   "metadata": {},
   "outputs": [],
   "source": [
    "from bs4 import BeautifulSoup\n",
    "import requests"
   ]
  },
  {
   "cell_type": "code",
   "execution_count": 120,
   "metadata": {},
   "outputs": [],
   "source": [
    "book_name=[]\n",
    "author=[]\n",
    "genre=[]\n",
    "book_review=[]\n",
    "\n"
   ]
  },
  {
   "cell_type": "code",
   "execution_count": 121,
   "metadata": {},
   "outputs": [],
   "source": [
    "url='https://bookpage.com/reviews'"
   ]
  },
  {
   "cell_type": "code",
   "execution_count": 122,
   "metadata": {},
   "outputs": [
    {
     "data": {
      "text/plain": [
       "requests.models.Response"
      ]
     },
     "execution_count": 122,
     "metadata": {},
     "output_type": "execute_result"
    }
   ],
   "source": [
    "r=requests.get(url)\n",
    "type(r)"
   ]
  },
  {
   "cell_type": "code",
   "execution_count": 123,
   "metadata": {},
   "outputs": [],
   "source": [
    "soup= BeautifulSoup(r.text, 'html.parser')"
   ]
  },
  {
   "cell_type": "code",
   "execution_count": 124,
   "metadata": {},
   "outputs": [],
   "source": [
    "Book= soup.find_all('div',class_='bp-block article-info')"
   ]
  },
  {
   "cell_type": "code",
   "execution_count": 133,
   "metadata": {},
   "outputs": [],
   "source": [
    "for container in Book:\n",
    "    \n",
    "    book_title= container.h4.a.text\n",
    "    book_name.append(book_title)\n",
    "    \n",
    "    Titles=book_name[1:6]\n",
    "   \n",
    "    \n",
    "    Author= container.find(\"p\",class_='sans bold').text\n",
    "    author.append(Author)\n",
    "    \n",
    "    \n",
    "    #genre\n",
    "    Genre= container.find('p',class_='genre-links hidden-phone').text\n",
    "    genre.append(Genre)\n",
    "    \n",
    "    \n",
    "    #book_review\n",
    "    \n",
    "    Book_rev= container.find('p').text\n",
    "    book_review.append(Book_rev)\n",
    "    "
   ]
  },
  {
   "cell_type": "code",
   "execution_count": 126,
   "metadata": {},
   "outputs": [
    {
     "name": "stdout",
     "output_type": "stream",
     "text": [
      "['/reviews/25880-cherie-jones-how-one-armed-sister-sweeps-her-house-fiction', '/reviews/25140-kate-russo-super-host-fiction', '/reviews/25877-janet-skeslien-charles-paris-library-fiction', '/reviews/25895-vikki-vansickle-anonymouse-childrens', '/reviews/25857-philippe-sands-ratline-biography']\n"
     ]
    }
   ],
   "source": [
    "links=[]\n",
    "for link in Book:\n",
    "    htag= link.find('a')\n",
    "    links.append(htag.get('href'))\n",
    "    Links= links[:5]\n",
    "print(Links)\n",
    "\n"
   ]
  },
  {
   "cell_type": "code",
   "execution_count": 127,
   "metadata": {},
   "outputs": [],
   "source": [
    "import pandas as pd\n",
    "import numpy as np"
   ]
  },
  {
   "cell_type": "code",
   "execution_count": 128,
   "metadata": {},
   "outputs": [
    {
     "name": "stdout",
     "output_type": "stream",
     "text": [
      "\n",
      "Home\n",
      " \n",
      "\n",
      "Book reviews\n",
      "\n",
      "\n",
      "\n",
      "Cherie Jones\n",
      "\n",
      "\n",
      "Fiction\n",
      " / \n",
      "Literary Fiction\n",
      "\n",
      "\n",
      "In her engrossing and darkly lyrical debut novel, How the One-Armed Sister Sweeps Her House, Bajan author Cherie Jones unspools a discomfiting allegory of race, class and intergenerational trauma in a far from idyllic fictional Caribbean community.\n",
      "\n",
      "In her engrossing and darkly lyrical debut novel, How the One-Armed Sister Sweeps Her House, Bajan author Cherie Jones unspools a discomfiting allegory of race, class and intergenerational trauma in a far from idyllic fictional Caribbean community.\n",
      "\n",
      "Kate Russo\n",
      "\n",
      "\n",
      "Fiction\n",
      " / \n",
      "Family Drama\n",
      "\n",
      "\n",
      "In Super Host, the first novel from Kate Russo (daughter of Richard Russo), Bennett has been taking it a little bit too easy.\n",
      "\n",
      "\n",
      "Janet Skeslien Charles\n",
      "\n",
      "\n",
      "Fiction\n",
      " / \n",
      "Historical Fiction\n",
      "\n",
      "\n",
      "One might wonder if anything new can be written about Paris, but Janet Skeslien Charles reminds us of the city’s evergreen appeal and unbounded potential for stories with The Paris Library, which tells of the very real, very beloved American Library in Paris and the role it played during...\n",
      "\n",
      "One might wonder if anything new can be written about Paris, but Janet Skeslien Charles reminds us of the city’s evergreen appeal and unbounded potential for stories with The Paris Library, which tells of the very real, very beloved American Library in Paris and the role it played during...\n",
      "\n",
      "Vikki VanSickle, Anna Pirolli\n",
      "\n",
      "\n",
      "Children's\n",
      " / \n",
      "Children's Picture Book\n",
      "\n",
      "\n",
      "You might think that, if a mouse were to become a graffiti artist, they would use creamy yellow paint in tribute to delicious cheese. But the prolific and eponymous(e) spray-painter in Anonymouse favors a bright berry pink that pops against the brown and beige city buildings and streets where...\n",
      "\n",
      "You might think that, if a mouse were to become a graffiti artist, they would use creamy yellow paint in tribute to delicious cheese. But the prolific and eponymous(e) spray-painter in Anonymouse favors a bright berry pink that pops against the brown and beige city buildings and streets where...\n",
      "\n",
      "Philippe Sands\n",
      "\n",
      "\n",
      "Nonfiction\n",
      " / \n",
      "Biography\n",
      " / \n",
      "European History\n",
      "\n",
      "\n",
      "In The Ratline: The Exalted Life and Mysterious Death of a Nazi Fugitive, Philippe Sands asks a thorny question: Is a son’s love sufficient to redeem a monstrous father?\n",
      "\n",
      "In The Ratline: The Exalted Life and Mysterious Death of a Nazi Fugitive, Philippe Sands asks a thorny question: Is a son’s love sufficient to redeem a monstrous father?\n",
      "\n",
      "Syed M. Masood\n",
      "\n",
      "\n",
      "Fiction\n",
      " / \n",
      "Coming of Age\n",
      "\n",
      "\n",
      "Syed M. Masood mixes humor with tragedy. When it works, it’s captivating. When it doesn’t, it can feel uneven and disjointed.\n",
      "\n",
      "\n",
      "Dayna Lorentz\n",
      "\n",
      "\n",
      "Children's\n",
      " / \n",
      "Middle Grade\n",
      "\n",
      "\n",
      "Rufus the great horned owl is the self-declared “worst owl in the history of owldom.” Next to his fledgling sister, First, 6-month-old Rufus feels like a runt. An unsuccessful, can’t-hunt-to-save-his-life runt.\n",
      "\n",
      "Rufus the great horned owl is the self-declared “worst owl in the history of owldom.” Next to his fledgling sister, First, 6-month-old Rufus feels like a runt. An unsuccessful, can’t-hunt-to-save-his-life runt.\n",
      "\n",
      "Annalee Newitz\n",
      "\n",
      "\n",
      "Nonfiction\n",
      " / \n",
      "History\n",
      " / \n",
      "Science\n",
      "\n",
      "\n",
      "As Annalee Newitz shows in the marvelous Four Lost Cities, an ancient city’s fate was determined by complex interactions of politics, the environment and human choices.\n",
      "\n",
      "\n",
      "Mark Harris\n",
      "\n",
      "\n",
      "Nonfiction\n",
      " / \n",
      "Biography\n",
      " / \n",
      "Arts & Culture\n",
      "\n",
      "\n",
      "Candid, colorful and chock-full of detail, Mike Nichols: A Life is the biography that Nichols well deserves.\n",
      "\n",
      "Candid, colorful and chock-full of detail, Mike Nichols: A Life is the biography that Nichols well deserves.\n",
      "\n",
      "Martha Teichner\n",
      "\n",
      "\n",
      "Nonfiction\n",
      " / \n",
      "Biography & Memoir\n",
      " / \n",
      "Memoir\n",
      "\n",
      "\n",
      "When Harry Met Minnie is often a heart-rending read—humans and animals suffer, die and grieve—but it’s also studded with wry wit and meaningful musings on friendship.\n",
      "\n",
      "\n",
      "Genres \n",
      "\n",
      "Sign up for our newsletters!\n",
      "Subscriptions\n",
      "\n",
      "Bookstore\n",
      "•\n",
      "Library\n",
      "•\n",
      "Individual\n",
      "•\n",
      "Digital\n",
      "•\n",
      "Find BookPage\n",
      "\n",
      "Company\n",
      "\n",
      "About BookPage\n",
      "•\n",
      "Advertise\n",
      "•\n",
      "Contact Us\n",
      "•\n",
      "Privacy Policy\n",
      "•\n",
      "Submission Guidelines\n",
      "\n",
      "© 1996-2021 BookPage and ProMotion, inc. | 2143 Belcourt Avenue, Nashville, TN 37212\n"
     ]
    }
   ],
   "source": [
    "for data in soup.find_all(\"p\"): \n",
    "    s=data.get_text()\n",
    "    print(s)\n",
    "    \n",
    "    \n",
    "    \n",
    "     "
   ]
  },
  {
   "cell_type": "code",
   "execution_count": 129,
   "metadata": {},
   "outputs": [
    {
     "name": "stdout",
     "output_type": "stream",
     "text": [
      "<bound method Tag.get_text of <p>In her engrossing and darkly lyrical debut novel, <strong>How the One-Armed Sister Sweeps Her House</strong>, Bajan author Cherie Jones unspools a discomfiting allegory of race, class and intergenerational trauma in a far from idyllic fictional Caribbean community.</p>>\n"
     ]
    }
   ],
   "source": [
    "container = soup.find(\"p\",attrs={'class': 'excerpt'})\n",
    "\n",
    "paragraph = container.find(\"p\")\n",
    "print(paragraph.get_text)"
   ]
  },
  {
   "cell_type": "code",
   "execution_count": 130,
   "metadata": {},
   "outputs": [
    {
     "name": "stdout",
     "output_type": "stream",
     "text": [
      "In her engrossing and darkly lyrical debut novel, How the One-Armed Sister Sweeps Her House, Bajan author Cherie Jones unspools a discomfiting allegory of race,class and intergenerational trauma in a far from idyllic fictional Caribbean community.\n",
      "In Super Host, the first novel from Kate Russo (daughter of Richard Russo), Bennett has been taking it a little bit too easy\n",
      "One might wonder if anything new can be written about Paris, but Janet Skeslien Charles reminds us of the city’s evergreen appeal and unbounded potential for stories with The Paris Library, which tells of the very real, very beloved American Library in Paris and the role it played during...\n",
      "You might think that, if a mouse were to become a graffiti artist, they would use creamy yellow paint in tribute to delicious cheese. But the prolific and eponymous(e) spray-painter in Anonymouse favors a bright berry pink that pops against the brown and beige city buildings and streets where...\n",
      "In The Ratline: The Exalted Life and Mysterious Death of a Nazi Fugitive, Philippe Sands asks a thorny question: Is a son’s love sufficient to redeem a monstrous father?\n"
     ]
    }
   ],
   "source": [
    "Rev1='In her engrossing and darkly lyrical debut novel, How the One-Armed Sister Sweeps Her House, Bajan author Cherie Jones unspools a discomfiting allegory of race,class and intergenerational trauma in a far from idyllic fictional Caribbean community.'\n",
    "print(Rev1)\n",
    "\n",
    "Rev2='In Super Host, the first novel from Kate Russo (daughter of Richard Russo), Bennett has been taking it a little bit too easy'\n",
    "print(Rev2)\n",
    "Rev3='One might wonder if anything new can be written about Paris, but Janet Skeslien Charles reminds us of the city’s evergreen appeal and unbounded potential for stories with The Paris Library, which tells of the very real, very beloved American Library in Paris and the role it played during...'\n",
    "print(Rev3)\n",
    "Rev4='You might think that, if a mouse were to become a graffiti artist, they would use creamy yellow paint in tribute to delicious cheese. But the prolific and eponymous(e) spray-painter in Anonymouse favors a bright berry pink that pops against the brown and beige city buildings and streets where...'\n",
    "print(Rev4)\n",
    "Rev5='In The Ratline: The Exalted Life and Mysterious Death of a Nazi Fugitive, Philippe Sands asks a thorny question: Is a son’s love sufficient to redeem a monstrous father?'\n",
    "print(Rev5)"
   ]
  },
  {
   "cell_type": "code",
   "execution_count": 131,
   "metadata": {},
   "outputs": [],
   "source": [
    "Reviews=[Rev1,Rev2,Rev3,Rev4,Rev5]"
   ]
  },
  {
   "cell_type": "code",
   "execution_count": 135,
   "metadata": {},
   "outputs": [
    {
     "data": {
      "text/html": [
       "<div>\n",
       "<style scoped>\n",
       "    .dataframe tbody tr th:only-of-type {\n",
       "        vertical-align: middle;\n",
       "    }\n",
       "\n",
       "    .dataframe tbody tr th {\n",
       "        vertical-align: top;\n",
       "    }\n",
       "\n",
       "    .dataframe thead th {\n",
       "        text-align: right;\n",
       "    }\n",
       "</style>\n",
       "<table border=\"1\" class=\"dataframe\">\n",
       "  <thead>\n",
       "    <tr style=\"text-align: right;\">\n",
       "      <th></th>\n",
       "      <th>Title</th>\n",
       "      <th>Author</th>\n",
       "      <th>Genre</th>\n",
       "      <th>Book_review</th>\n",
       "    </tr>\n",
       "  </thead>\n",
       "  <tbody>\n",
       "    <tr>\n",
       "      <th>0</th>\n",
       "      <td>Super Host</td>\n",
       "      <td>\\nKate Russo\\n</td>\n",
       "      <td>\\nFiction\\n / \\nFamily Drama\\n</td>\n",
       "      <td>In her engrossing and darkly lyrical debut nov...</td>\n",
       "    </tr>\n",
       "    <tr>\n",
       "      <th>1</th>\n",
       "      <td>The Paris Library</td>\n",
       "      <td>\\nJanet Skeslien Charles\\n</td>\n",
       "      <td>\\nFiction\\n / \\nHistorical Fiction\\n</td>\n",
       "      <td>In Super Host, the first novel from Kate Russo...</td>\n",
       "    </tr>\n",
       "    <tr>\n",
       "      <th>2</th>\n",
       "      <td>Anonymouse</td>\n",
       "      <td>\\nVikki VanSickle, Anna Pirolli\\n</td>\n",
       "      <td>\\nChildren's\\n / \\nChildren's Picture Book\\n</td>\n",
       "      <td>One might wonder if anything new can be writte...</td>\n",
       "    </tr>\n",
       "    <tr>\n",
       "      <th>3</th>\n",
       "      <td>The Ratline</td>\n",
       "      <td>\\nPhilippe Sands\\n</td>\n",
       "      <td>\\nNonfiction\\n / \\nBiography\\n / \\nEuropean Hi...</td>\n",
       "      <td>You might think that, if a mouse were to becom...</td>\n",
       "    </tr>\n",
       "    <tr>\n",
       "      <th>4</th>\n",
       "      <td>The Bad Muslim Discount</td>\n",
       "      <td>\\nSyed M. Masood\\n</td>\n",
       "      <td>\\nFiction\\n / \\nComing of Age\\n</td>\n",
       "      <td>In The Ratline: The Exalted Life and Mysteriou...</td>\n",
       "    </tr>\n",
       "  </tbody>\n",
       "</table>\n",
       "</div>"
      ],
      "text/plain": [
       "                     Title                             Author  \\\n",
       "0               Super Host                     \\nKate Russo\\n   \n",
       "1        The Paris Library         \\nJanet Skeslien Charles\\n   \n",
       "2               Anonymouse  \\nVikki VanSickle, Anna Pirolli\\n   \n",
       "3              The Ratline                 \\nPhilippe Sands\\n   \n",
       "4  The Bad Muslim Discount                 \\nSyed M. Masood\\n   \n",
       "\n",
       "                                               Genre  \\\n",
       "0                     \\nFiction\\n / \\nFamily Drama\\n   \n",
       "1               \\nFiction\\n / \\nHistorical Fiction\\n   \n",
       "2       \\nChildren's\\n / \\nChildren's Picture Book\\n   \n",
       "3  \\nNonfiction\\n / \\nBiography\\n / \\nEuropean Hi...   \n",
       "4                    \\nFiction\\n / \\nComing of Age\\n   \n",
       "\n",
       "                                         Book_review  \n",
       "0  In her engrossing and darkly lyrical debut nov...  \n",
       "1  In Super Host, the first novel from Kate Russo...  \n",
       "2  One might wonder if anything new can be writte...  \n",
       "3  You might think that, if a mouse were to becom...  \n",
       "4  In The Ratline: The Exalted Life and Mysteriou...  "
      ]
     },
     "execution_count": 135,
     "metadata": {},
     "output_type": "execute_result"
    }
   ],
   "source": [
    "Books= pd.DataFrame({'Title': Titles, 'Author':author[1:6], \"Genre\":genre[1:6], \"Book_review\":Reviews})\n",
    "Books.head()"
   ]
  },
  {
   "cell_type": "code",
   "execution_count": 136,
   "metadata": {},
   "outputs": [],
   "source": [
    "Books.to_csv('Books.csv')\n"
   ]
  },
  {
   "cell_type": "code",
   "execution_count": null,
   "metadata": {},
   "outputs": [],
   "source": []
  }
 ],
 "metadata": {
  "kernelspec": {
   "display_name": "Python 3",
   "language": "python",
   "name": "python3"
  },
  "language_info": {
   "codemirror_mode": {
    "name": "ipython",
    "version": 3
   },
   "file_extension": ".py",
   "mimetype": "text/x-python",
   "name": "python",
   "nbconvert_exporter": "python",
   "pygments_lexer": "ipython3",
   "version": "3.8.5"
  }
 },
 "nbformat": 4,
 "nbformat_minor": 4
}
